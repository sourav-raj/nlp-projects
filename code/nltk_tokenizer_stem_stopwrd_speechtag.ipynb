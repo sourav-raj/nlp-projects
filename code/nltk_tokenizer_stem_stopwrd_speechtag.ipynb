{
 "cells": [
  {
   "cell_type": "code",
   "execution_count": 1,
   "metadata": {},
   "outputs": [],
   "source": [
    "# -*- coding: utf-8 -*-\n",
    "# Indentation: Jupyter Notebook\n",
    "\n",
    "'''\n",
    "NLTK \n",
    "'''\n",
    "\n",
    "__version__ = 1.0\n",
    "__author__ = \"Sourav Raj\"\n",
    "__author_email__ = \"souravraj.iitbbs@gmail.com\"\n"
   ]
  },
  {
   "cell_type": "code",
   "execution_count": 2,
   "metadata": {},
   "outputs": [],
   "source": [
    "import nltk "
   ]
  },
  {
   "cell_type": "code",
   "execution_count": 4,
   "metadata": {},
   "outputs": [
    {
     "name": "stdout",
     "output_type": "stream",
     "text": [
      "[nltk_data] Error loading state_union: <urlopen error [Errno 10060] A\n",
      "[nltk_data]     connection attempt failed because the connected party\n",
      "[nltk_data]     did not properly respond after a period of time, or\n",
      "[nltk_data]     established connection failed because connected host\n",
      "[nltk_data]     has failed to respond>\n"
     ]
    },
    {
     "data": {
      "text/plain": [
       "False"
      ]
     },
     "execution_count": 4,
     "metadata": {},
     "output_type": "execute_result"
    }
   ],
   "source": [
    "nltk.download('state_union')"
   ]
  },
  {
   "cell_type": "code",
   "execution_count": 5,
   "metadata": {},
   "outputs": [],
   "source": [
    "#tokenizing = word tokenizers.. sentence tokenizer"
   ]
  },
  {
   "cell_type": "code",
   "execution_count": 6,
   "metadata": {
    "collapsed": true
   },
   "outputs": [],
   "source": [
    "#corpora - body of text. ex: medical journals, presidential \n",
    "#speeches, ennglish languauge text\n",
    "# lexicon : words with their meaning\n"
   ]
  },
  {
   "cell_type": "code",
   "execution_count": 7,
   "metadata": {
    "collapsed": true
   },
   "outputs": [],
   "source": [
    "from nltk.tokenize import sent_tokenize, word_tokenize"
   ]
  },
  {
   "cell_type": "code",
   "execution_count": 8,
   "metadata": {
    "collapsed": true
   },
   "outputs": [],
   "source": [
    "example_text = \"Hello there, how are you?  the weather is great and python is awesome. The sky is blue. Hello Mr.Smith\""
   ]
  },
  {
   "cell_type": "code",
   "execution_count": 9,
   "metadata": {},
   "outputs": [
    {
     "name": "stdout",
     "output_type": "stream",
     "text": [
      "['Hello there, how are you?', 'the weather is great and python is awesome.', 'The sky is blue.', 'Hello Mr.Smith']\n"
     ]
    }
   ],
   "source": [
    "print(sent_tokenize(example_text))"
   ]
  },
  {
   "cell_type": "code",
   "execution_count": 10,
   "metadata": {},
   "outputs": [],
   "source": [
    "wrd = word_tokenize(example_text)"
   ]
  },
  {
   "cell_type": "code",
   "execution_count": 11,
   "metadata": {},
   "outputs": [
    {
     "name": "stdout",
     "output_type": "stream",
     "text": [
      "Hello\n",
      "there\n",
      ",\n",
      "how\n",
      "are\n",
      "you\n",
      "?\n",
      "the\n",
      "weather\n",
      "is\n",
      "great\n",
      "and\n",
      "python\n",
      "is\n",
      "awesome\n",
      ".\n",
      "The\n",
      "sky\n",
      "is\n",
      "blue\n",
      ".\n",
      "Hello\n",
      "Mr.Smith\n"
     ]
    }
   ],
   "source": [
    "for i in wrd:\n",
    "    print(i)"
   ]
  },
  {
   "cell_type": "markdown",
   "metadata": {},
   "source": [
    "# Stopwords"
   ]
  },
  {
   "cell_type": "code",
   "execution_count": 12,
   "metadata": {
    "collapsed": true
   },
   "outputs": [],
   "source": [
    "from nltk.corpus import stopwords\n",
    "from nltk.tokenize import word_tokenize"
   ]
  },
  {
   "cell_type": "code",
   "execution_count": 13,
   "metadata": {},
   "outputs": [],
   "source": [
    "example_sentence =\"this is an example showing off stop word filteration\"\n",
    "stop_words = set(stopwords.words(\"english\"))"
   ]
  },
  {
   "cell_type": "code",
   "execution_count": 14,
   "metadata": {},
   "outputs": [
    {
     "name": "stdout",
     "output_type": "stream",
     "text": [
      "set([u'all', u'just', u'being', u'over', u'both', u'through', u'yourselves', u'its', u'before', u'o', u'hadn', u'herself', u'll', u'had', u'should', u'to', u'only', u'won', u'under', u'ours', u'has', u'do', u'them', u'his', u'very', u'they', u'not', u'during', u'now', u'him', u'nor', u'd', u'did', u'didn', u'this', u'she', u'each', u'further', u'where', u'few', u'because', u'doing', u'some', u'hasn', u'are', u'our', u'ourselves', u'out', u'what', u'for', u'while', u're', u'does', u'above', u'between', u'mustn', u't', u'be', u'we', u'who', u'were', u'here', u'shouldn', u'hers', u'by', u'on', u'about', u'couldn', u'of', u'against', u's', u'isn', u'or', u'own', u'into', u'yourself', u'down', u'mightn', u'wasn', u'your', u'from', u'her', u'their', u'aren', u'there', u'been', u'whom', u'too', u'wouldn', u'themselves', u'weren', u'was', u'until', u'more', u'himself', u'that', u'but', u'don', u'with', u'than', u'those', u'he', u'me', u'myself', u'ma', u'these', u'up', u'will', u'below', u'ain', u'can', u'theirs', u'my', u'and', u've', u'then', u'is', u'am', u'it', u'doesn', u'an', u'as', u'itself', u'at', u'have', u'in', u'any', u'if', u'again', u'no', u'when', u'same', u'how', u'other', u'which', u'you', u'shan', u'needn', u'haven', u'after', u'most', u'such', u'why', u'a', u'off', u'i', u'm', u'yours', u'so', u'y', u'the', u'having', u'once'])\n"
     ]
    }
   ],
   "source": [
    "print(stop_words)"
   ]
  },
  {
   "cell_type": "code",
   "execution_count": 15,
   "metadata": {
    "collapsed": true
   },
   "outputs": [],
   "source": [
    "words = word_tokenize(example_sentence)"
   ]
  },
  {
   "cell_type": "code",
   "execution_count": 16,
   "metadata": {
    "collapsed": true
   },
   "outputs": [],
   "source": [
    "filtered_sentence =[]"
   ]
  },
  {
   "cell_type": "code",
   "execution_count": 17,
   "metadata": {
    "collapsed": true
   },
   "outputs": [],
   "source": [
    "for w in words:\n",
    "    if w not in stop_words:\n",
    "        filtered_sentence.append(w)"
   ]
  },
  {
   "cell_type": "code",
   "execution_count": 18,
   "metadata": {},
   "outputs": [
    {
     "data": {
      "text/plain": [
       "['example', 'showing', 'stop', 'word', 'filteration']"
      ]
     },
     "execution_count": 18,
     "metadata": {},
     "output_type": "execute_result"
    }
   ],
   "source": [
    "filtered_sentence"
   ]
  },
  {
   "cell_type": "code",
   "execution_count": 19,
   "metadata": {
    "collapsed": true
   },
   "outputs": [],
   "source": [
    "filtered_sentence = [w for w in words if not w in stop_words]"
   ]
  },
  {
   "cell_type": "markdown",
   "metadata": {},
   "source": [
    "# stemming"
   ]
  },
  {
   "cell_type": "code",
   "execution_count": 20,
   "metadata": {
    "collapsed": true
   },
   "outputs": [],
   "source": [
    "from nltk.stem import PorterStemmer\n",
    "from nltk.tokenize import word_tokenize"
   ]
  },
  {
   "cell_type": "code",
   "execution_count": 21,
   "metadata": {
    "collapsed": true
   },
   "outputs": [],
   "source": [
    "ps = PorterStemmer()"
   ]
  },
  {
   "cell_type": "code",
   "execution_count": 22,
   "metadata": {
    "collapsed": true
   },
   "outputs": [],
   "source": [
    "example_words = [\"python\", \"pythoner\", \"pythoning\", \"pythoned\", \"pythonly\"]"
   ]
  },
  {
   "cell_type": "code",
   "execution_count": 23,
   "metadata": {},
   "outputs": [
    {
     "name": "stdout",
     "output_type": "stream",
     "text": [
      "python\n",
      "python\n",
      "python\n",
      "python\n",
      "pythonli\n"
     ]
    }
   ],
   "source": [
    "for w in example_words:\n",
    "    print(ps.stem(w))"
   ]
  },
  {
   "cell_type": "code",
   "execution_count": 24,
   "metadata": {
    "collapsed": true
   },
   "outputs": [],
   "source": [
    "new_text = \"it is very important to be pythonly while you are pythoning with python. All pythoners have python poorly at least once.\""
   ]
  },
  {
   "cell_type": "code",
   "execution_count": 25,
   "metadata": {},
   "outputs": [
    {
     "name": "stdout",
     "output_type": "stream",
     "text": [
      "it\n",
      "is\n",
      "veri\n",
      "import\n",
      "to\n",
      "be\n",
      "pythonli\n",
      "while\n",
      "you\n",
      "are\n",
      "python\n",
      "with\n",
      "python\n",
      ".\n",
      "all\n",
      "python\n",
      "have\n",
      "python\n",
      "poorli\n",
      "at\n",
      "least\n",
      "onc\n",
      ".\n"
     ]
    }
   ],
   "source": [
    "words = word_tokenize(new_text)\n",
    "for w in words:\n",
    "    print(ps.stem(w))"
   ]
  },
  {
   "cell_type": "markdown",
   "metadata": {},
   "source": [
    "# Speech Tagging"
   ]
  },
  {
   "cell_type": "code",
   "execution_count": 26,
   "metadata": {
    "collapsed": true
   },
   "outputs": [],
   "source": [
    "from nltk.corpus import state_union\n",
    "from nltk.tokenize import PunktSentenceTokenizer"
   ]
  },
  {
   "cell_type": "code",
   "execution_count": 27,
   "metadata": {
    "collapsed": true
   },
   "outputs": [],
   "source": [
    "train_text = state_union.raw(\"2005-GWBush.txt\")"
   ]
  },
  {
   "cell_type": "code",
   "execution_count": 28,
   "metadata": {},
   "outputs": [],
   "source": [
    "sample_text = state_union.raw(\"2006-GWBush.txt\")"
   ]
  },
  {
   "cell_type": "code",
   "execution_count": 29,
   "metadata": {},
   "outputs": [
    {
     "name": "stdout",
     "output_type": "stream",
     "text": [
      "0.0402097902098 0.0735785953177 0.0383693045564 5720 299 230 22\n",
      "0.000174825174825 0.00334448160535 0.0 5720 299 1 1\n",
      "0.00437062937063 0.00334448160535 0.00442722744881 5720 299 25 1\n",
      "0.000699300699301 0.00334448160535 0.000553403431101 5720 299 4 1\n",
      "0.0013986013986 0.00334448160535 0.00129127467257 5720 299 8 1\n",
      "0.0171328671329 0.0401337792642 0.0158642316916 5720 299 98 12\n",
      "0.00122377622378 0.0066889632107 0.000922339051835 5720 299 7 2\n",
      "0.00384615384615 0.0066889632107 0.00368935620734 5720 299 22 2\n",
      "0.00157342657343 0.00334448160535 0.00147574248294 5720 299 9 1\n",
      "0.000874125874126 0.0066889632107 0.000553403431101 5720 299 5 2\n",
      "0.00314685314685 0.0133779264214 0.00258254934514 5720 299 18 4\n",
      "0.00244755244755 0.0066889632107 0.00221361372441 5720 299 14 2\n",
      "0.00192307692308 0.00334448160535 0.00184467810367 5720 299 11 1\n",
      "0.00157342657343 0.00334448160535 0.00147574248294 5720 299 9 1\n",
      "0.0138111888112 0.0200668896321 0.0134661501568 5720 299 79 6\n",
      "0.00034965034965 0.00334448160535 0.000184467810367 5720 299 2 1\n",
      "0.00227272727273 0.00334448160535 0.00221361372441 5720 299 13 1\n",
      "0.00122377622378 0.0167224080268 0.000368935620734 5720 299 7 5\n",
      "0.00244755244755 0.0167224080268 0.0016602102933 5720 299 14 5\n",
      "0.000174825174825 0.00334448160535 0.0 5720 299 1 1\n",
      "0.000874125874126 0.0066889632107 0.000553403431101 5720 299 5 2\n",
      "0.00996503496503 0.0066889632107 0.0101457295702 5720 299 57 2\n",
      "0.0013986013986 0.00334448160535 0.00129127467257 5720 299 8 1\n",
      "0.000174825174825 0.00334448160535 0.0 5720 299 1 1\n",
      "0.000874125874126 0.0066889632107 0.000553403431101 5720 299 5 2\n",
      "0.000174825174825 0.00334448160535 0.0 5720 299 1 1\n",
      "0.000524475524476 0.00334448160535 0.000368935620734 5720 299 3 1\n",
      "0.00034965034965 0.0066889632107 0.0 5720 299 2 2\n",
      "0.0295454545455 0.0066889632107 0.0308061243313 5720 299 169 2\n",
      "0.0131118881119 0.0100334448161 0.0132816823464 5720 299 75 3\n",
      "0.000174825174825 0.00334448160535 0.0 5720 299 1 1\n",
      "0.00437062937063 0.00334448160535 0.00442722744881 5720 299 25 1\n",
      "0.0162587412587 0.0802675585284 0.0127282789153 5720 299 93 24\n",
      "0.00034965034965 0.00334448160535 0.000184467810367 5720 299 2 1\n",
      "0.000174825174825 0.00334448160535 0.0 5720 299 1 1\n",
      "0.00244755244755 0.00334448160535 0.00239808153477 5720 299 14 1\n",
      "0.00157342657343 0.0066889632107 0.00129127467257 5720 299 9 2\n",
      "0.0013986013986 0.00334448160535 0.00129127467257 5720 299 8 1\n",
      "0.00314685314685 0.00334448160535 0.00313595277624 5720 299 18 1\n",
      "0.000524475524476 0.0066889632107 0.000184467810367 5720 299 3 2\n",
      "0.0034965034965 0.00334448160535 0.00350488839697 5720 299 20 1\n",
      "0.00611888111888 0.00334448160535 0.00627190555248 5720 299 35 1\n",
      "0.00524475524476 0.0066889632107 0.00516509869028 5720 299 30 2\n",
      "0.00104895104895 0.00334448160535 0.000922339051835 5720 299 6 1\n",
      "0.0155594405594 0.00334448160535 0.0162331673123 5720 299 89 1\n",
      "0.00227272727273 0.00334448160535 0.00221361372441 5720 299 13 1\n",
      "0.00297202797203 0.00334448160535 0.00295148496587 5720 299 17 1\n",
      "0.000699300699301 0.00334448160535 0.000553403431101 5720 299 4 1\n",
      "0.00594405594406 0.0267558528428 0.00479616306954 5720 299 34 8\n",
      "0.00034965034965 0.00334448160535 0.000184467810367 5720 299 2 1\n",
      "0.00262237762238 0.0100334448161 0.00221361372441 5720 299 15 3\n",
      "0.00104895104895 0.0133779264214 0.000368935620734 5720 299 6 4\n",
      "0.00314685314685 0.0066889632107 0.00295148496587 5720 299 18 2\n",
      "0.00104895104895 0.00334448160535 0.000922339051835 5720 299 6 1\n",
      "0.000174825174825 0.00334448160535 0.0 5720 299 1 1\n",
      "0.0449300699301 0.0434782608696 0.0450101457296 5720 299 257 13\n"
     ]
    }
   ],
   "source": [
    "custom_sent_tokenizer = PunktSentenceTokenizer(train_text)"
   ]
  },
  {
   "cell_type": "code",
   "execution_count": 30,
   "metadata": {
    "collapsed": true
   },
   "outputs": [],
   "source": [
    "tokenized = custom_sent_tokenizer.tokenize(sample_text)"
   ]
  },
  {
   "cell_type": "code",
   "execution_count": 31,
   "metadata": {},
   "outputs": [
    {
     "data": {
      "text/plain": [
       "[u\"PRESIDENT GEORGE W. BUSH'S ADDRESS BEFORE A JOINT SESSION OF THE CONGRESS ON THE STATE OF THE UNION\\n \\nJanuary 31, 2006\\n\\nTHE PRESIDENT: Thank you all.\",\n",
       " u'Mr. Speaker, Vice President Cheney, members of Congress, members of the Supreme Court and diplomatic corps, distinguished guests, and fellow citizens: Today our nation lost a beloved, graceful, courageous woman who called America to its founding ideals and carried on a noble dream.',\n",
       " u'Tonight we are comforted by the hope of a glad reunion with the husband who was taken so long ago, and we are grateful for the good life of Coretta Scott King.',\n",
       " u'(Applause.)',\n",
       " u'President George W. Bush reacts to applause during his State of the Union Address at the Capitol, Tuesday, Jan.',\n",
       " u'31, 2006.',\n",
       " u\"White House photo by Eric DraperEvery time I'm invited to this rostrum, I'm humbled by the privilege, and mindful of the history we've seen together.\",\n",
       " u'We have gathered under this Capitol dome in moments of national mourning and national achievement.',\n",
       " u'We have served America through one of the most consequential periods of our history -- and it has been my honor to serve with you.',\n",
       " u'In a system of two parties, two chambers, and two elected branches, there will always be differences and debate.',\n",
       " u'But even tough debates can be conducted in a civil tone, and our differences cannot be allowed to harden into anger.',\n",
       " u'To confront the great issues before us, we must act in a spirit of goodwill and respect for one another -- and I will do my part.',\n",
       " u'Tonight the state of our Union is strong -- and together we will make it stronger.',\n",
       " u'(Applause.)',\n",
       " u'In this decisive year, you and I will make choices that determine both the future and the character of our country.',\n",
       " u'We will choose to act confidently in pursuing the enemies of freedom -- or retreat from our duties in the hope of an easier life.',\n",
       " u'We will choose to build our prosperity by leading the world economy -- or shut ourselves off from trade and opportunity.',\n",
       " u'In a complex and challenging time, the road of isolationism and protectionism may seem broad and inviting -- yet it ends in danger and decline.',\n",
       " u'The only way to protect our people, the only way to secure the peace, the only way to control our destiny is by our leadership -- so the United States of America will continue to lead.',\n",
       " u'(Applause.)',\n",
       " u'Abroad, our nation is committed to an historic, long-term goal -- we seek the end of tyranny in our world.',\n",
       " u'Some dismiss that goal as misguided idealism.',\n",
       " u'In reality, the future security of America depends on it.',\n",
       " u'On September the 11th, 2001, we found that problems originating in a failed and oppressive state 7,000 miles away could bring murder and destruction to our country.',\n",
       " u'Dictatorships shelter terrorists, and feed resentment and radicalism, and seek weapons of mass destruction.',\n",
       " u'Democracies replace resentment with hope, respect the rights of their citizens and their neighbors, and join the fight against terror.',\n",
       " u\"Every step toward freedom in the world makes our country safer -- so we will act boldly in freedom's cause.\",\n",
       " u'(Applause.)',\n",
       " u'Far from being a hopeless dream, the advance of freedom is the great story of our time.',\n",
       " u'In 1945, there were about two dozen lonely democracies in the world.',\n",
       " u'Today, there are 122.',\n",
       " u\"And we're writing a new chapter in the story of self-government -- with women lining up to vote in Afghanistan, and millions of Iraqis marking their liberty with purple ink, and men and women from Lebanon to Egypt debating the rights of individuals and the necessity of freedom.\",\n",
       " u'At the start of 2006, more than half the people of our world live in democratic nations.',\n",
       " u'And we do not forget the other half -- in places like Syria and Burma, Zimbabwe, North Korea, and Iran -- because the demands of justice, and the peace of this world, require their freedom, as well.',\n",
       " u'(Applause.)',\n",
       " u'President George W. Bush delivers his State of the Union Address at the Capitol, Tuesday, Jan.',\n",
       " u'31, 2006.',\n",
       " u'White House photo by Eric Draper No one can deny the success of freedom, but some men rage and fight against it.',\n",
       " u'And one of the main sources of reaction and opposition is radical Islam -- the perversion by a few of a noble faith into an ideology of terror and death.',\n",
       " u'Terrorists like bin Laden are serious about mass murder -- and all of us must take their declared intentions seriously.',\n",
       " u'They seek to impose a heartless system of totalitarian control throughout the Middle East, and arm themselves with weapons of mass murder.',\n",
       " u'Their aim is to seize power in Iraq, and use it as a safe haven to launch attacks against America and the world.',\n",
       " u'Lacking the military strength to challenge us directly, the terrorists have chosen the weapon of fear.',\n",
       " u'When they murder children at a school in Beslan, or blow up commuters in London, or behead a bound captive, the terrorists hope these horrors will break our will, allowing the violent to inherit the Earth.',\n",
       " u'But they have miscalculated: We love our freedom, and we will fight to keep it.',\n",
       " u'(Applause.)',\n",
       " u'In a time of testing, we cannot find security by abandoning our commitments and retreating within our borders.',\n",
       " u'If we were to leave these vicious attackers alone, they would not leave us alone.',\n",
       " u'They would simply move the battlefield to our own shores.',\n",
       " u'There is no peace in retreat.',\n",
       " u'And there is no honor in retreat.',\n",
       " u'By allowing radical Islam to work its will -- by leaving an assaulted world to fend for itself -- we would signal to all that we no longer believe in our own ideals, or even in our own courage.',\n",
       " u'But our enemies and our friends can be certain: The United States will not retreat from the world, and we will never surrender to evil.',\n",
       " u'(Applause.)',\n",
       " u'America rejects the false comfort of isolationism.',\n",
       " u'We are the nation that saved liberty in Europe, and liberated death camps, and helped raise up democracies, and faced down an evil empire.',\n",
       " u'Once again, we accept the call of history to deliver the oppressed and move this world toward peace.',\n",
       " u'We remain on the offensive against terror networks.',\n",
       " u'We have killed or captured many of their leaders -- and for the others, their day will come.',\n",
       " u'President George W. Bush greets members of Congress after his State of the Union Address at the Capitol, Tuesday, Jan.',\n",
       " u'31, 2006.',\n",
       " u'White House photo by Eric Draper We remain on the offensive in Afghanistan, where a fine President and a National Assembly are fighting terror while building the institutions of a new democracy.',\n",
       " u\"We're on the offensive in Iraq, with a clear plan for victory.\",\n",
       " u\"First, we're helping Iraqis build an inclusive government, so that old resentments will be eased and the insurgency will be marginalized.\",\n",
       " u\"Second, we're continuing reconstruction efforts, and helping the Iraqi government to fight corruption and build a modern economy, so all Iraqis can experience the benefits of freedom.\",\n",
       " u\"And, third, we're striking terrorist targets while we train Iraqi forces that are increasingly capable of defeating the enemy.\",\n",
       " u'Iraqis are showing their courage every day, and we are proud to be their allies in the cause of freedom.',\n",
       " u'(Applause.)',\n",
       " u'Our work in Iraq is difficult because our enemy is brutal.',\n",
       " u'But that brutality has not stopped the dramatic progress of a new democracy.',\n",
       " u'In less than three years, the nation has gone from dictatorship to liberation, to sovereignty, to a constitution, to national elections.',\n",
       " u'At the same time, our coalition has been relentless in shutting off terrorist infiltration, clearing out insurgent strongholds, and turning over territory to Iraqi security forces.',\n",
       " u'I am confident in our plan for victory; I am confident in the will of the Iraqi people; I am confident in the skill and spirit of our military.',\n",
       " u'Fellow citizens, we are in this fight to win, and we are winning.',\n",
       " u'(Applause.)',\n",
       " u'The road of victory is the road that will take our troops home.',\n",
       " u'As we make progress on the ground, and Iraqi forces increasingly take the lead, we should be able to further decrease our troop levels -- but those decisions will be made by our military commanders, not by politicians in Washington, D.C.',\n",
       " u'(Applause.)',\n",
       " u'Our coalition has learned from our experience in Iraq.',\n",
       " u\"We've adjusted our military tactics and changed our approach to reconstruction.\",\n",
       " u'Along the way, we have benefitted from responsible criticism and counsel offered by members of Congress of both parties.',\n",
       " u'In the coming year, I will continue to reach out and seek your good advice.',\n",
       " u'Yet, there is a difference between responsible criticism that aims for success, and defeatism that refuses to acknowledge anything but failure.',\n",
       " u'(Applause.)',\n",
       " u'Hindsight alone is not wisdom, and second-guessing is not a strategy.',\n",
       " u'(Applause.)',\n",
       " u'With so much in the balance, those of us in public office have a duty to speak with candor.',\n",
       " u'A sudden withdrawal of our forces from Iraq would abandon our Iraqi allies to death and prison, would put men like bin Laden and Zarqawi in charge of a strategic country, and show that a pledge from America means little.',\n",
       " u'Members of Congress, however we feel about the decisions and debates of the past, our nation has only one option: We must keep our word, defeat our enemies, and stand behind the American military in this vital mission.',\n",
       " u'(Applause.)',\n",
       " u'Laura Bush is applauded as she is introduced Tuesday evening, Jan.',\n",
       " u'31, 2006 during the State of the Union Address at United States Capitol in Washington.',\n",
       " u'White House photo by Eric Draper Our men and women in uniform are making sacrifices -- and showing a sense of duty stronger than all fear.',\n",
       " u\"They know what it's like to fight house to house in a maze of streets, to wear heavy gear in the desert heat, to see a comrade killed by a roadside bomb.\",\n",
       " u'And those who know the costs also know the stakes.',\n",
       " u'Marine Staff Sergeant Dan Clay was killed last month fighting in Fallujah.',\n",
       " u'He left behind a letter to his family, but his words could just as well be addressed to every American.',\n",
       " u'Here is what Dan wrote: \"I know what honor is.',\n",
       " u'... It has been an honor to protect and serve all of you.',\n",
       " u'I faced death with the secure knowledge that you would not have to....',\n",
       " u'Never falter!',\n",
       " u'Don\\'t hesitate to honor and support those of us who have the honor of protecting that which is worth protecting.\"',\n",
       " u\"Staff Sergeant Dan Clay's wife, Lisa, and his mom and dad, Sara Jo and Bud, are with us this evening.\",\n",
       " u'Welcome.',\n",
       " u'(Applause.)',\n",
       " u'Our nation is grateful to the fallen, who live in the memory of our country.',\n",
       " u\"We're grateful to all who volunteer to wear our nation's uniform -- and as we honor our brave troops, let us never forget the sacrifices of America's military families.\",\n",
       " u'(Applause.)',\n",
       " u'Our offensive against terror involves more than military action.',\n",
       " u'Ultimately, the only way to defeat the terrorists is to defeat their dark vision of hatred and fear by offering the hopeful alternative of political freedom and peaceful change.',\n",
       " u'So the United States of America supports democratic reform across the broader Middle East.',\n",
       " u'Elections are vital, but they are only the beginning.',\n",
       " u'Raising up a democracy requires the rule of law, and protection of minorities, and strong, accountable institutions that last longer than a single vote.',\n",
       " u'The great people of Egypt have voted in a multi-party presidential election -- and now their government should open paths of peaceful opposition that will reduce the appeal of radicalism.',\n",
       " u'The Palestinian people have voted in elections.',\n",
       " u'And now the leaders of Hamas must recognize Israel, disarm, reject terrorism, and work for lasting peace.',\n",
       " u'(Applause.)',\n",
       " u'Saudi Arabia has taken the first steps of reform -- now it can offer its people a better future by pressing forward with those efforts.',\n",
       " u'Democracies in the Middle East will not look like our own, because they will reflect the traditions of their own citizens.',\n",
       " u'Yet liberty is the future of every nation in the Middle East, because liberty is the right and hope of all humanity.',\n",
       " u'(Applause.)',\n",
       " u'President George W. Bush waves toward the upper visitors gallery of the House Chamber following his State of the Union remarks Tuesday, Jan.',\n",
       " u'31, 2006 at the United States Capitol.',\n",
       " u'White House photo by Eric Draper The same is true of Iran, a nation now held hostage by a small clerical elite that is isolating and repressing its people.',\n",
       " u'The regime in that country sponsors terrorists in the Palestinian territories and in Lebanon -- and that must come to an end.',\n",
       " u'(Applause.)',\n",
       " u'The Iranian government is defying the world with its nuclear ambitions, and the nations of the world must not permit the Iranian regime to gain nuclear weapons.',\n",
       " u'(Applause.)',\n",
       " u'America will continue to rally the world to confront these threats.',\n",
       " u'Tonight, let me speak directly to the citizens of Iran: America respects you, and we respect your country.',\n",
       " u'We respect your right to choose your own future and win your own freedom.',\n",
       " u'And our nation hopes one day to be the closest of friends with a free and democratic Iran.',\n",
       " u'(Applause.)',\n",
       " u'To overcome dangers in our world, we must also take the offensive by encouraging economic progress, and fighting disease, and spreading hope in hopeless lands.',\n",
       " u'Isolationism would not only tie our hands in fighting enemies, it would keep us from helping our friends in desperate need.',\n",
       " u'We show compassion abroad because Americans believe in the God-given dignity and worth of a villager with HIV/AIDS, or an infant with malaria, or a refugee fleeing genocide, or a young girl sold into slavery.',\n",
       " u'We also show compassion abroad because regions overwhelmed by poverty, corruption, and despair are sources of terrorism, and organized crime, and human trafficking, and the drug trade.',\n",
       " u'In recent years, you and I have taken unprecedented action to fight AIDS and malaria, expand the education of girls, and reward developing nations that are moving forward with economic and political reform.',\n",
       " u'For people everywhere, the United States is a partner for a better life.',\n",
       " u'Short-changing these efforts would increase the suffering and chaos of our world, undercut our long-term security, and dull the conscience of our country.',\n",
       " u'I urge members of Congress to serve the interests of America by showing the compassion of America.',\n",
       " u'Our country must also remain on the offensive against terrorism here at home.',\n",
       " u'The enemy has not lost the desire or capability to attack us.',\n",
       " u'Fortunately, this nation has superb professionals in law enforcement, intelligence, the military, and homeland security.',\n",
       " u'These men and women are dedicating their lives, protecting us all, and they deserve our support and our thanks.',\n",
       " u'(Applause.)',\n",
       " u'They also deserve the same tools they already use to fight drug trafficking and organized crime -- so I ask you to reauthorize the Patriot Act.',\n",
       " u'(Applause.)',\n",
       " u'It is said that prior to the attacks of September the 11th, our government failed to connect the dots of the conspiracy.',\n",
       " u'We now know that two of the hijackers in the United States placed telephone calls to al Qaeda operatives overseas.',\n",
       " u'But we did not know about their plans until it was too late.',\n",
       " u'So to prevent another attack -- based on authority given to me by the Constitution and by statute -- I have authorized a terrorist surveillance program to aggressively pursue the international communications of suspected al Qaeda operatives and affiliates to and from America.',\n",
       " u'Previous Presidents have used the same constitutional authority I have, and federal courts have approved the use of that authority.',\n",
       " u'Appropriate members of Congress have been kept informed.',\n",
       " u'The terrorist surveillance program has helped prevent terrorist attacks.',\n",
       " u'It remains essential to the security of America.',\n",
       " u'If there are people inside our country who are talking with al Qaeda, we want to know about it, because we will not sit back and wait to be hit again.',\n",
       " u'(Applause.)',\n",
       " u'In all these areas -- from the disruption of terror networks, to victory in Iraq, to the spread of freedom and hope in troubled regions -- we need the support of our friends and allies.',\n",
       " u'To draw that support, we must always be clear in our principles and willing to act.',\n",
       " u'The only alternative to American leadership is a dramatically more dangerous and anxious world.',\n",
       " u'Yet we also choose to lead because it is a privilege to serve the values that gave us birth.',\n",
       " u'American leaders -- from Roosevelt to Truman to Kennedy to Reagan -- rejected isolation and retreat, because they knew that America is always more secure when freedom is on the march.',\n",
       " u'Our own generation is in a long war against a determined enemy -- a war that will be fought by Presidents of both parties, who will need steady bipartisan support from the Congress.',\n",
       " u'And tonight I ask for yours.',\n",
       " u'Together, let us protect our country, support the men and women who defend us, and lead this world toward freedom.',\n",
       " u'(Applause.)',\n",
       " u'Here at home, America also has a great opportunity: We will build the prosperity of our country by strengthening our economic leadership in the world.',\n",
       " u'Our economy is healthy and vigorous, and growing faster than other major industrialized nations.',\n",
       " u'In the last two-and-a-half years, America has created 4.6 million new jobs -- more than Japan and the European Union combined.',\n",
       " u'(Applause.)',\n",
       " u'Even in the face of higher energy prices and natural disasters, the American people have turned in an economic performance that is the envy of the world.',\n",
       " u'The American economy is preeminent, but we cannot afford to be complacent.',\n",
       " u\"In a dynamic world economy, we are seeing new competitors, like China and India, and this creates uncertainty, which makes it easier to feed people's fears.\",\n",
       " u\"So we're seeing some old temptations return.\",\n",
       " u'Protectionists want to escape competition, pretending that we can keep our high standard of living while walling off our economy.',\n",
       " u'Others say that the government needs to take a larger role in directing the economy, centralizing more power in Washington and increasing taxes.',\n",
       " u'We hear claims that immigrants are somehow bad for the economy -- even though this economy could not function without them.',\n",
       " u'(Applause.)',\n",
       " u'All these are forms of economic retreat, and they lead in the same direction -- toward a stagnant and second-rate economy.',\n",
       " u'Tonight I will set out a better path: an agenda for a nation that competes with confidence; an agenda that will raise standards of living and generate new jobs.',\n",
       " u'Americans should not fear our economic future, because we intend to shape it.',\n",
       " u'Keeping America competitive begins with keeping our economy growing.',\n",
       " u'And our economy grows when Americans have more of their own money to spend, save, and invest.',\n",
       " u'In the last five years, the tax relief you passed has left $880 billion in the hands of American workers, investors, small businesses, and families -- and they have used it to help produce more than four years of uninterrupted economic growth.',\n",
       " u'(Applause.)',\n",
       " u'Yet the tax relief is set to expire in the next few years.',\n",
       " u'If we do nothing, American families will face a massive tax increase they do not expect and will not welcome.',\n",
       " u'Because America needs more than a temporary expansion, we need more than temporary tax relief.',\n",
       " u'I urge the Congress to act responsibly, and make the tax cuts permanent.',\n",
       " u'(Applause.)',\n",
       " u'Keeping America competitive requires us to be good stewards of tax dollars.',\n",
       " u\"Every year of my presidency, we've reduced the growth of non-security discretionary spending, and last year you passed bills that cut this spending.\",\n",
       " u'This year my budget will cut it again, and reduce or eliminate more than 140 programs that are performing poorly or not fulfilling essential priorities.',\n",
       " u'By passing these reforms, we will save the American taxpayer another $14 billion next year, and stay on track to cut the deficit in half by 2009.',\n",
       " u'(Applause.)',\n",
       " u'I am pleased that members of Congress are working on earmark reform, because the federal budget has too many special interest projects.',\n",
       " u'(Applause.)',\n",
       " u'And we can tackle this problem together, if you pass the line-item veto.',\n",
       " u'(Applause.)',\n",
       " u'We must also confront the larger challenge of mandatory spending, or entitlements.',\n",
       " u\"This year, the first of about 78 million baby boomers turn 60, including two of my Dad's favorite people -- me and President Clinton.\",\n",
       " u'(Laughter.)',\n",
       " u'This milestone is more than a personal crisis -- (laughter) -- it is a national challenge.',\n",
       " u'The retirement of the baby boom generation will put unprecedented strains on the federal government.',\n",
       " u'By 2030, spending for Social Security, Medicare and Medicaid alone will be almost 60 percent of the entire federal budget.',\n",
       " u'And that will present future Congresses with impossible choices -- staggering tax increases, immense deficits, or deep cuts in every category of spending.',\n",
       " u'Congress did not act last year on my proposal to save Social Security -- (applause) -- yet the rising cost of entitlements is a problem that is not going away.',\n",
       " u'(Applause.)',\n",
       " u'And every year we fail to act, the situation gets worse.',\n",
       " u'So tonight, I ask you to join me in creating a commission to examine the full impact of baby boom retirements on Social Security, Medicare, and Medicaid.',\n",
       " u'This commission should include members of Congress of both parties, and offer bipartisan solutions.',\n",
       " u'We need to put aside partisan politics and work together and get this problem solved.',\n",
       " u'(Applause.)',\n",
       " u'Keeping America competitive requires us to open more markets for all that Americans make and grow.',\n",
       " u'One out of every five factory jobs in America is related to global trade, and we want people everywhere to buy American.',\n",
       " u'With open markets and a level playing field, no one can out-produce or out-compete the American worker.',\n",
       " u'(Applause.)',\n",
       " u'Keeping America competitive requires an immigration system that upholds our laws, reflects our values, and serves the interests of our economy.',\n",
       " u'Our nation needs orderly and secure borders.',\n",
       " u'(Applause.)',\n",
       " u'To meet this goal, we must have stronger immigration enforcement and border protection.',\n",
       " u'(Applause.)',\n",
       " u'And we must have a rational, humane guest worker program that rejects amnesty, allows temporary jobs for people who seek them legally, and reduces smuggling and crime at the border.',\n",
       " u'(Applause.)',\n",
       " u'Keeping America competitive requires affordable health care.',\n",
       " u'(Applause.)',\n",
       " u'Our government has a responsibility to provide health care for the poor and the elderly, and we are meeting that responsibility.',\n",
       " u'(Applause.)',\n",
       " u'For all Americans -- for all Americans, we must confront the rising cost of care, strengthen the doctor-patient relationship, and help people afford the insurance coverage they need.',\n",
       " u'(Applause.)',\n",
       " u'We will make wider use of electronic records and other health information technology, to help control costs and reduce dangerous medical errors.',\n",
       " u'We will strengthen health savings accounts -- making sure individuals and small business employees can buy insurance with the same advantages that people working for big businesses now get.',\n",
       " u'(Applause.)',\n",
       " u'We will do more to make this coverage portable, so workers can switch jobs without having to worry about losing their health insurance.',\n",
       " u'(Applause.)',\n",
       " u'And because lawsuits are driving many good doctors out of practice -- leaving women in nearly 1,500 American counties without a single OB/GYN -- I ask the Congress to pass medical liability reform this year.',\n",
       " u'(Applause.)',\n",
       " u'Keeping America competitive requires affordable energy.',\n",
       " u'And here we have a serious problem: America is addicted to oil, which is often imported from unstable parts of the world.',\n",
       " u'The best way to break this addiction is through technology.',\n",
       " u'Since 2001, we have spent nearly $10 billion to develop cleaner, cheaper, and more reliable alternative energy sources -- and we are on the threshold of incredible advances.',\n",
       " u'So tonight, I announce the Advanced Energy Initiative -- a 22-percent increase in clean-energy research -- at the Department of Energy, to push for breakthroughs in two vital areas.',\n",
       " u'To change how we power our homes and offices, we will invest more in zero-emission coal-fired plants, revolutionary solar and wind technologies, and clean, safe nuclear energy.',\n",
       " u'(Applause.)',\n",
       " u'We must also change how we power our automobiles.',\n",
       " u'We will increase our research in better batteries for hybrid and electric cars, and in pollution-free cars that run on hydrogen.',\n",
       " u\"We'll also fund additional research in cutting-edge methods of producing ethanol, not just from corn, but from wood chips and stalks, or switch grass.\",\n",
       " u'Our goal is to make this new kind of ethanol practical and competitive within six years.',\n",
       " u'(Applause.)',\n",
       " u'Breakthroughs on this and other new technologies will help us reach another great goal: to replace more than 75 percent of our oil imports from the Middle East by 2025.',\n",
       " u'(Applause.)',\n",
       " u'By applying the talent and technology of America, this country can dramatically improve our environment, move beyond a petroleum-based economy, and make our dependence on Middle Eastern oil a thing of the past.',\n",
       " u'(Applause.)',\n",
       " u'And to keep America competitive, one commitment is necessary above all: We must continue to lead the world in human talent and creativity.',\n",
       " u\"Our greatest advantage in the world has always been our educated, hardworking, ambitious people -- and we're going to keep that edge.\",\n",
       " u\"Tonight I announce an American Competitiveness Initiative, to encourage innovation throughout our economy, and to give our nation's children a firm grounding in math and science.\",\n",
       " u'(Applause.)',\n",
       " u'First, I propose to double the federal commitment to the most critical basic research programs in the physical sciences over the next 10 years.',\n",
       " u\"This funding will support the work of America's most creative minds as they explore promising areas such as nanotechnology, supercomputing, and alternative energy sources.\",\n",
       " u'Second, I propose to make permanent the research and development tax credit -- (applause) -- to encourage bolder private-sector initiatives in technology.',\n",
       " u'With more research in both the public and private sectors, we will improve our quality of life -- and ensure that America will lead the world in opportunity and innovation for decades to come.',\n",
       " u'(Applause.)',\n",
       " u'Third, we need to encourage children to take more math and science, and to make sure those courses are rigorous enough to compete with other nations.',\n",
       " u\"We've made a good start in the early grades with the No Child Left Behind Act, which is raising standards and lifting test scores across our country.\",\n",
       " u'Tonight I propose to train 70,000 high school teachers to lead advanced-placement courses in math and science, bring 30,000 math and science professionals to teach in classrooms, and give early help to students who struggle with math, so they have a better chance at good, high-wage jobs.',\n",
       " u\"If we ensure that America's children succeed in life, they will ensure that America succeeds in the world.\",\n",
       " u'(Applause.)',\n",
       " u'Preparing our nation to compete in the world is a goal that all of us can share.',\n",
       " u'I urge you to support the American Competitiveness Initiative, and together we will show the world what the American people can achieve.',\n",
       " u'America is a great force for freedom and prosperity.',\n",
       " u'Yet our greatness is not measured in power or luxuries, but by who we are and how we treat one another.',\n",
       " u'So we strive to be a compassionate, decent, hopeful society.',\n",
       " u'In recent years, America has become a more hopeful nation.',\n",
       " u'Violent crime rates have fallen to their lowest levels since the 1970s.',\n",
       " u'Welfare cases have dropped by more than half over the past decade.',\n",
       " u'Drug use among youth is down 19 percent since 2001.',\n",
       " u'There are fewer abortions in America than at any point in the last three decades, and the number of children born to teenage mothers has been falling for a dozen years in a row.',\n",
       " u'(Applause.)',\n",
       " u'These gains are evidence of a quiet transformation -- a revolution of conscience, in which a rising generation is finding that a life of personal responsibility is a life of fulfillment.',\n",
       " u'Government has played a role.',\n",
       " u'Wise policies, such as welfare reform and drug education and support for abstinence and adoption have made a difference in the character of our country.',\n",
       " u'And everyone here tonight, Democrat and Republican, has a right to be proud of this record.',\n",
       " u'(Applause.)',\n",
       " u'Yet many Americans, especially parents, still have deep concerns about the direction of our culture, and the health of our most basic institutions.',\n",
       " u\"They're concerned about unethical conduct by public officials, and discouraged by activist courts that try to redefine marriage.\",\n",
       " u'They worry about children in our society who need direction and love, and about fellow citizens still displaced by natural disaster, and about suffering caused by treatable diseases.',\n",
       " u'As we look at these challenges, we must never give in to the belief that America is in decline, or that our culture is doomed to unravel.',\n",
       " u'The American people know better than that.',\n",
       " u'We have proven the pessimists wrong before -- and we will do it again.',\n",
       " u'(Applause.)',\n",
       " u'A hopeful society depends on courts that deliver equal justice under the law.',\n",
       " u'The Supreme Court now has two superb new members -- new members on its bench: Chief Justice John Roberts and Justice Sam Alito.',\n",
       " u'(Applause.)',\n",
       " u'I thank the Senate for confirming both of them.',\n",
       " u'I will continue to nominate men and women who understand that judges must be servants of the law, and not legislate from the bench.',\n",
       " u'(Applause.)',\n",
       " u'Today marks the official retirement of a very special American.',\n",
       " u\"For 24 years of faithful service to our nation, the United States is grateful to Justice Sandra Day O'Connor.\",\n",
       " u'(Applause.)',\n",
       " u'A hopeful society has institutions of science and medicine that do not cut ethical corners, and that recognize the matchless value of every life.',\n",
       " u'Tonight I ask you to pass legislation to prohibit the most egregious abuses of medical research: human cloning in all its forms, creating or implanting embryos for experiments, creating human-animal hybrids, and buying, selling, or patenting human embryos.',\n",
       " u'Human life is a gift from our Creator -- and that gift should never be discarded, devalued or put up for sale.',\n",
       " u'(Applause.)',\n",
       " u'A hopeful society expects elected officials to uphold the public trust.',\n",
       " u'(Applause.)',\n",
       " u'Honorable people in both parties are working on reforms to strengthen the ethical standards of Washington -- I support your efforts.',\n",
       " u'Each of us has made a pledge to be worthy of public responsibility -- and that is a pledge we must never forget, never dismiss, and never betray.',\n",
       " u'(Applause.)',\n",
       " u'As we renew the promise of our institutions, let us also show the character of America in our compassion and care for one another.',\n",
       " u'A hopeful society gives special attention to children who lack direction and love.',\n",
       " u\"Through the Helping America's Youth Initiative, we are encouraging caring adults to get involved in the life of a child -- and this good work is being led by our First Lady, Laura Bush.\",\n",
       " u'(Applause.)',\n",
       " u\"This year we will add resources to encourage young people to stay in school, so more of America's youth can raise their sights and achieve their dreams.\",\n",
       " u\"A hopeful society comes to the aid of fellow citizens in times of suffering and emergency -- and stays at it until they're back on their feet.\",\n",
       " u'So far the federal government has committed $85 billion to the people of the Gulf Coast and New Orleans.',\n",
       " u\"We're removing debris and repairing highways and rebuilding stronger levees.\",\n",
       " u\"We're providing business loans and housing assistance.\",\n",
       " u'Yet as we meet these immediate needs, we must also address deeper challenges that existed before the storm arrived.',\n",
       " u'In New Orleans and in other places, many of our fellow citizens have felt excluded from the promise of our country.',\n",
       " u'The answer is not only temporary relief, but schools that teach every child, and job skills that bring upward mobility, and more opportunities to own a home and start a business.',\n",
       " u'As we recover from a disaster, let us also work for the day when all Americans are protected by justice, equal in hope, and rich in opportunity.',\n",
       " u'(Applause.)',\n",
       " u'A hopeful society acts boldly to fight diseases like HIV/AIDS, which can be prevented, and treated, and defeated.',\n",
       " u'More than a million Americans live with HIV, and half of all AIDS cases occur among African Americans.',\n",
       " u'I ask Congress to reform and reauthorize the Ryan White Act, and provide new funding to states, so we end the waiting lists for AIDS medicines in America.',\n",
       " u'(Applause.)',\n",
       " u'We will also lead a nationwide effort, working closely with African American churches and faith-based groups, to deliver rapid HIV tests to millions, end the stigma of AIDS, and come closer to the day when there are no new infections in America.',\n",
       " u'(Applause.)',\n",
       " u\"Fellow citizens, we've been called to leadership in a period of consequence.\",\n",
       " u\"We've entered a great ideological conflict we did nothing to invite.\",\n",
       " u'We see great changes in science and commerce that will influence all our lives.',\n",
       " u'Sometimes it can seem that history is turning in a wide arc, toward an unknown shore.',\n",
       " u'Yet the destination of history is determined by human action, and every great movement of history comes to a point of choosing.',\n",
       " u'Lincoln could have accepted peace at the cost of disunity and continued slavery.',\n",
       " u'Martin Luther King could have stopped at Birmingham or at Selma, and achieved only half a victory over segregation.',\n",
       " u'The United States could have accepted the permanent division of Europe, and been complicit in the oppression of others.',\n",
       " u'Today, having come far in our own historical journey, we must decide: Will we turn back, or finish well?',\n",
       " u'Before history is written down in books, it is written in courage.',\n",
       " u'Like Americans before us, we will show that courage and we will finish well.',\n",
       " u\"We will lead freedom's advance.\",\n",
       " u'We will compete and excel in the global economy.',\n",
       " u'We will renew the defining moral commitments of this land.',\n",
       " u'And so we move forward -- optimistic about our country, faithful to its cause, and confident of the victories to come.',\n",
       " u'May God bless America.',\n",
       " u'(Applause.)']"
      ]
     },
     "execution_count": 31,
     "metadata": {},
     "output_type": "execute_result"
    }
   ],
   "source": [
    "tokenized"
   ]
  },
  {
   "cell_type": "code",
   "execution_count": 32,
   "metadata": {},
   "outputs": [
    {
     "data": {
      "text/plain": [
       "u'PRESIDENT GEORGE W. BUSH\\'S ADDRESS BEFORE A JOINT SESSION OF THE CONGRESS ON THE STATE OF THE UNION\\n \\nJanuary 31, 2006\\n\\nTHE PRESIDENT: Thank you all. Mr. Speaker, Vice President Cheney, members of Congress, members of the Supreme Court and diplomatic corps, distinguished guests, and fellow citizens: Today our nation lost a beloved, graceful, courageous woman who called America to its founding ideals and carried on a noble dream. Tonight we are comforted by the hope of a glad reunion with the husband who was taken so long ago, and we are grateful for the good life of Coretta Scott King. (Applause.)\\n\\nPresident George W. Bush reacts to applause during his State of the Union Address at the Capitol, Tuesday, Jan. 31, 2006. White House photo by Eric DraperEvery time I\\'m invited to this rostrum, I\\'m humbled by the privilege, and mindful of the history we\\'ve seen together. We have gathered under this Capitol dome in moments of national mourning and national achievement. We have served America through one of the most consequential periods of our history -- and it has been my honor to serve with you.\\n\\nIn a system of two parties, two chambers, and two elected branches, there will always be differences and debate. But even tough debates can be conducted in a civil tone, and our differences cannot be allowed to harden into anger. To confront the great issues before us, we must act in a spirit of goodwill and respect for one another -- and I will do my part. Tonight the state of our Union is strong -- and together we will make it stronger. (Applause.)\\n\\nIn this decisive year, you and I will make choices that determine both the future and the character of our country. We will choose to act confidently in pursuing the enemies of freedom -- or retreat from our duties in the hope of an easier life. We will choose to build our prosperity by leading the world economy -- or shut ourselves off from trade and opportunity. In a complex and challenging time, the road of isolationism and protectionism may seem broad and inviting -- yet it ends in danger and decline. The only way to protect our people, the only way to secure the peace, the only way to control our destiny is by our leadership -- so the United States of America will continue to lead. (Applause.)\\n\\nAbroad, our nation is committed to an historic, long-term goal -- we seek the end of tyranny in our world. Some dismiss that goal as misguided idealism. In reality, the future security of America depends on it. On September the 11th, 2001, we found that problems originating in a failed and oppressive state 7,000 miles away could bring murder and destruction to our country. Dictatorships shelter terrorists, and feed resentment and radicalism, and seek weapons of mass destruction. Democracies replace resentment with hope, respect the rights of their citizens and their neighbors, and join the fight against terror. Every step toward freedom in the world makes our country safer -- so we will act boldly in freedom\\'s cause. (Applause.)\\n\\nFar from being a hopeless dream, the advance of freedom is the great story of our time. In 1945, there were about two dozen lonely democracies in the world. Today, there are 122. And we\\'re writing a new chapter in the story of self-government -- with women lining up to vote in Afghanistan, and millions of Iraqis marking their liberty with purple ink, and men and women from Lebanon to Egypt debating the rights of individuals and the necessity of freedom. At the start of 2006, more than half the people of our world live in democratic nations. And we do not forget the other half -- in places like Syria and Burma, Zimbabwe, North Korea, and Iran -- because the demands of justice, and the peace of this world, require their freedom, as well. (Applause.)\\n\\nPresident George W. Bush delivers his State of the Union Address at the Capitol, Tuesday, Jan. 31, 2006. White House photo by Eric Draper No one can deny the success of freedom, but some men rage and fight against it. And one of the main sources of reaction and opposition is radical Islam -- the perversion by a few of a noble faith into an ideology of terror and death. Terrorists like bin Laden are serious about mass murder -- and all of us must take their declared intentions seriously. They seek to impose a heartless system of totalitarian control throughout the Middle East, and arm themselves with weapons of mass murder.\\n\\nTheir aim is to seize power in Iraq, and use it as a safe haven to launch attacks against America and the world. Lacking the military strength to challenge us directly, the terrorists have chosen the weapon of fear. When they murder children at a school in Beslan, or blow up commuters in London, or behead a bound captive, the terrorists hope these horrors will break our will, allowing the violent to inherit the Earth. But they have miscalculated: We love our freedom, and we will fight to keep it. (Applause.)\\n\\nIn a time of testing, we cannot find security by abandoning our commitments and retreating within our borders. If we were to leave these vicious attackers alone, they would not leave us alone. They would simply move the battlefield to our own shores. There is no peace in retreat. And there is no honor in retreat. By allowing radical Islam to work its will -- by leaving an assaulted world to fend for itself -- we would signal to all that we no longer believe in our own ideals, or even in our own courage. But our enemies and our friends can be certain: The United States will not retreat from the world, and we will never surrender to evil. (Applause.)\\n\\nAmerica rejects the false comfort of isolationism. We are the nation that saved liberty in Europe, and liberated death camps, and helped raise up democracies, and faced down an evil empire. Once again, we accept the call of history to deliver the oppressed and move this world toward peace. We remain on the offensive against terror networks. We have killed or captured many of their leaders -- and for the others, their day will come.\\n\\nPresident George W. Bush greets members of Congress after his State of the Union Address at the Capitol, Tuesday, Jan. 31, 2006. White House photo by Eric Draper We remain on the offensive in Afghanistan, where a fine President and a National Assembly are fighting terror while building the institutions of a new democracy. We\\'re on the offensive in Iraq, with a clear plan for victory. First, we\\'re helping Iraqis build an inclusive government, so that old resentments will be eased and the insurgency will be marginalized.\\n\\nSecond, we\\'re continuing reconstruction efforts, and helping the Iraqi government to fight corruption and build a modern economy, so all Iraqis can experience the benefits of freedom. And, third, we\\'re striking terrorist targets while we train Iraqi forces that are increasingly capable of defeating the enemy. Iraqis are showing their courage every day, and we are proud to be their allies in the cause of freedom. (Applause.)\\n\\nOur work in Iraq is difficult because our enemy is brutal. But that brutality has not stopped the dramatic progress of a new democracy. In less than three years, the nation has gone from dictatorship to liberation, to sovereignty, to a constitution, to national elections. At the same time, our coalition has been relentless in shutting off terrorist infiltration, clearing out insurgent strongholds, and turning over territory to Iraqi security forces. I am confident in our plan for victory; I am confident in the will of the Iraqi people; I am confident in the skill and spirit of our military. Fellow citizens, we are in this fight to win, and we are winning. (Applause.)\\n\\nThe road of victory is the road that will take our troops home. As we make progress on the ground, and Iraqi forces increasingly take the lead, we should be able to further decrease our troop levels -- but those decisions will be made by our military commanders, not by politicians in Washington, D.C. (Applause.)\\n\\nOur coalition has learned from our experience in Iraq. We\\'ve adjusted our military tactics and changed our approach to reconstruction. Along the way, we have benefitted from responsible criticism and counsel offered by members of Congress of both parties. In the coming year, I will continue to reach out and seek your good advice. Yet, there is a difference between responsible criticism that aims for success, and defeatism that refuses to acknowledge anything but failure. (Applause.) Hindsight alone is not wisdom, and second-guessing is not a strategy. (Applause.)\\n\\nWith so much in the balance, those of us in public office have a duty to speak with candor. A sudden withdrawal of our forces from Iraq would abandon our Iraqi allies to death and prison, would put men like bin Laden and Zarqawi in charge of a strategic country, and show that a pledge from America means little. Members of Congress, however we feel about the decisions and debates of the past, our nation has only one option: We must keep our word, defeat our enemies, and stand behind the American military in this vital mission. (Applause.)\\n\\nLaura Bush is applauded as she is introduced Tuesday evening, Jan. 31, 2006 during the State of the Union Address at United States Capitol in Washington. White House photo by Eric Draper Our men and women in uniform are making sacrifices -- and showing a sense of duty stronger than all fear. They know what it\\'s like to fight house to house in a maze of streets, to wear heavy gear in the desert heat, to see a comrade killed by a roadside bomb. And those who know the costs also know the stakes. Marine Staff Sergeant Dan Clay was killed last month fighting in Fallujah. He left behind a letter to his family, but his words could just as well be addressed to every American. Here is what Dan wrote: \"I know what honor is. ... It has been an honor to protect and serve all of you. I faced death with the secure knowledge that you would not have to.... Never falter! Don\\'t hesitate to honor and support those of us who have the honor of protecting that which is worth protecting.\"\\n\\nStaff Sergeant Dan Clay\\'s wife, Lisa, and his mom and dad, Sara Jo and Bud, are with us this evening. Welcome. (Applause.)\\n\\nOur nation is grateful to the fallen, who live in the memory of our country. We\\'re grateful to all who volunteer to wear our nation\\'s uniform -- and as we honor our brave troops, let us never forget the sacrifices of America\\'s military families. (Applause.)\\n\\nOur offensive against terror involves more than military action. Ultimately, the only way to defeat the terrorists is to defeat their dark vision of hatred and fear by offering the hopeful alternative of political freedom and peaceful change. So the United States of America supports democratic reform across the broader Middle East. Elections are vital, but they are only the beginning. Raising up a democracy requires the rule of law, and protection of minorities, and strong, accountable institutions that last longer than a single vote.\\n\\nThe great people of Egypt have voted in a multi-party presidential election -- and now their government should open paths of peaceful opposition that will reduce the appeal of radicalism. The Palestinian people have voted in elections. And now the leaders of Hamas must recognize Israel, disarm, reject terrorism, and work for lasting peace. (Applause.) Saudi Arabia has taken the first steps of reform -- now it can offer its people a better future by pressing forward with those efforts. Democracies in the Middle East will not look like our own, because they will reflect the traditions of their own citizens. Yet liberty is the future of every nation in the Middle East, because liberty is the right and hope of all humanity. (Applause.)\\n\\nPresident George W. Bush waves toward the upper visitors gallery of the House Chamber following his State of the Union remarks Tuesday, Jan. 31, 2006 at the United States Capitol. White House photo by Eric Draper The same is true of Iran, a nation now held hostage by a small clerical elite that is isolating and repressing its people. The regime in that country sponsors terrorists in the Palestinian territories and in Lebanon -- and that must come to an end. (Applause.) The Iranian government is defying the world with its nuclear ambitions, and the nations of the world must not permit the Iranian regime to gain nuclear weapons. (Applause.) America will continue to rally the world to confront these threats.\\n\\nTonight, let me speak directly to the citizens of Iran: America respects you, and we respect your country. We respect your right to choose your own future and win your own freedom. And our nation hopes one day to be the closest of friends with a free and democratic Iran. (Applause.)\\n\\nTo overcome dangers in our world, we must also take the offensive by encouraging economic progress, and fighting disease, and spreading hope in hopeless lands. Isolationism would not only tie our hands in fighting enemies, it would keep us from helping our friends in desperate need. We show compassion abroad because Americans believe in the God-given dignity and worth of a villager with HIV/AIDS, or an infant with malaria, or a refugee fleeing genocide, or a young girl sold into slavery. We also show compassion abroad because regions overwhelmed by poverty, corruption, and despair are sources of terrorism, and organized crime, and human trafficking, and the drug trade.\\n\\nIn recent years, you and I have taken unprecedented action to fight AIDS and malaria, expand the education of girls, and reward developing nations that are moving forward with economic and political reform. For people everywhere, the United States is a partner for a better life. Short-changing these efforts would increase the suffering and chaos of our world, undercut our long-term security, and dull the conscience of our country. I urge members of Congress to serve the interests of America by showing the compassion of America.\\n\\nOur country must also remain on the offensive against terrorism here at home. The enemy has not lost the desire or capability to attack us. Fortunately, this nation has superb professionals in law enforcement, intelligence, the military, and homeland security. These men and women are dedicating their lives, protecting us all, and they deserve our support and our thanks. (Applause.) They also deserve the same tools they already use to fight drug trafficking and organized crime -- so I ask you to reauthorize the Patriot Act. (Applause.)\\n\\nIt is said that prior to the attacks of September the 11th, our government failed to connect the dots of the conspiracy. We now know that two of the hijackers in the United States placed telephone calls to al Qaeda operatives overseas. But we did not know about their plans until it was too late. So to prevent another attack -- based on authority given to me by the Constitution and by statute -- I have authorized a terrorist surveillance program to aggressively pursue the international communications of suspected al Qaeda operatives and affiliates to and from America. Previous Presidents have used the same constitutional authority I have, and federal courts have approved the use of that authority. Appropriate members of Congress have been kept informed. The terrorist surveillance program has helped prevent terrorist attacks. It remains essential to the security of America. If there are people inside our country who are talking with al Qaeda, we want to know about it, because we will not sit back and wait to be hit again. (Applause.)\\n\\nIn all these areas -- from the disruption of terror networks, to victory in Iraq, to the spread of freedom and hope in troubled regions -- we need the support of our friends and allies. To draw that support, we must always be clear in our principles and willing to act. The only alternative to American leadership is a dramatically more dangerous and anxious world. Yet we also choose to lead because it is a privilege to serve the values that gave us birth. American leaders -- from Roosevelt to Truman to Kennedy to Reagan -- rejected isolation and retreat, because they knew that America is always more secure when freedom is on the march.\\n\\nOur own generation is in a long war against a determined enemy -- a war that will be fought by Presidents of both parties, who will need steady bipartisan support from the Congress. And tonight I ask for yours. Together, let us protect our country, support the men and women who defend us, and lead this world toward freedom. (Applause.)\\n\\nHere at home, America also has a great opportunity: We will build the prosperity of our country by strengthening our economic leadership in the world.\\n\\nOur economy is healthy and vigorous, and growing faster than other major industrialized nations. In the last two-and-a-half years, America has created 4.6 million new jobs -- more than Japan and the European Union combined. (Applause.) Even in the face of higher energy prices and natural disasters, the American people have turned in an economic performance that is the envy of the world.\\n\\nThe American economy is preeminent, but we cannot afford to be complacent. In a dynamic world economy, we are seeing new competitors, like China and India, and this creates uncertainty, which makes it easier to feed people\\'s fears. So we\\'re seeing some old temptations return. Protectionists want to escape competition, pretending that we can keep our high standard of living while walling off our economy. Others say that the government needs to take a larger role in directing the economy, centralizing more power in Washington and increasing taxes. We hear claims that immigrants are somehow bad for the economy -- even though this economy could not function without them. (Applause.) All these are forms of economic retreat, and they lead in the same direction -- toward a stagnant and second-rate economy.\\n\\nTonight I will set out a better path: an agenda for a nation that competes with confidence; an agenda that will raise standards of living and generate new jobs. Americans should not fear our economic future, because we intend to shape it.\\n\\nKeeping America competitive begins with keeping our economy growing. And our economy grows when Americans have more of their own money to spend, save, and invest. In the last five years, the tax relief you passed has left $880 billion in the hands of American workers, investors, small businesses, and families -- and they have used it to help produce more than four years of uninterrupted economic growth. (Applause.) Yet the tax relief is set to expire in the next few years. If we do nothing, American families will face a massive tax increase they do not expect and will not welcome. Because America needs more than a temporary expansion, we need more than temporary tax relief. I urge the Congress to act responsibly, and make the tax cuts permanent. (Applause.)\\n\\nKeeping America competitive requires us to be good stewards of tax dollars. Every year of my presidency, we\\'ve reduced the growth of non-security discretionary spending, and last year you passed bills that cut this spending. This year my budget will cut it again, and reduce or eliminate more than 140 programs that are performing poorly or not fulfilling essential priorities. By passing these reforms, we will save the American taxpayer another $14 billion next year, and stay on track to cut the deficit in half by 2009. (Applause.)\\n\\nI am pleased that members of Congress are working on earmark reform, because the federal budget has too many special interest projects. (Applause.) And we can tackle this problem together, if you pass the line-item veto. (Applause.)\\n\\nWe must also confront the larger challenge of mandatory spending, or entitlements. This year, the first of about 78 million baby boomers turn 60, including two of my Dad\\'s favorite people -- me and President Clinton. (Laughter.) This milestone is more than a personal crisis -- (laughter) -- it is a national challenge. The retirement of the baby boom generation will put unprecedented strains on the federal government. By 2030, spending for Social Security, Medicare and Medicaid alone will be almost 60 percent of the entire federal budget. And that will present future Congresses with impossible choices -- staggering tax increases, immense deficits, or deep cuts in every category of spending. Congress did not act last year on my proposal to save Social Security -- (applause) -- yet the rising cost of entitlements is a problem that is not going away. (Applause.) And every year we fail to act, the situation gets worse.\\n\\nSo tonight, I ask you to join me in creating a commission to examine the full impact of baby boom retirements on Social Security, Medicare, and Medicaid. This commission should include members of Congress of both parties, and offer bipartisan solutions. We need to put aside partisan politics and work together and get this problem solved. (Applause.)\\n\\nKeeping America competitive requires us to open more markets for all that Americans make and grow. One out of every five factory jobs in America is related to global trade, and we want people everywhere to buy American. With open markets and a level playing field, no one can out-produce or out-compete the American worker. (Applause.)\\n\\nKeeping America competitive requires an immigration system that upholds our laws, reflects our values, and serves the interests of our economy. Our nation needs orderly and secure borders. (Applause.) To meet this goal, we must have stronger immigration enforcement and border protection. (Applause.) And we must have a rational, humane guest worker program that rejects amnesty, allows temporary jobs for people who seek them legally, and reduces smuggling and crime at the border. (Applause.)\\n\\nKeeping America competitive requires affordable health care. (Applause.) Our government has a responsibility to provide health care for the poor and the elderly, and we are meeting that responsibility. (Applause.) For all Americans -- for all Americans, we must confront the rising cost of care, strengthen the doctor-patient relationship, and help people afford the insurance coverage they need. (Applause.)\\n\\nWe will make wider use of electronic records and other health information technology, to help control costs and reduce dangerous medical errors. We will strengthen health savings accounts -- making sure individuals and small business employees can buy insurance with the same advantages that people working for big businesses now get. (Applause.) We will do more to make this coverage portable, so workers can switch jobs without having to worry about losing their health insurance. (Applause.) And because lawsuits are driving many good doctors out of practice -- leaving women in nearly 1,500 American counties without a single OB/GYN -- I ask the Congress to pass medical liability reform this year. (Applause.)\\n\\nKeeping America competitive requires affordable energy. And here we have a serious problem: America is addicted to oil, which is often imported from unstable parts of the world. The best way to break this addiction is through technology. Since 2001, we have spent nearly $10 billion to develop cleaner, cheaper, and more reliable alternative energy sources -- and we are on the threshold of incredible advances.\\n\\nSo tonight, I announce the Advanced Energy Initiative -- a 22-percent increase in clean-energy research -- at the Department of Energy, to push for breakthroughs in two vital areas. To change how we power our homes and offices, we will invest more in zero-emission coal-fired plants, revolutionary solar and wind technologies, and clean, safe nuclear energy. (Applause.)\\n\\nWe must also change how we power our automobiles. We will increase our research in better batteries for hybrid and electric cars, and in pollution-free cars that run on hydrogen. We\\'ll also fund additional research in cutting-edge methods of producing ethanol, not just from corn, but from wood chips and stalks, or switch grass. Our goal is to make this new kind of ethanol practical and competitive within six years. (Applause.)\\n\\nBreakthroughs on this and other new technologies will help us reach another great goal: to replace more than 75 percent of our oil imports from the Middle East by 2025. (Applause.) By applying the talent and technology of America, this country can dramatically improve our environment, move beyond a petroleum-based economy, and make our dependence on Middle Eastern oil a thing of the past. (Applause.)\\n\\nAnd to keep America competitive, one commitment is necessary above all: We must continue to lead the world in human talent and creativity. Our greatest advantage in the world has always been our educated, hardworking, ambitious people -- and we\\'re going to keep that edge. Tonight I announce an American Competitiveness Initiative, to encourage innovation throughout our economy, and to give our nation\\'s children a firm grounding in math and science. (Applause.)\\n\\nFirst, I propose to double the federal commitment to the most critical basic research programs in the physical sciences over the next 10 years. This funding will support the work of America\\'s most creative minds as they explore promising areas such as nanotechnology, supercomputing, and alternative energy sources.\\n\\nSecond, I propose to make permanent the research and development tax credit -- (applause) -- to encourage bolder private-sector initiatives in technology. With more research in both the public and private sectors, we will improve our quality of life -- and ensure that America will lead the world in opportunity and innovation for decades to come. (Applause.)\\n\\nThird, we need to encourage children to take more math and science, and to make sure those courses are rigorous enough to compete with other nations. We\\'ve made a good start in the early grades with the No Child Left Behind Act, which is raising standards and lifting test scores across our country. Tonight I propose to train 70,000 high school teachers to lead advanced-placement courses in math and science, bring 30,000 math and science professionals to teach in classrooms, and give early help to students who struggle with math, so they have a better chance at good, high-wage jobs. If we ensure that America\\'s children succeed in life, they will ensure that America succeeds in the world. (Applause.)\\n\\nPreparing our nation to compete in the world is a goal that all of us can share. I urge you to support the American Competitiveness Initiative, and together we will show the world what the American people can achieve.\\n\\nAmerica is a great force for freedom and prosperity. Yet our greatness is not measured in power or luxuries, but by who we are and how we treat one another. So we strive to be a compassionate, decent, hopeful society.\\n\\nIn recent years, America has become a more hopeful nation. Violent crime rates have fallen to their lowest levels since the 1970s. Welfare cases have dropped by more than half over the past decade. Drug use among youth is down 19 percent since 2001. There are fewer abortions in America than at any point in the last three decades, and the number of children born to teenage mothers has been falling for a dozen years in a row. (Applause.)\\n\\nThese gains are evidence of a quiet transformation -- a revolution of conscience, in which a rising generation is finding that a life of personal responsibility is a life of fulfillment. Government has played a role. Wise policies, such as welfare reform and drug education and support for abstinence and adoption have made a difference in the character of our country. And everyone here tonight, Democrat and Republican, has a right to be proud of this record. (Applause.)\\n\\nYet many Americans, especially parents, still have deep concerns about the direction of our culture, and the health of our most basic institutions. They\\'re concerned about unethical conduct by public officials, and discouraged by activist courts that try to redefine marriage. They worry about children in our society who need direction and love, and about fellow citizens still displaced by natural disaster, and about suffering caused by treatable diseases.\\n\\nAs we look at these challenges, we must never give in to the belief that America is in decline, or that our culture is doomed to unravel. The American people know better than that. We have proven the pessimists wrong before -- and we will do it again. (Applause.)\\n\\nA hopeful society depends on courts that deliver equal justice under the law. The Supreme Court now has two superb new members -- new members on its bench: Chief Justice John Roberts and Justice Sam Alito. (Applause.) I thank the Senate for confirming both of them. I will continue to nominate men and women who understand that judges must be servants of the law, and not legislate from the bench. (Applause.)\\n\\nToday marks the official retirement of a very special American. For 24 years of faithful service to our nation, the United States is grateful to Justice Sandra Day O\\'Connor. (Applause.)\\n\\nA hopeful society has institutions of science and medicine that do not cut ethical corners, and that recognize the matchless value of every life. Tonight I ask you to pass legislation to prohibit the most egregious abuses of medical research: human cloning in all its forms, creating or implanting embryos for experiments, creating human-animal hybrids, and buying, selling, or patenting human embryos. Human life is a gift from our Creator -- and that gift should never be discarded, devalued or put up for sale. (Applause.)\\n\\nA hopeful society expects elected officials to uphold the public trust. (Applause.) Honorable people in both parties are working on reforms to strengthen the ethical standards of Washington -- I support your efforts. Each of us has made a pledge to be worthy of public responsibility -- and that is a pledge we must never forget, never dismiss, and never betray. (Applause.)\\n\\nAs we renew the promise of our institutions, let us also show the character of America in our compassion and care for one another.\\n\\nA hopeful society gives special attention to children who lack direction and love. Through the Helping America\\'s Youth Initiative, we are encouraging caring adults to get involved in the life of a child -- and this good work is being led by our First Lady, Laura Bush. (Applause.) This year we will add resources to encourage young people to stay in school, so more of America\\'s youth can raise their sights and achieve their dreams.\\n\\nA hopeful society comes to the aid of fellow citizens in times of suffering and emergency -- and stays at it until they\\'re back on their feet. So far the federal government has committed $85 billion to the people of the Gulf Coast and New Orleans. We\\'re removing debris and repairing highways and rebuilding stronger levees. We\\'re providing business loans and housing assistance. Yet as we meet these immediate needs, we must also address deeper challenges that existed before the storm arrived.\\n\\nIn New Orleans and in other places, many of our fellow citizens have felt excluded from the promise of our country. The answer is not only temporary relief, but schools that teach every child, and job skills that bring upward mobility, and more opportunities to own a home and start a business. As we recover from a disaster, let us also work for the day when all Americans are protected by justice, equal in hope, and rich in opportunity. (Applause.)\\n\\nA hopeful society acts boldly to fight diseases like HIV/AIDS, which can be prevented, and treated, and defeated. More than a million Americans live with HIV, and half of all AIDS cases occur among African Americans. I ask Congress to reform and reauthorize the Ryan White Act, and provide new funding to states, so we end the waiting lists for AIDS medicines in America. (Applause.) We will also lead a nationwide effort, working closely with African American churches and faith-based groups, to deliver rapid HIV tests to millions, end the stigma of AIDS, and come closer to the day when there are no new infections in America. (Applause.)\\n\\nFellow citizens, we\\'ve been called to leadership in a period of consequence. We\\'ve entered a great ideological conflict we did nothing to invite. We see great changes in science and commerce that will influence all our lives. Sometimes it can seem that history is turning in a wide arc, toward an unknown shore. Yet the destination of history is determined by human action, and every great movement of history comes to a point of choosing.\\n\\nLincoln could have accepted peace at the cost of disunity and continued slavery. Martin Luther King could have stopped at Birmingham or at Selma, and achieved only half a victory over segregation. The United States could have accepted the permanent division of Europe, and been complicit in the oppression of others. Today, having come far in our own historical journey, we must decide: Will we turn back, or finish well?\\n\\nBefore history is written down in books, it is written in courage. Like Americans before us, we will show that courage and we will finish well. We will lead freedom\\'s advance. We will compete and excel in the global economy. We will renew the defining moral commitments of this land. And so we move forward -- optimistic about our country, faithful to its cause, and confident of the victories to come.\\n\\nMay God bless America. (Applause.)\\n'"
      ]
     },
     "execution_count": 32,
     "metadata": {},
     "output_type": "execute_result"
    }
   ],
   "source": [
    "sample_text"
   ]
  },
  {
   "cell_type": "code",
   "execution_count": 33,
   "metadata": {
    "collapsed": true
   },
   "outputs": [],
   "source": [
    "def process_content():\n",
    "    try:\n",
    "        for i in tokenized:\n",
    "            words = nltk.word_tokenize(i)\n",
    "            tagged = nltk.pos_tag(words)\n",
    "            print(tagged)\n",
    "    except Exception as e:\n",
    "        print(str(e))"
   ]
  },
  {
   "cell_type": "code",
   "execution_count": 34,
   "metadata": {},
   "outputs": [
    {
     "name": "stdout",
     "output_type": "stream",
     "text": [
      "[(u'PRESIDENT', 'NNP'), (u'GEORGE', 'NNP'), (u'W.', 'NNP'), (u'BUSH', 'NNP'), (u\"'S\", 'POS'), (u'ADDRESS', 'NNP'), (u'BEFORE', 'IN'), (u'A', 'NNP'), (u'JOINT', 'NNP'), (u'SESSION', 'NNP'), (u'OF', 'IN'), (u'THE', 'NNP'), (u'CONGRESS', 'NNP'), (u'ON', 'NNP'), (u'THE', 'NNP'), (u'STATE', 'NNP'), (u'OF', 'IN'), (u'THE', 'NNP'), (u'UNION', 'NNP'), (u'January', 'NNP'), (u'31', 'CD'), (u',', ','), (u'2006', 'CD'), (u'THE', 'NNP'), (u'PRESIDENT', 'NNP'), (u':', ':'), (u'Thank', 'NNP'), (u'you', 'PRP'), (u'all', 'DT'), (u'.', '.')]\n",
      "[(u'Mr.', 'NNP'), (u'Speaker', 'NNP'), (u',', ','), (u'Vice', 'NNP'), (u'President', 'NNP'), (u'Cheney', 'NNP'), (u',', ','), (u'members', 'NNS'), (u'of', 'IN'), (u'Congress', 'NNP'), (u',', ','), (u'members', 'NNS'), (u'of', 'IN'), (u'the', 'DT'), (u'Supreme', 'NNP'), (u'Court', 'NNP'), (u'and', 'CC'), (u'diplomatic', 'JJ'), (u'corps', 'NN'), (u',', ','), (u'distinguished', 'JJ'), (u'guests', 'NNS'), (u',', ','), (u'and', 'CC'), (u'fellow', 'JJ'), (u'citizens', 'NNS'), (u':', ':'), (u'Today', 'VB'), (u'our', 'PRP$'), (u'nation', 'NN'), (u'lost', 'VBD'), (u'a', 'DT'), (u'beloved', 'VBN'), (u',', ','), (u'graceful', 'JJ'), (u',', ','), (u'courageous', 'JJ'), (u'woman', 'NN'), (u'who', 'WP'), (u'called', 'VBD'), (u'America', 'NNP'), (u'to', 'TO'), (u'its', 'PRP$'), (u'founding', 'NN'), (u'ideals', 'NNS'), (u'and', 'CC'), (u'carried', 'VBD'), (u'on', 'IN'), (u'a', 'DT'), (u'noble', 'JJ'), (u'dream', 'NN'), (u'.', '.')]\n",
      "[(u'Tonight', 'NN'), (u'we', 'PRP'), (u'are', 'VBP'), (u'comforted', 'VBN'), (u'by', 'IN'), (u'the', 'DT'), (u'hope', 'NN'), (u'of', 'IN'), (u'a', 'DT'), (u'glad', 'JJ'), (u'reunion', 'NN'), (u'with', 'IN'), (u'the', 'DT'), (u'husband', 'NN'), (u'who', 'WP'), (u'was', 'VBD'), (u'taken', 'VBN'), (u'so', 'RB'), (u'long', 'RB'), (u'ago', 'RB'), (u',', ','), (u'and', 'CC'), (u'we', 'PRP'), (u'are', 'VBP'), (u'grateful', 'JJ'), (u'for', 'IN'), (u'the', 'DT'), (u'good', 'JJ'), (u'life', 'NN'), (u'of', 'IN'), (u'Coretta', 'NNP'), (u'Scott', 'NNP'), (u'King', 'NNP'), (u'.', '.')]\n",
      "[(u'(', '('), (u'Applause', 'NNP'), (u'.', '.'), (u')', ')')]\n",
      "[(u'President', 'NNP'), (u'George', 'NNP'), (u'W.', 'NNP'), (u'Bush', 'NNP'), (u'reacts', 'VBZ'), (u'to', 'TO'), (u'applause', 'VB'), (u'during', 'IN'), (u'his', 'PRP$'), (u'State', 'NNP'), (u'of', 'IN'), (u'the', 'DT'), (u'Union', 'NNP'), (u'Address', 'NNP'), (u'at', 'IN'), (u'the', 'DT'), (u'Capitol', 'NNP'), (u',', ','), (u'Tuesday', 'NNP'), (u',', ','), (u'Jan', 'NNP'), (u'.', '.')]\n",
      "[(u'31', 'CD'), (u',', ','), (u'2006', 'CD'), (u'.', '.')]\n",
      "[(u'White', 'NNP'), (u'House', 'NNP'), (u'photo', 'NN'), (u'by', 'IN'), (u'Eric', 'NNP'), (u'DraperEvery', 'NNP'), (u'time', 'NN'), (u'I', 'PRP'), (u\"'m\", 'VBP'), (u'invited', 'JJ'), (u'to', 'TO'), (u'this', 'DT'), (u'rostrum', 'NN'), (u',', ','), (u'I', 'PRP'), (u\"'m\", 'VBP'), (u'humbled', 'VBN'), (u'by', 'IN'), (u'the', 'DT'), (u'privilege', 'NN'), (u',', ','), (u'and', 'CC'), (u'mindful', 'NN'), (u'of', 'IN'), (u'the', 'DT'), (u'history', 'NN'), (u'we', 'PRP'), (u\"'ve\", 'VBP'), (u'seen', 'VBN'), (u'together', 'RB'), (u'.', '.')]\n",
      "[(u'We', 'PRP'), (u'have', 'VBP'), (u'gathered', 'VBN'), (u'under', 'IN'), (u'this', 'DT'), (u'Capitol', 'NNP'), (u'dome', 'NN'), (u'in', 'IN'), (u'moments', 'NNS'), (u'of', 'IN'), (u'national', 'JJ'), (u'mourning', 'NN'), (u'and', 'CC'), (u'national', 'JJ'), (u'achievement', 'NN'), (u'.', '.')]\n",
      "[(u'We', 'PRP'), (u'have', 'VBP'), (u'served', 'VBN'), (u'America', 'NNP'), (u'through', 'IN'), (u'one', 'CD'), (u'of', 'IN'), (u'the', 'DT'), (u'most', 'RBS'), (u'consequential', 'JJ'), (u'periods', 'NNS'), (u'of', 'IN'), (u'our', 'PRP$'), (u'history', 'NN'), (u'--', ':'), (u'and', 'CC'), (u'it', 'PRP'), (u'has', 'VBZ'), (u'been', 'VBN'), (u'my', 'PRP$'), (u'honor', 'NN'), (u'to', 'TO'), (u'serve', 'VB'), (u'with', 'IN'), (u'you', 'PRP'), (u'.', '.')]\n",
      "[(u'In', 'IN'), (u'a', 'DT'), (u'system', 'NN'), (u'of', 'IN'), (u'two', 'CD'), (u'parties', 'NNS'), (u',', ','), (u'two', 'CD'), (u'chambers', 'NNS'), (u',', ','), (u'and', 'CC'), (u'two', 'CD'), (u'elected', 'JJ'), (u'branches', 'NNS'), (u',', ','), (u'there', 'EX'), (u'will', 'MD'), (u'always', 'RB'), (u'be', 'VB'), (u'differences', 'NNS'), (u'and', 'CC'), (u'debate', 'NN'), (u'.', '.')]\n",
      "[(u'But', 'CC'), (u'even', 'RB'), (u'tough', 'JJ'), (u'debates', 'NNS'), (u'can', 'MD'), (u'be', 'VB'), (u'conducted', 'VBN'), (u'in', 'IN'), (u'a', 'DT'), (u'civil', 'JJ'), (u'tone', 'NN'), (u',', ','), (u'and', 'CC'), (u'our', 'PRP$'), (u'differences', 'NNS'), (u'can', 'MD'), (u'not', 'RB'), (u'be', 'VB'), (u'allowed', 'VBN'), (u'to', 'TO'), (u'harden', 'VB'), (u'into', 'IN'), (u'anger', 'NN'), (u'.', '.')]\n",
      "[(u'To', 'TO'), (u'confront', 'VB'), (u'the', 'DT'), (u'great', 'JJ'), (u'issues', 'NNS'), (u'before', 'IN'), (u'us', 'PRP'), (u',', ','), (u'we', 'PRP'), (u'must', 'MD'), (u'act', 'VB'), (u'in', 'IN'), (u'a', 'DT'), (u'spirit', 'NN'), (u'of', 'IN'), (u'goodwill', 'NN'), (u'and', 'CC'), (u'respect', 'NN'), (u'for', 'IN'), (u'one', 'CD'), (u'another', 'DT'), (u'--', ':'), (u'and', 'CC'), (u'I', 'PRP'), (u'will', 'MD'), (u'do', 'VB'), (u'my', 'PRP$'), (u'part', 'NN'), (u'.', '.')]\n",
      "[(u'Tonight', 'NNP'), (u'the', 'DT'), (u'state', 'NN'), (u'of', 'IN'), (u'our', 'PRP$'), (u'Union', 'NNP'), (u'is', 'VBZ'), (u'strong', 'JJ'), (u'--', ':'), (u'and', 'CC'), (u'together', 'RB'), (u'we', 'PRP'), (u'will', 'MD'), (u'make', 'VB'), (u'it', 'PRP'), (u'stronger', 'JJR'), (u'.', '.')]\n",
      "[(u'(', '('), (u'Applause', 'NNP'), (u'.', '.'), (u')', ')')]\n",
      "[(u'In', 'IN'), (u'this', 'DT'), (u'decisive', 'JJ'), (u'year', 'NN'), (u',', ','), (u'you', 'PRP'), (u'and', 'CC'), (u'I', 'PRP'), (u'will', 'MD'), (u'make', 'VB'), (u'choices', 'NNS'), (u'that', 'WDT'), (u'determine', 'VBP'), (u'both', 'DT'), (u'the', 'DT'), (u'future', 'NN'), (u'and', 'CC'), (u'the', 'DT'), (u'character', 'NN'), (u'of', 'IN'), (u'our', 'PRP$'), (u'country', 'NN'), (u'.', '.')]\n",
      "[(u'We', 'PRP'), (u'will', 'MD'), (u'choose', 'VB'), (u'to', 'TO'), (u'act', 'VB'), (u'confidently', 'RB'), (u'in', 'IN'), (u'pursuing', 'VBG'), (u'the', 'DT'), (u'enemies', 'NNS'), (u'of', 'IN'), (u'freedom', 'NN'), (u'--', ':'), (u'or', 'CC'), (u'retreat', 'NN'), (u'from', 'IN'), (u'our', 'PRP$'), (u'duties', 'NNS'), (u'in', 'IN'), (u'the', 'DT'), (u'hope', 'NN'), (u'of', 'IN'), (u'an', 'DT'), (u'easier', 'JJR'), (u'life', 'NN'), (u'.', '.')]\n",
      "[(u'We', 'PRP'), (u'will', 'MD'), (u'choose', 'VB'), (u'to', 'TO'), (u'build', 'VB'), (u'our', 'PRP$'), (u'prosperity', 'NN'), (u'by', 'IN'), (u'leading', 'VBG'), (u'the', 'DT'), (u'world', 'NN'), (u'economy', 'NN'), (u'--', ':'), (u'or', 'CC'), (u'shut', 'VB'), (u'ourselves', 'PRP'), (u'off', 'RP'), (u'from', 'IN'), (u'trade', 'NN'), (u'and', 'CC'), (u'opportunity', 'NN'), (u'.', '.')]\n",
      "[(u'In', 'IN'), (u'a', 'DT'), (u'complex', 'JJ'), (u'and', 'CC'), (u'challenging', 'JJ'), (u'time', 'NN'), (u',', ','), (u'the', 'DT'), (u'road', 'NN'), (u'of', 'IN'), (u'isolationism', 'NN'), (u'and', 'CC'), (u'protectionism', 'NN'), (u'may', 'MD'), (u'seem', 'VB'), (u'broad', 'JJ'), (u'and', 'CC'), (u'inviting', 'NN'), (u'--', ':'), (u'yet', 'CC'), (u'it', 'PRP'), (u'ends', 'VBZ'), (u'in', 'IN'), (u'danger', 'NN'), (u'and', 'CC'), (u'decline', 'NN'), (u'.', '.')]\n",
      "[(u'The', 'DT'), (u'only', 'JJ'), (u'way', 'NN'), (u'to', 'TO'), (u'protect', 'VB'), (u'our', 'PRP$'), (u'people', 'NNS'), (u',', ','), (u'the', 'DT'), (u'only', 'JJ'), (u'way', 'NN'), (u'to', 'TO'), (u'secure', 'VB'), (u'the', 'DT'), (u'peace', 'NN'), (u',', ','), (u'the', 'DT'), (u'only', 'JJ'), (u'way', 'NN'), (u'to', 'TO'), (u'control', 'VB'), (u'our', 'PRP$'), (u'destiny', 'NN'), (u'is', 'VBZ'), (u'by', 'IN'), (u'our', 'PRP$'), (u'leadership', 'NN'), (u'--', ':'), (u'so', 'IN'), (u'the', 'DT'), (u'United', 'NNP'), (u'States', 'NNPS'), (u'of', 'IN'), (u'America', 'NNP'), (u'will', 'MD'), (u'continue', 'VB'), (u'to', 'TO'), (u'lead', 'VB'), (u'.', '.')]\n",
      "[(u'(', '('), (u'Applause', 'NNP'), (u'.', '.'), (u')', ')')]\n",
      "[(u'Abroad', 'RB'), (u',', ','), (u'our', 'PRP$'), (u'nation', 'NN'), (u'is', 'VBZ'), (u'committed', 'VBN'), (u'to', 'TO'), (u'an', 'DT'), (u'historic', 'JJ'), (u',', ','), (u'long-term', 'JJ'), (u'goal', 'NN'), (u'--', ':'), (u'we', 'PRP'), (u'seek', 'VBP'), (u'the', 'DT'), (u'end', 'NN'), (u'of', 'IN'), (u'tyranny', 'NN'), (u'in', 'IN'), (u'our', 'PRP$'), (u'world', 'NN'), (u'.', '.')]\n",
      "[(u'Some', 'DT'), (u'dismiss', 'VBP'), (u'that', 'DT'), (u'goal', 'NN'), (u'as', 'IN'), (u'misguided', 'JJ'), (u'idealism', 'NN'), (u'.', '.')]\n",
      "[(u'In', 'IN'), (u'reality', 'NN'), (u',', ','), (u'the', 'DT'), (u'future', 'JJ'), (u'security', 'NN'), (u'of', 'IN'), (u'America', 'NNP'), (u'depends', 'VBZ'), (u'on', 'IN'), (u'it', 'PRP'), (u'.', '.')]\n",
      "[(u'On', 'IN'), (u'September', 'NNP'), (u'the', 'DT'), (u'11th', 'CD'), (u',', ','), (u'2001', 'CD'), (u',', ','), (u'we', 'PRP'), (u'found', 'VBD'), (u'that', 'IN'), (u'problems', 'NNS'), (u'originating', 'VBG'), (u'in', 'IN'), (u'a', 'DT'), (u'failed', 'JJ'), (u'and', 'CC'), (u'oppressive', 'JJ'), (u'state', 'NN'), (u'7,000', 'CD'), (u'miles', 'NNS'), (u'away', 'RB'), (u'could', 'MD'), (u'bring', 'VB'), (u'murder', 'NN'), (u'and', 'CC'), (u'destruction', 'NN'), (u'to', 'TO'), (u'our', 'PRP$'), (u'country', 'NN'), (u'.', '.')]\n",
      "[(u'Dictatorships', 'NNP'), (u'shelter', 'NN'), (u'terrorists', 'NNS'), (u',', ','), (u'and', 'CC'), (u'feed', 'VB'), (u'resentment', 'NN'), (u'and', 'CC'), (u'radicalism', 'NN'), (u',', ','), (u'and', 'CC'), (u'seek', 'JJ'), (u'weapons', 'NNS'), (u'of', 'IN'), (u'mass', 'NN'), (u'destruction', 'NN'), (u'.', '.')]\n",
      "[(u'Democracies', 'NNS'), (u'replace', 'VB'), (u'resentment', 'NN'), (u'with', 'IN'), (u'hope', 'NN'), (u',', ','), (u'respect', 'VB'), (u'the', 'DT'), (u'rights', 'NNS'), (u'of', 'IN'), (u'their', 'PRP$'), (u'citizens', 'NNS'), (u'and', 'CC'), (u'their', 'PRP$'), (u'neighbors', 'NNS'), (u',', ','), (u'and', 'CC'), (u'join', 'VB'), (u'the', 'DT'), (u'fight', 'NN'), (u'against', 'IN'), (u'terror', 'NN'), (u'.', '.')]\n",
      "[(u'Every', 'DT'), (u'step', 'NN'), (u'toward', 'IN'), (u'freedom', 'NN'), (u'in', 'IN'), (u'the', 'DT'), (u'world', 'NN'), (u'makes', 'VBZ'), (u'our', 'PRP$'), (u'country', 'NN'), (u'safer', 'NN'), (u'--', ':'), (u'so', 'IN'), (u'we', 'PRP'), (u'will', 'MD'), (u'act', 'VB'), (u'boldly', 'RB'), (u'in', 'IN'), (u'freedom', 'NN'), (u\"'s\", 'POS'), (u'cause', 'NN'), (u'.', '.')]\n",
      "[(u'(', '('), (u'Applause', 'NNP'), (u'.', '.'), (u')', ')')]\n",
      "[(u'Far', 'RB'), (u'from', 'IN'), (u'being', 'VBG'), (u'a', 'DT'), (u'hopeless', 'NN'), (u'dream', 'NN'), (u',', ','), (u'the', 'DT'), (u'advance', 'NN'), (u'of', 'IN'), (u'freedom', 'NN'), (u'is', 'VBZ'), (u'the', 'DT'), (u'great', 'JJ'), (u'story', 'NN'), (u'of', 'IN'), (u'our', 'PRP$'), (u'time', 'NN'), (u'.', '.')]\n",
      "[(u'In', 'IN'), (u'1945', 'CD'), (u',', ','), (u'there', 'EX'), (u'were', 'VBD'), (u'about', 'RB'), (u'two', 'CD'), (u'dozen', 'NN'), (u'lonely', 'RB'), (u'democracies', 'VBZ'), (u'in', 'IN'), (u'the', 'DT'), (u'world', 'NN'), (u'.', '.')]\n",
      "[(u'Today', 'NN'), (u',', ','), (u'there', 'EX'), (u'are', 'VBP'), (u'122', 'CD'), (u'.', '.')]\n",
      "[(u'And', 'CC'), (u'we', 'PRP'), (u\"'re\", 'VBP'), (u'writing', 'VBG'), (u'a', 'DT'), (u'new', 'JJ'), (u'chapter', 'NN'), (u'in', 'IN'), (u'the', 'DT'), (u'story', 'NN'), (u'of', 'IN'), (u'self-government', 'JJ'), (u'--', ':'), (u'with', 'IN'), (u'women', 'NNS'), (u'lining', 'VBG'), (u'up', 'RP'), (u'to', 'TO'), (u'vote', 'VB'), (u'in', 'IN'), (u'Afghanistan', 'NNP'), (u',', ','), (u'and', 'CC'), (u'millions', 'NNS'), (u'of', 'IN'), (u'Iraqis', 'NNP'), (u'marking', 'VBG'), (u'their', 'PRP$'), (u'liberty', 'NN'), (u'with', 'IN'), (u'purple', 'JJ'), (u'ink', 'NN'), (u',', ','), (u'and', 'CC'), (u'men', 'NNS'), (u'and', 'CC'), (u'women', 'NNS'), (u'from', 'IN'), (u'Lebanon', 'NNP'), (u'to', 'TO'), (u'Egypt', 'NNP'), (u'debating', 'VBG'), (u'the', 'DT'), (u'rights', 'NNS'), (u'of', 'IN'), (u'individuals', 'NNS'), (u'and', 'CC'), (u'the', 'DT'), (u'necessity', 'NN'), (u'of', 'IN'), (u'freedom', 'NN'), (u'.', '.')]\n",
      "[(u'At', 'IN'), (u'the', 'DT'), (u'start', 'NN'), (u'of', 'IN'), (u'2006', 'CD'), (u',', ','), (u'more', 'JJR'), (u'than', 'IN'), (u'half', 'PDT'), (u'the', 'DT'), (u'people', 'NNS'), (u'of', 'IN'), (u'our', 'PRP$'), (u'world', 'NN'), (u'live', 'VBP'), (u'in', 'IN'), (u'democratic', 'JJ'), (u'nations', 'NNS'), (u'.', '.')]\n",
      "[(u'And', 'CC'), (u'we', 'PRP'), (u'do', 'VBP'), (u'not', 'RB'), (u'forget', 'VB'), (u'the', 'DT'), (u'other', 'JJ'), (u'half', 'NN'), (u'--', ':'), (u'in', 'IN'), (u'places', 'NNS'), (u'like', 'IN'), (u'Syria', 'NNP'), (u'and', 'CC'), (u'Burma', 'NNP'), (u',', ','), (u'Zimbabwe', 'NNP'), (u',', ','), (u'North', 'NNP'), (u'Korea', 'NNP'), (u',', ','), (u'and', 'CC'), (u'Iran', 'NNP'), (u'--', ':'), (u'because', 'IN'), (u'the', 'DT'), (u'demands', 'NNS'), (u'of', 'IN'), (u'justice', 'NN'), (u',', ','), (u'and', 'CC'), (u'the', 'DT'), (u'peace', 'NN'), (u'of', 'IN'), (u'this', 'DT'), (u'world', 'NN'), (u',', ','), (u'require', 'VBP'), (u'their', 'PRP$'), (u'freedom', 'NN'), (u',', ','), (u'as', 'RB'), (u'well', 'RB'), (u'.', '.')]\n",
      "[(u'(', '('), (u'Applause', 'NNP'), (u'.', '.'), (u')', ')')]\n",
      "[(u'President', 'NNP'), (u'George', 'NNP'), (u'W.', 'NNP'), (u'Bush', 'NNP'), (u'delivers', 'VBZ'), (u'his', 'PRP$'), (u'State', 'NN'), (u'of', 'IN'), (u'the', 'DT'), (u'Union', 'NNP'), (u'Address', 'NNP'), (u'at', 'IN'), (u'the', 'DT'), (u'Capitol', 'NNP'), (u',', ','), (u'Tuesday', 'NNP'), (u',', ','), (u'Jan', 'NNP'), (u'.', '.')]\n",
      "[(u'31', 'CD'), (u',', ','), (u'2006', 'CD'), (u'.', '.')]\n",
      "[(u'White', 'NNP'), (u'House', 'NNP'), (u'photo', 'NN'), (u'by', 'IN'), (u'Eric', 'NNP'), (u'Draper', 'NNP'), (u'No', 'NNP'), (u'one', 'NN'), (u'can', 'MD'), (u'deny', 'VB'), (u'the', 'DT'), (u'success', 'NN'), (u'of', 'IN'), (u'freedom', 'NN'), (u',', ','), (u'but', 'CC'), (u'some', 'DT'), (u'men', 'NNS'), (u'rage', 'VB'), (u'and', 'CC'), (u'fight', 'VB'), (u'against', 'IN'), (u'it', 'PRP'), (u'.', '.')]\n",
      "[(u'And', 'CC'), (u'one', 'CD'), (u'of', 'IN'), (u'the', 'DT'), (u'main', 'JJ'), (u'sources', 'NNS'), (u'of', 'IN'), (u'reaction', 'NN'), (u'and', 'CC'), (u'opposition', 'NN'), (u'is', 'VBZ'), (u'radical', 'JJ'), (u'Islam', 'NNP'), (u'--', ':'), (u'the', 'DT'), (u'perversion', 'NN'), (u'by', 'IN'), (u'a', 'DT'), (u'few', 'JJ'), (u'of', 'IN'), (u'a', 'DT'), (u'noble', 'JJ'), (u'faith', 'NN'), (u'into', 'IN'), (u'an', 'DT'), (u'ideology', 'NN'), (u'of', 'IN'), (u'terror', 'NN'), (u'and', 'CC'), (u'death', 'NN'), (u'.', '.')]\n",
      "[(u'Terrorists', 'NNS'), (u'like', 'IN'), (u'bin', 'NN'), (u'Laden', 'NNP'), (u'are', 'VBP'), (u'serious', 'JJ'), (u'about', 'IN'), (u'mass', 'NN'), (u'murder', 'NN'), (u'--', ':'), (u'and', 'CC'), (u'all', 'DT'), (u'of', 'IN'), (u'us', 'PRP'), (u'must', 'MD'), (u'take', 'VB'), (u'their', 'PRP$'), (u'declared', 'JJ'), (u'intentions', 'NNS'), (u'seriously', 'RB'), (u'.', '.')]\n",
      "[(u'They', 'PRP'), (u'seek', 'VBP'), (u'to', 'TO'), (u'impose', 'VB'), (u'a', 'DT'), (u'heartless', 'NN'), (u'system', 'NN'), (u'of', 'IN'), (u'totalitarian', 'JJ'), (u'control', 'NN'), (u'throughout', 'IN'), (u'the', 'DT'), (u'Middle', 'NNP'), (u'East', 'NNP'), (u',', ','), (u'and', 'CC'), (u'arm', 'NN'), (u'themselves', 'PRP'), (u'with', 'IN'), (u'weapons', 'NNS'), (u'of', 'IN'), (u'mass', 'NN'), (u'murder', 'NN'), (u'.', '.')]\n",
      "[(u'Their', 'PRP$'), (u'aim', 'NN'), (u'is', 'VBZ'), (u'to', 'TO'), (u'seize', 'VB'), (u'power', 'NN'), (u'in', 'IN'), (u'Iraq', 'NNP'), (u',', ','), (u'and', 'CC'), (u'use', 'VB'), (u'it', 'PRP'), (u'as', 'IN'), (u'a', 'DT'), (u'safe', 'JJ'), (u'haven', 'NN'), (u'to', 'TO'), (u'launch', 'VB'), (u'attacks', 'NNS'), (u'against', 'IN'), (u'America', 'NNP'), (u'and', 'CC'), (u'the', 'DT'), (u'world', 'NN'), (u'.', '.')]\n",
      "[(u'Lacking', 'VBG'), (u'the', 'DT'), (u'military', 'JJ'), (u'strength', 'NN'), (u'to', 'TO'), (u'challenge', 'VB'), (u'us', 'PRP'), (u'directly', 'RB'), (u',', ','), (u'the', 'DT'), (u'terrorists', 'NNS'), (u'have', 'VBP'), (u'chosen', 'VBN'), (u'the', 'DT'), (u'weapon', 'NN'), (u'of', 'IN'), (u'fear', 'NN'), (u'.', '.')]\n",
      "[(u'When', 'WRB'), (u'they', 'PRP'), (u'murder', 'VBP'), (u'children', 'NNS'), (u'at', 'IN'), (u'a', 'DT'), (u'school', 'NN'), (u'in', 'IN'), (u'Beslan', 'NNP'), (u',', ','), (u'or', 'CC'), (u'blow', 'VB'), (u'up', 'RP'), (u'commuters', 'NNS'), (u'in', 'IN'), (u'London', 'NNP'), (u',', ','), (u'or', 'CC'), (u'behead', 'VB'), (u'a', 'DT'), (u'bound', 'NN'), (u'captive', 'NN'), (u',', ','), (u'the', 'DT'), (u'terrorists', 'NNS'), (u'hope', 'VBP'), (u'these', 'DT'), (u'horrors', 'NNS'), (u'will', 'MD'), (u'break', 'VB'), (u'our', 'PRP$'), (u'will', 'MD'), (u',', ','), (u'allowing', 'VBG'), (u'the', 'DT'), (u'violent', 'NN'), (u'to', 'TO'), (u'inherit', 'VB'), (u'the', 'DT'), (u'Earth', 'NNP'), (u'.', '.')]\n",
      "[(u'But', 'CC'), (u'they', 'PRP'), (u'have', 'VBP'), (u'miscalculated', 'VBN'), (u':', ':'), (u'We', 'PRP'), (u'love', 'VBP'), (u'our', 'PRP$'), (u'freedom', 'NN'), (u',', ','), (u'and', 'CC'), (u'we', 'PRP'), (u'will', 'MD'), (u'fight', 'VB'), (u'to', 'TO'), (u'keep', 'VB'), (u'it', 'PRP'), (u'.', '.')]\n",
      "[(u'(', '('), (u'Applause', 'NNP'), (u'.', '.'), (u')', ')')]\n",
      "[(u'In', 'IN'), (u'a', 'DT'), (u'time', 'NN'), (u'of', 'IN'), (u'testing', 'VBG'), (u',', ','), (u'we', 'PRP'), (u'can', 'MD'), (u'not', 'RB'), (u'find', 'VB'), (u'security', 'NN'), (u'by', 'IN'), (u'abandoning', 'VBG'), (u'our', 'PRP$'), (u'commitments', 'NNS'), (u'and', 'CC'), (u'retreating', 'VBG'), (u'within', 'IN'), (u'our', 'PRP$'), (u'borders', 'NNS'), (u'.', '.')]\n",
      "[(u'If', 'IN'), (u'we', 'PRP'), (u'were', 'VBD'), (u'to', 'TO'), (u'leave', 'VB'), (u'these', 'DT'), (u'vicious', 'JJ'), (u'attackers', 'NNS'), (u'alone', 'RB'), (u',', ','), (u'they', 'PRP'), (u'would', 'MD'), (u'not', 'RB'), (u'leave', 'VB'), (u'us', 'PRP'), (u'alone', 'RB'), (u'.', '.')]\n",
      "[(u'They', 'PRP'), (u'would', 'MD'), (u'simply', 'RB'), (u'move', 'VB'), (u'the', 'DT'), (u'battlefield', 'NN'), (u'to', 'TO'), (u'our', 'PRP$'), (u'own', 'JJ'), (u'shores', 'NNS'), (u'.', '.')]\n",
      "[(u'There', 'EX'), (u'is', 'VBZ'), (u'no', 'DT'), (u'peace', 'NN'), (u'in', 'IN'), (u'retreat', 'NN'), (u'.', '.')]\n",
      "[(u'And', 'CC'), (u'there', 'EX'), (u'is', 'VBZ'), (u'no', 'DT'), (u'honor', 'NN'), (u'in', 'IN'), (u'retreat', 'NN'), (u'.', '.')]\n",
      "[(u'By', 'IN'), (u'allowing', 'VBG'), (u'radical', 'JJ'), (u'Islam', 'NNP'), (u'to', 'TO'), (u'work', 'VB'), (u'its', 'PRP$'), (u'will', 'MD'), (u'--', ':'), (u'by', 'IN'), (u'leaving', 'VBG'), (u'an', 'DT'), (u'assaulted', 'JJ'), (u'world', 'NN'), (u'to', 'TO'), (u'fend', 'VB'), (u'for', 'IN'), (u'itself', 'PRP'), (u'--', ':'), (u'we', 'PRP'), (u'would', 'MD'), (u'signal', 'VB'), (u'to', 'TO'), (u'all', 'PDT'), (u'that', 'IN'), (u'we', 'PRP'), (u'no', 'DT'), (u'longer', 'RBR'), (u'believe', 'VBP'), (u'in', 'IN'), (u'our', 'PRP$'), (u'own', 'JJ'), (u'ideals', 'NNS'), (u',', ','), (u'or', 'CC'), (u'even', 'RB'), (u'in', 'IN'), (u'our', 'PRP$'), (u'own', 'JJ'), (u'courage', 'NN'), (u'.', '.')]\n",
      "[(u'But', 'CC'), (u'our', 'PRP$'), (u'enemies', 'NNS'), (u'and', 'CC'), (u'our', 'PRP$'), (u'friends', 'NNS'), (u'can', 'MD'), (u'be', 'VB'), (u'certain', 'JJ'), (u':', ':'), (u'The', 'DT'), (u'United', 'NNP'), (u'States', 'NNPS'), (u'will', 'MD'), (u'not', 'RB'), (u'retreat', 'VB'), (u'from', 'IN'), (u'the', 'DT'), (u'world', 'NN'), (u',', ','), (u'and', 'CC'), (u'we', 'PRP'), (u'will', 'MD'), (u'never', 'RB'), (u'surrender', 'VB'), (u'to', 'TO'), (u'evil', 'VB'), (u'.', '.')]\n",
      "[(u'(', '('), (u'Applause', 'NNP'), (u'.', '.'), (u')', ')')]\n",
      "[(u'America', 'NNP'), (u'rejects', 'VBZ'), (u'the', 'DT'), (u'false', 'JJ'), (u'comfort', 'NN'), (u'of', 'IN'), (u'isolationism', 'NN'), (u'.', '.')]\n",
      "[(u'We', 'PRP'), (u'are', 'VBP'), (u'the', 'DT'), (u'nation', 'NN'), (u'that', 'IN'), (u'saved', 'VBD'), (u'liberty', 'NN'), (u'in', 'IN'), (u'Europe', 'NNP'), (u',', ','), (u'and', 'CC'), (u'liberated', 'VBD'), (u'death', 'NN'), (u'camps', 'NNS'), (u',', ','), (u'and', 'CC'), (u'helped', 'VBD'), (u'raise', 'VB'), (u'up', 'RP'), (u'democracies', 'NNS'), (u',', ','), (u'and', 'CC'), (u'faced', 'VBD'), (u'down', 'IN'), (u'an', 'DT'), (u'evil', 'JJ'), (u'empire', 'NN'), (u'.', '.')]\n",
      "[(u'Once', 'RB'), (u'again', 'RB'), (u',', ','), (u'we', 'PRP'), (u'accept', 'VBP'), (u'the', 'DT'), (u'call', 'NN'), (u'of', 'IN'), (u'history', 'NN'), (u'to', 'TO'), (u'deliver', 'VB'), (u'the', 'DT'), (u'oppressed', 'VBN'), (u'and', 'CC'), (u'move', 'VB'), (u'this', 'DT'), (u'world', 'NN'), (u'toward', 'IN'), (u'peace', 'NN'), (u'.', '.')]\n",
      "[(u'We', 'PRP'), (u'remain', 'VBP'), (u'on', 'IN'), (u'the', 'DT'), (u'offensive', 'JJ'), (u'against', 'IN'), (u'terror', 'NN'), (u'networks', 'NNS'), (u'.', '.')]\n",
      "[(u'We', 'PRP'), (u'have', 'VBP'), (u'killed', 'VBN'), (u'or', 'CC'), (u'captured', 'VBN'), (u'many', 'JJ'), (u'of', 'IN'), (u'their', 'PRP$'), (u'leaders', 'NNS'), (u'--', ':'), (u'and', 'CC'), (u'for', 'IN'), (u'the', 'DT'), (u'others', 'NNS'), (u',', ','), (u'their', 'PRP$'), (u'day', 'NN'), (u'will', 'MD'), (u'come', 'VB'), (u'.', '.')]\n",
      "[(u'President', 'NNP'), (u'George', 'NNP'), (u'W.', 'NNP'), (u'Bush', 'NNP'), (u'greets', 'VBZ'), (u'members', 'NNS'), (u'of', 'IN'), (u'Congress', 'NNP'), (u'after', 'IN'), (u'his', 'PRP$'), (u'State', 'NN'), (u'of', 'IN'), (u'the', 'DT'), (u'Union', 'NNP'), (u'Address', 'NNP'), (u'at', 'IN'), (u'the', 'DT'), (u'Capitol', 'NNP'), (u',', ','), (u'Tuesday', 'NNP'), (u',', ','), (u'Jan', 'NNP'), (u'.', '.')]\n",
      "[(u'31', 'CD'), (u',', ','), (u'2006', 'CD'), (u'.', '.')]\n",
      "[(u'White', 'NNP'), (u'House', 'NNP'), (u'photo', 'NN'), (u'by', 'IN'), (u'Eric', 'NNP'), (u'Draper', 'NNP'), (u'We', 'PRP'), (u'remain', 'VBP'), (u'on', 'IN'), (u'the', 'DT'), (u'offensive', 'JJ'), (u'in', 'IN'), (u'Afghanistan', 'NNP'), (u',', ','), (u'where', 'WRB'), (u'a', 'DT'), (u'fine', 'JJ'), (u'President', 'NNP'), (u'and', 'CC'), (u'a', 'DT'), (u'National', 'NNP'), (u'Assembly', 'NNP'), (u'are', 'VBP'), (u'fighting', 'VBG'), (u'terror', 'NN'), (u'while', 'IN'), (u'building', 'VBG'), (u'the', 'DT'), (u'institutions', 'NNS'), (u'of', 'IN'), (u'a', 'DT'), (u'new', 'JJ'), (u'democracy', 'NN'), (u'.', '.')]\n",
      "[(u'We', 'PRP'), (u\"'re\", 'VBP'), (u'on', 'IN'), (u'the', 'DT'), (u'offensive', 'JJ'), (u'in', 'IN'), (u'Iraq', 'NNP'), (u',', ','), (u'with', 'IN'), (u'a', 'DT'), (u'clear', 'JJ'), (u'plan', 'NN'), (u'for', 'IN'), (u'victory', 'NN'), (u'.', '.')]\n",
      "[(u'First', 'RB'), (u',', ','), (u'we', 'PRP'), (u\"'re\", 'VBP'), (u'helping', 'VBG'), (u'Iraqis', 'NNP'), (u'build', 'VB'), (u'an', 'DT'), (u'inclusive', 'JJ'), (u'government', 'NN'), (u',', ','), (u'so', 'IN'), (u'that', 'DT'), (u'old', 'JJ'), (u'resentments', 'NNS'), (u'will', 'MD'), (u'be', 'VB'), (u'eased', 'VBN'), (u'and', 'CC'), (u'the', 'DT'), (u'insurgency', 'NN'), (u'will', 'MD'), (u'be', 'VB'), (u'marginalized', 'VBN'), (u'.', '.')]\n",
      "[(u'Second', 'JJ'), (u',', ','), (u'we', 'PRP'), (u\"'re\", 'VBP'), (u'continuing', 'VBG'), (u'reconstruction', 'NN'), (u'efforts', 'NNS'), (u',', ','), (u'and', 'CC'), (u'helping', 'VBG'), (u'the', 'DT'), (u'Iraqi', 'NNP'), (u'government', 'NN'), (u'to', 'TO'), (u'fight', 'VB'), (u'corruption', 'NN'), (u'and', 'CC'), (u'build', 'VB'), (u'a', 'DT'), (u'modern', 'JJ'), (u'economy', 'NN'), (u',', ','), (u'so', 'IN'), (u'all', 'DT'), (u'Iraqis', 'NNP'), (u'can', 'MD'), (u'experience', 'VB'), (u'the', 'DT'), (u'benefits', 'NNS'), (u'of', 'IN'), (u'freedom', 'NN'), (u'.', '.')]\n",
      "[(u'And', 'CC'), (u',', ','), (u'third', 'JJ'), (u',', ','), (u'we', 'PRP'), (u\"'re\", 'VBP'), (u'striking', 'VBG'), (u'terrorist', 'JJ'), (u'targets', 'NNS'), (u'while', 'IN'), (u'we', 'PRP'), (u'train', 'VBP'), (u'Iraqi', 'JJ'), (u'forces', 'NNS'), (u'that', 'WDT'), (u'are', 'VBP'), (u'increasingly', 'RB'), (u'capable', 'JJ'), (u'of', 'IN'), (u'defeating', 'VBG'), (u'the', 'DT'), (u'enemy', 'NN'), (u'.', '.')]\n",
      "[(u'Iraqis', 'NNP'), (u'are', 'VBP'), (u'showing', 'VBG'), (u'their', 'PRP$'), (u'courage', 'NN'), (u'every', 'DT'), (u'day', 'NN'), (u',', ','), (u'and', 'CC'), (u'we', 'PRP'), (u'are', 'VBP'), (u'proud', 'JJ'), (u'to', 'TO'), (u'be', 'VB'), (u'their', 'PRP$'), (u'allies', 'NNS'), (u'in', 'IN'), (u'the', 'DT'), (u'cause', 'NN'), (u'of', 'IN'), (u'freedom', 'NN'), (u'.', '.')]\n",
      "[(u'(', '('), (u'Applause', 'NNP'), (u'.', '.'), (u')', ')')]\n",
      "[(u'Our', 'PRP$'), (u'work', 'NN'), (u'in', 'IN'), (u'Iraq', 'NNP'), (u'is', 'VBZ'), (u'difficult', 'JJ'), (u'because', 'IN'), (u'our', 'PRP$'), (u'enemy', 'NN'), (u'is', 'VBZ'), (u'brutal', 'JJ'), (u'.', '.')]\n",
      "[(u'But', 'CC'), (u'that', 'DT'), (u'brutality', 'NN'), (u'has', 'VBZ'), (u'not', 'RB'), (u'stopped', 'VBN'), (u'the', 'DT'), (u'dramatic', 'JJ'), (u'progress', 'NN'), (u'of', 'IN'), (u'a', 'DT'), (u'new', 'JJ'), (u'democracy', 'NN'), (u'.', '.')]\n",
      "[(u'In', 'IN'), (u'less', 'JJR'), (u'than', 'IN'), (u'three', 'CD'), (u'years', 'NNS'), (u',', ','), (u'the', 'DT'), (u'nation', 'NN'), (u'has', 'VBZ'), (u'gone', 'VBN'), (u'from', 'IN'), (u'dictatorship', 'NN'), (u'to', 'TO'), (u'liberation', 'NN'), (u',', ','), (u'to', 'TO'), (u'sovereignty', 'VB'), (u',', ','), (u'to', 'TO'), (u'a', 'DT'), (u'constitution', 'NN'), (u',', ','), (u'to', 'TO'), (u'national', 'JJ'), (u'elections', 'NNS'), (u'.', '.')]\n",
      "[(u'At', 'IN'), (u'the', 'DT'), (u'same', 'JJ'), (u'time', 'NN'), (u',', ','), (u'our', 'PRP$'), (u'coalition', 'NN'), (u'has', 'VBZ'), (u'been', 'VBN'), (u'relentless', 'VBN'), (u'in', 'IN'), (u'shutting', 'VBG'), (u'off', 'RP'), (u'terrorist', 'JJ'), (u'infiltration', 'NN'), (u',', ','), (u'clearing', 'VBG'), (u'out', 'RP'), (u'insurgent', 'JJ'), (u'strongholds', 'NNS'), (u',', ','), (u'and', 'CC'), (u'turning', 'VBG'), (u'over', 'RP'), (u'territory', 'NN'), (u'to', 'TO'), (u'Iraqi', 'NNP'), (u'security', 'NN'), (u'forces', 'NNS'), (u'.', '.')]\n",
      "[(u'I', 'PRP'), (u'am', 'VBP'), (u'confident', 'JJ'), (u'in', 'IN'), (u'our', 'PRP$'), (u'plan', 'NN'), (u'for', 'IN'), (u'victory', 'NN'), (u';', ':'), (u'I', 'PRP'), (u'am', 'VBP'), (u'confident', 'JJ'), (u'in', 'IN'), (u'the', 'DT'), (u'will', 'MD'), (u'of', 'IN'), (u'the', 'DT'), (u'Iraqi', 'NNP'), (u'people', 'NNS'), (u';', ':'), (u'I', 'PRP'), (u'am', 'VBP'), (u'confident', 'JJ'), (u'in', 'IN'), (u'the', 'DT'), (u'skill', 'NN'), (u'and', 'CC'), (u'spirit', 'NN'), (u'of', 'IN'), (u'our', 'PRP$'), (u'military', 'JJ'), (u'.', '.')]\n",
      "[(u'Fellow', 'NNP'), (u'citizens', 'NNS'), (u',', ','), (u'we', 'PRP'), (u'are', 'VBP'), (u'in', 'IN'), (u'this', 'DT'), (u'fight', 'NN'), (u'to', 'TO'), (u'win', 'VB'), (u',', ','), (u'and', 'CC'), (u'we', 'PRP'), (u'are', 'VBP'), (u'winning', 'VBG'), (u'.', '.')]\n",
      "[(u'(', '('), (u'Applause', 'NNP'), (u'.', '.'), (u')', ')')]\n",
      "[(u'The', 'DT'), (u'road', 'NN'), (u'of', 'IN'), (u'victory', 'NN'), (u'is', 'VBZ'), (u'the', 'DT'), (u'road', 'NN'), (u'that', 'WDT'), (u'will', 'MD'), (u'take', 'VB'), (u'our', 'PRP$'), (u'troops', 'NNS'), (u'home', 'NN'), (u'.', '.')]\n",
      "[(u'As', 'IN'), (u'we', 'PRP'), (u'make', 'VBP'), (u'progress', 'NN'), (u'on', 'IN'), (u'the', 'DT'), (u'ground', 'NN'), (u',', ','), (u'and', 'CC'), (u'Iraqi', 'NNP'), (u'forces', 'NNS'), (u'increasingly', 'RB'), (u'take', 'VBP'), (u'the', 'DT'), (u'lead', 'NN'), (u',', ','), (u'we', 'PRP'), (u'should', 'MD'), (u'be', 'VB'), (u'able', 'JJ'), (u'to', 'TO'), (u'further', 'JJ'), (u'decrease', 'VB'), (u'our', 'PRP$'), (u'troop', 'NN'), (u'levels', 'NNS'), (u'--', ':'), (u'but', 'CC'), (u'those', 'DT'), (u'decisions', 'NNS'), (u'will', 'MD'), (u'be', 'VB'), (u'made', 'VBN'), (u'by', 'IN'), (u'our', 'PRP$'), (u'military', 'JJ'), (u'commanders', 'NNS'), (u',', ','), (u'not', 'RB'), (u'by', 'IN'), (u'politicians', 'NNS'), (u'in', 'IN'), (u'Washington', 'NNP'), (u',', ','), (u'D.C', 'NNP'), (u'.', '.')]\n",
      "[(u'(', '('), (u'Applause', 'NNP'), (u'.', '.'), (u')', ')')]\n",
      "[(u'Our', 'PRP$'), (u'coalition', 'NN'), (u'has', 'VBZ'), (u'learned', 'VBN'), (u'from', 'IN'), (u'our', 'PRP$'), (u'experience', 'NN'), (u'in', 'IN'), (u'Iraq', 'NNP'), (u'.', '.')]\n",
      "[(u'We', 'PRP'), (u\"'ve\", 'VBP'), (u'adjusted', 'VBN'), (u'our', 'PRP$'), (u'military', 'JJ'), (u'tactics', 'NNS'), (u'and', 'CC'), (u'changed', 'VBD'), (u'our', 'PRP$'), (u'approach', 'NN'), (u'to', 'TO'), (u'reconstruction', 'NN'), (u'.', '.')]\n",
      "[(u'Along', 'IN'), (u'the', 'DT'), (u'way', 'NN'), (u',', ','), (u'we', 'PRP'), (u'have', 'VBP'), (u'benefitted', 'VBN'), (u'from', 'IN'), (u'responsible', 'JJ'), (u'criticism', 'NN'), (u'and', 'CC'), (u'counsel', 'NN'), (u'offered', 'VBN'), (u'by', 'IN'), (u'members', 'NNS'), (u'of', 'IN'), (u'Congress', 'NNP'), (u'of', 'IN'), (u'both', 'DT'), (u'parties', 'NNS'), (u'.', '.')]\n",
      "[(u'In', 'IN'), (u'the', 'DT'), (u'coming', 'VBG'), (u'year', 'NN'), (u',', ','), (u'I', 'PRP'), (u'will', 'MD'), (u'continue', 'VB'), (u'to', 'TO'), (u'reach', 'VB'), (u'out', 'RP'), (u'and', 'CC'), (u'seek', 'VB'), (u'your', 'PRP$'), (u'good', 'JJ'), (u'advice', 'NN'), (u'.', '.')]\n",
      "[(u'Yet', 'RB'), (u',', ','), (u'there', 'EX'), (u'is', 'VBZ'), (u'a', 'DT'), (u'difference', 'NN'), (u'between', 'IN'), (u'responsible', 'JJ'), (u'criticism', 'NN'), (u'that', 'WDT'), (u'aims', 'VBZ'), (u'for', 'IN'), (u'success', 'NN'), (u',', ','), (u'and', 'CC'), (u'defeatism', 'NN'), (u'that', 'WDT'), (u'refuses', 'VBZ'), (u'to', 'TO'), (u'acknowledge', 'VB'), (u'anything', 'NN'), (u'but', 'CC'), (u'failure', 'NN'), (u'.', '.')]\n",
      "[(u'(', '('), (u'Applause', 'NNP'), (u'.', '.'), (u')', ')')]\n",
      "[(u'Hindsight', 'NNP'), (u'alone', 'RB'), (u'is', 'VBZ'), (u'not', 'RB'), (u'wisdom', 'JJ'), (u',', ','), (u'and', 'CC'), (u'second-guessing', 'NN'), (u'is', 'VBZ'), (u'not', 'RB'), (u'a', 'DT'), (u'strategy', 'NN'), (u'.', '.')]\n",
      "[(u'(', '('), (u'Applause', 'NNP'), (u'.', '.'), (u')', ')')]\n",
      "[(u'With', 'IN'), (u'so', 'RB'), (u'much', 'JJ'), (u'in', 'IN'), (u'the', 'DT'), (u'balance', 'NN'), (u',', ','), (u'those', 'DT'), (u'of', 'IN'), (u'us', 'PRP'), (u'in', 'IN'), (u'public', 'JJ'), (u'office', 'NN'), (u'have', 'VBP'), (u'a', 'DT'), (u'duty', 'NN'), (u'to', 'TO'), (u'speak', 'VB'), (u'with', 'IN'), (u'candor', 'NN'), (u'.', '.')]\n",
      "[(u'A', 'DT'), (u'sudden', 'JJ'), (u'withdrawal', 'NN'), (u'of', 'IN'), (u'our', 'PRP$'), (u'forces', 'NNS'), (u'from', 'IN'), (u'Iraq', 'NNP'), (u'would', 'MD'), (u'abandon', 'VB'), (u'our', 'PRP$'), (u'Iraqi', 'NNP'), (u'allies', 'NNS'), (u'to', 'TO'), (u'death', 'NN'), (u'and', 'CC'), (u'prison', 'NN'), (u',', ','), (u'would', 'MD'), (u'put', 'VB'), (u'men', 'NNS'), (u'like', 'IN'), (u'bin', 'NN'), (u'Laden', 'NNP'), (u'and', 'CC'), (u'Zarqawi', 'NNP'), (u'in', 'IN'), (u'charge', 'NN'), (u'of', 'IN'), (u'a', 'DT'), (u'strategic', 'JJ'), (u'country', 'NN'), (u',', ','), (u'and', 'CC'), (u'show', 'VBP'), (u'that', 'IN'), (u'a', 'DT'), (u'pledge', 'NN'), (u'from', 'IN'), (u'America', 'NNP'), (u'means', 'VBZ'), (u'little', 'JJ'), (u'.', '.')]\n",
      "[(u'Members', 'NNS'), (u'of', 'IN'), (u'Congress', 'NNP'), (u',', ','), (u'however', 'RB'), (u'we', 'PRP'), (u'feel', 'VBP'), (u'about', 'IN'), (u'the', 'DT'), (u'decisions', 'NNS'), (u'and', 'CC'), (u'debates', 'NNS'), (u'of', 'IN'), (u'the', 'DT'), (u'past', 'NN'), (u',', ','), (u'our', 'PRP$'), (u'nation', 'NN'), (u'has', 'VBZ'), (u'only', 'RB'), (u'one', 'CD'), (u'option', 'NN'), (u':', ':'), (u'We', 'PRP'), (u'must', 'MD'), (u'keep', 'VB'), (u'our', 'PRP$'), (u'word', 'NN'), (u',', ','), (u'defeat', 'VB'), (u'our', 'PRP$'), (u'enemies', 'NNS'), (u',', ','), (u'and', 'CC'), (u'stand', 'VBP'), (u'behind', 'IN'), (u'the', 'DT'), (u'American', 'JJ'), (u'military', 'NN'), (u'in', 'IN'), (u'this', 'DT'), (u'vital', 'JJ'), (u'mission', 'NN'), (u'.', '.')]\n",
      "[(u'(', '('), (u'Applause', 'NNP'), (u'.', '.'), (u')', ')')]\n",
      "[(u'Laura', 'NNP'), (u'Bush', 'NNP'), (u'is', 'VBZ'), (u'applauded', 'VBN'), (u'as', 'IN'), (u'she', 'PRP'), (u'is', 'VBZ'), (u'introduced', 'VBN'), (u'Tuesday', 'NNP'), (u'evening', 'NN'), (u',', ','), (u'Jan', 'NNP'), (u'.', '.')]\n",
      "[(u'31', 'CD'), (u',', ','), (u'2006', 'CD'), (u'during', 'IN'), (u'the', 'DT'), (u'State', 'NNP'), (u'of', 'IN'), (u'the', 'DT'), (u'Union', 'NNP'), (u'Address', 'NNP'), (u'at', 'IN'), (u'United', 'NNP'), (u'States', 'NNPS'), (u'Capitol', 'NNP'), (u'in', 'IN'), (u'Washington', 'NNP'), (u'.', '.')]\n",
      "[(u'White', 'NNP'), (u'House', 'NNP'), (u'photo', 'NN'), (u'by', 'IN'), (u'Eric', 'NNP'), (u'Draper', 'NNP'), (u'Our', 'PRP$'), (u'men', 'NNS'), (u'and', 'CC'), (u'women', 'NNS'), (u'in', 'IN'), (u'uniform', 'JJ'), (u'are', 'VBP'), (u'making', 'VBG'), (u'sacrifices', 'NNS'), (u'--', ':'), (u'and', 'CC'), (u'showing', 'VBG'), (u'a', 'DT'), (u'sense', 'NN'), (u'of', 'IN'), (u'duty', 'NN'), (u'stronger', 'JJR'), (u'than', 'IN'), (u'all', 'DT'), (u'fear', 'NN'), (u'.', '.')]\n",
      "[(u'They', 'PRP'), (u'know', 'VBP'), (u'what', 'WP'), (u'it', 'PRP'), (u\"'s\", 'VBZ'), (u'like', 'IN'), (u'to', 'TO'), (u'fight', 'VB'), (u'house', 'NN'), (u'to', 'TO'), (u'house', 'NN'), (u'in', 'IN'), (u'a', 'DT'), (u'maze', 'NN'), (u'of', 'IN'), (u'streets', 'NNS'), (u',', ','), (u'to', 'TO'), (u'wear', 'VB'), (u'heavy', 'JJ'), (u'gear', 'NN'), (u'in', 'IN'), (u'the', 'DT'), (u'desert', 'NN'), (u'heat', 'NN'), (u',', ','), (u'to', 'TO'), (u'see', 'VB'), (u'a', 'DT'), (u'comrade', 'NN'), (u'killed', 'VBN'), (u'by', 'IN'), (u'a', 'DT'), (u'roadside', 'NN'), (u'bomb', 'NN'), (u'.', '.')]\n",
      "[(u'And', 'CC'), (u'those', 'DT'), (u'who', 'WP'), (u'know', 'VBP'), (u'the', 'DT'), (u'costs', 'NNS'), (u'also', 'RB'), (u'know', 'VBP'), (u'the', 'DT'), (u'stakes', 'NNS'), (u'.', '.')]\n",
      "[(u'Marine', 'JJ'), (u'Staff', 'NNP'), (u'Sergeant', 'NNP'), (u'Dan', 'NNP'), (u'Clay', 'NNP'), (u'was', 'VBD'), (u'killed', 'VBN'), (u'last', 'JJ'), (u'month', 'NN'), (u'fighting', 'VBG'), (u'in', 'IN'), (u'Fallujah', 'NNP'), (u'.', '.')]\n",
      "[(u'He', 'PRP'), (u'left', 'VBD'), (u'behind', 'RP'), (u'a', 'DT'), (u'letter', 'NN'), (u'to', 'TO'), (u'his', 'PRP$'), (u'family', 'NN'), (u',', ','), (u'but', 'CC'), (u'his', 'PRP$'), (u'words', 'NNS'), (u'could', 'MD'), (u'just', 'RB'), (u'as', 'RB'), (u'well', 'RB'), (u'be', 'VB'), (u'addressed', 'VBN'), (u'to', 'TO'), (u'every', 'DT'), (u'American', 'NNP'), (u'.', '.')]\n",
      "[(u'Here', 'RB'), (u'is', 'VBZ'), (u'what', 'WP'), (u'Dan', 'NNP'), (u'wrote', 'VBD'), (u':', ':'), (u'``', '``'), (u'I', 'PRP'), (u'know', 'VBP'), (u'what', 'WP'), (u'honor', 'NN'), (u'is', 'VBZ'), (u'.', '.')]\n",
      "[(u'...', ':'), (u'It', 'PRP'), (u'has', 'VBZ'), (u'been', 'VBN'), (u'an', 'DT'), (u'honor', 'NN'), (u'to', 'TO'), (u'protect', 'VB'), (u'and', 'CC'), (u'serve', 'VB'), (u'all', 'DT'), (u'of', 'IN'), (u'you', 'PRP'), (u'.', '.')]\n",
      "[(u'I', 'PRP'), (u'faced', 'VBD'), (u'death', 'NN'), (u'with', 'IN'), (u'the', 'DT'), (u'secure', 'NN'), (u'knowledge', 'NN'), (u'that', 'IN'), (u'you', 'PRP'), (u'would', 'MD'), (u'not', 'RB'), (u'have', 'VB'), (u'to', 'TO'), (u'...', ':'), (u'.', '.')]\n",
      "[(u'Never', 'RB'), (u'falter', 'NN'), (u'!', '.')]\n",
      "[(u'Do', 'VBP'), (u\"n't\", 'RB'), (u'hesitate', 'VB'), (u'to', 'TO'), (u'honor', 'VB'), (u'and', 'CC'), (u'support', 'VB'), (u'those', 'DT'), (u'of', 'IN'), (u'us', 'PRP'), (u'who', 'WP'), (u'have', 'VBP'), (u'the', 'DT'), (u'honor', 'NN'), (u'of', 'IN'), (u'protecting', 'VBG'), (u'that', 'DT'), (u'which', 'WDT'), (u'is', 'VBZ'), (u'worth', 'JJ'), (u'protecting', 'VBG'), (u'.', '.'), (u\"''\", \"''\")]\n",
      "[(u'Staff', 'NNP'), (u'Sergeant', 'NNP'), (u'Dan', 'NNP'), (u'Clay', 'NNP'), (u\"'s\", 'POS'), (u'wife', 'NN'), (u',', ','), (u'Lisa', 'NNP'), (u',', ','), (u'and', 'CC'), (u'his', 'PRP$'), (u'mom', 'NN'), (u'and', 'CC'), (u'dad', 'NN'), (u',', ','), (u'Sara', 'NNP'), (u'Jo', 'NNP'), (u'and', 'CC'), (u'Bud', 'NNP'), (u',', ','), (u'are', 'VBP'), (u'with', 'IN'), (u'us', 'PRP'), (u'this', 'DT'), (u'evening', 'NN'), (u'.', '.')]\n",
      "[(u'Welcome', 'NNP'), (u'.', '.')]\n",
      "[(u'(', '('), (u'Applause', 'NNP'), (u'.', '.'), (u')', ')')]\n",
      "[(u'Our', 'PRP$'), (u'nation', 'NN'), (u'is', 'VBZ'), (u'grateful', 'JJ'), (u'to', 'TO'), (u'the', 'DT'), (u'fallen', 'VBN'), (u',', ','), (u'who', 'WP'), (u'live', 'VBP'), (u'in', 'IN'), (u'the', 'DT'), (u'memory', 'NN'), (u'of', 'IN'), (u'our', 'PRP$'), (u'country', 'NN'), (u'.', '.')]\n",
      "[(u'We', 'PRP'), (u\"'re\", 'VBP'), (u'grateful', 'JJ'), (u'to', 'TO'), (u'all', 'DT'), (u'who', 'WP'), (u'volunteer', 'VBP'), (u'to', 'TO'), (u'wear', 'VB'), (u'our', 'PRP$'), (u'nation', 'NN'), (u\"'s\", 'POS'), (u'uniform', 'NN'), (u'--', ':'), (u'and', 'CC'), (u'as', 'IN'), (u'we', 'PRP'), (u'honor', 'VBP'), (u'our', 'PRP$'), (u'brave', 'NN'), (u'troops', 'NNS'), (u',', ','), (u'let', 'VB'), (u'us', 'PRP'), (u'never', 'RB'), (u'forget', 'VBP'), (u'the', 'DT'), (u'sacrifices', 'NNS'), (u'of', 'IN'), (u'America', 'NNP'), (u\"'s\", 'POS'), (u'military', 'JJ'), (u'families', 'NNS'), (u'.', '.')]\n",
      "[(u'(', '('), (u'Applause', 'NNP'), (u'.', '.'), (u')', ')')]\n",
      "[(u'Our', 'PRP$'), (u'offensive', 'JJ'), (u'against', 'IN'), (u'terror', 'NN'), (u'involves', 'VBZ'), (u'more', 'JJR'), (u'than', 'IN'), (u'military', 'JJ'), (u'action', 'NN'), (u'.', '.')]\n",
      "[(u'Ultimately', 'RB'), (u',', ','), (u'the', 'DT'), (u'only', 'JJ'), (u'way', 'NN'), (u'to', 'TO'), (u'defeat', 'VB'), (u'the', 'DT'), (u'terrorists', 'NNS'), (u'is', 'VBZ'), (u'to', 'TO'), (u'defeat', 'VB'), (u'their', 'PRP$'), (u'dark', 'JJ'), (u'vision', 'NN'), (u'of', 'IN'), (u'hatred', 'VBN'), (u'and', 'CC'), (u'fear', 'VBN'), (u'by', 'IN'), (u'offering', 'VBG'), (u'the', 'DT'), (u'hopeful', 'JJ'), (u'alternative', 'NN'), (u'of', 'IN'), (u'political', 'JJ'), (u'freedom', 'NN'), (u'and', 'CC'), (u'peaceful', 'JJ'), (u'change', 'NN'), (u'.', '.')]\n",
      "[(u'So', 'IN'), (u'the', 'DT'), (u'United', 'NNP'), (u'States', 'NNPS'), (u'of', 'IN'), (u'America', 'NNP'), (u'supports', 'NNS'), (u'democratic', 'JJ'), (u'reform', 'NN'), (u'across', 'IN'), (u'the', 'DT'), (u'broader', 'JJR'), (u'Middle', 'NNP'), (u'East', 'NNP'), (u'.', '.')]\n",
      "[(u'Elections', 'NNS'), (u'are', 'VBP'), (u'vital', 'JJ'), (u',', ','), (u'but', 'CC'), (u'they', 'PRP'), (u'are', 'VBP'), (u'only', 'RB'), (u'the', 'DT'), (u'beginning', 'NN'), (u'.', '.')]\n",
      "[(u'Raising', 'VBG'), (u'up', 'RP'), (u'a', 'DT'), (u'democracy', 'NN'), (u'requires', 'VBZ'), (u'the', 'DT'), (u'rule', 'NN'), (u'of', 'IN'), (u'law', 'NN'), (u',', ','), (u'and', 'CC'), (u'protection', 'NN'), (u'of', 'IN'), (u'minorities', 'NNS'), (u',', ','), (u'and', 'CC'), (u'strong', 'JJ'), (u',', ','), (u'accountable', 'JJ'), (u'institutions', 'NNS'), (u'that', 'IN'), (u'last', 'JJ'), (u'longer', 'JJR'), (u'than', 'IN'), (u'a', 'DT'), (u'single', 'JJ'), (u'vote', 'NN'), (u'.', '.')]\n",
      "[(u'The', 'DT'), (u'great', 'JJ'), (u'people', 'NNS'), (u'of', 'IN'), (u'Egypt', 'NNP'), (u'have', 'VBP'), (u'voted', 'VBN'), (u'in', 'IN'), (u'a', 'DT'), (u'multi-party', 'JJ'), (u'presidential', 'JJ'), (u'election', 'NN'), (u'--', ':'), (u'and', 'CC'), (u'now', 'RB'), (u'their', 'PRP$'), (u'government', 'NN'), (u'should', 'MD'), (u'open', 'VB'), (u'paths', 'NNS'), (u'of', 'IN'), (u'peaceful', 'JJ'), (u'opposition', 'NN'), (u'that', 'WDT'), (u'will', 'MD'), (u'reduce', 'VB'), (u'the', 'DT'), (u'appeal', 'NN'), (u'of', 'IN'), (u'radicalism', 'NN'), (u'.', '.')]\n",
      "[(u'The', 'DT'), (u'Palestinian', 'JJ'), (u'people', 'NNS'), (u'have', 'VBP'), (u'voted', 'VBN'), (u'in', 'IN'), (u'elections', 'NNS'), (u'.', '.')]\n",
      "[(u'And', 'CC'), (u'now', 'RB'), (u'the', 'DT'), (u'leaders', 'NNS'), (u'of', 'IN'), (u'Hamas', 'NNP'), (u'must', 'MD'), (u'recognize', 'VB'), (u'Israel', 'NNP'), (u',', ','), (u'disarm', 'NN'), (u',', ','), (u'reject', 'JJ'), (u'terrorism', 'NN'), (u',', ','), (u'and', 'CC'), (u'work', 'NN'), (u'for', 'IN'), (u'lasting', 'VBG'), (u'peace', 'NN'), (u'.', '.')]\n",
      "[(u'(', '('), (u'Applause', 'NNP'), (u'.', '.'), (u')', ')')]\n",
      "[(u'Saudi', 'NNP'), (u'Arabia', 'NNP'), (u'has', 'VBZ'), (u'taken', 'VBN'), (u'the', 'DT'), (u'first', 'JJ'), (u'steps', 'NNS'), (u'of', 'IN'), (u'reform', 'NN'), (u'--', ':'), (u'now', 'RB'), (u'it', 'PRP'), (u'can', 'MD'), (u'offer', 'VB'), (u'its', 'PRP$'), (u'people', 'NNS'), (u'a', 'DT'), (u'better', 'JJR'), (u'future', 'NN'), (u'by', 'IN'), (u'pressing', 'VBG'), (u'forward', 'RB'), (u'with', 'IN'), (u'those', 'DT'), (u'efforts', 'NNS'), (u'.', '.')]\n",
      "[(u'Democracies', 'NNS'), (u'in', 'IN'), (u'the', 'DT'), (u'Middle', 'NNP'), (u'East', 'NNP'), (u'will', 'MD'), (u'not', 'RB'), (u'look', 'VB'), (u'like', 'IN'), (u'our', 'PRP$'), (u'own', 'JJ'), (u',', ','), (u'because', 'IN'), (u'they', 'PRP'), (u'will', 'MD'), (u'reflect', 'VB'), (u'the', 'DT'), (u'traditions', 'NNS'), (u'of', 'IN'), (u'their', 'PRP$'), (u'own', 'JJ'), (u'citizens', 'NNS'), (u'.', '.')]\n",
      "[(u'Yet', 'RB'), (u'liberty', 'NN'), (u'is', 'VBZ'), (u'the', 'DT'), (u'future', 'NN'), (u'of', 'IN'), (u'every', 'DT'), (u'nation', 'NN'), (u'in', 'IN'), (u'the', 'DT'), (u'Middle', 'NNP'), (u'East', 'NNP'), (u',', ','), (u'because', 'IN'), (u'liberty', 'NN'), (u'is', 'VBZ'), (u'the', 'DT'), (u'right', 'NN'), (u'and', 'CC'), (u'hope', 'NN'), (u'of', 'IN'), (u'all', 'DT'), (u'humanity', 'NN'), (u'.', '.')]\n",
      "[(u'(', '('), (u'Applause', 'NNP'), (u'.', '.'), (u')', ')')]\n",
      "[(u'President', 'NNP'), (u'George', 'NNP'), (u'W.', 'NNP'), (u'Bush', 'NNP'), (u'waves', 'VBZ'), (u'toward', 'IN'), (u'the', 'DT'), (u'upper', 'JJ'), (u'visitors', 'NNS'), (u'gallery', 'NN'), (u'of', 'IN'), (u'the', 'DT'), (u'House', 'NNP'), (u'Chamber', 'NNP'), (u'following', 'VBG'), (u'his', 'PRP$'), (u'State', 'NN'), (u'of', 'IN'), (u'the', 'DT'), (u'Union', 'NNP'), (u'remarks', 'NNS'), (u'Tuesday', 'NNP'), (u',', ','), (u'Jan', 'NNP'), (u'.', '.')]\n",
      "[(u'31', 'CD'), (u',', ','), (u'2006', 'CD'), (u'at', 'IN'), (u'the', 'DT'), (u'United', 'NNP'), (u'States', 'NNPS'), (u'Capitol', 'NNP'), (u'.', '.')]\n",
      "[(u'White', 'NNP'), (u'House', 'NNP'), (u'photo', 'NN'), (u'by', 'IN'), (u'Eric', 'NNP'), (u'Draper', 'NNP'), (u'The', 'DT'), (u'same', 'JJ'), (u'is', 'VBZ'), (u'true', 'JJ'), (u'of', 'IN'), (u'Iran', 'NNP'), (u',', ','), (u'a', 'DT'), (u'nation', 'NN'), (u'now', 'RB'), (u'held', 'VBN'), (u'hostage', 'NN'), (u'by', 'IN'), (u'a', 'DT'), (u'small', 'JJ'), (u'clerical', 'JJ'), (u'elite', 'NN'), (u'that', 'WDT'), (u'is', 'VBZ'), (u'isolating', 'VBG'), (u'and', 'CC'), (u'repressing', 'VBG'), (u'its', 'PRP$'), (u'people', 'NNS'), (u'.', '.')]\n",
      "[(u'The', 'DT'), (u'regime', 'NN'), (u'in', 'IN'), (u'that', 'DT'), (u'country', 'NN'), (u'sponsors', 'NNS'), (u'terrorists', 'NNS'), (u'in', 'IN'), (u'the', 'DT'), (u'Palestinian', 'JJ'), (u'territories', 'NNS'), (u'and', 'CC'), (u'in', 'IN'), (u'Lebanon', 'NNP'), (u'--', ':'), (u'and', 'CC'), (u'that', 'DT'), (u'must', 'MD'), (u'come', 'VB'), (u'to', 'TO'), (u'an', 'DT'), (u'end', 'NN'), (u'.', '.')]\n",
      "[(u'(', '('), (u'Applause', 'NNP'), (u'.', '.'), (u')', ')')]\n",
      "[(u'The', 'DT'), (u'Iranian', 'JJ'), (u'government', 'NN'), (u'is', 'VBZ'), (u'defying', 'VBG'), (u'the', 'DT'), (u'world', 'NN'), (u'with', 'IN'), (u'its', 'PRP$'), (u'nuclear', 'JJ'), (u'ambitions', 'NNS'), (u',', ','), (u'and', 'CC'), (u'the', 'DT'), (u'nations', 'NNS'), (u'of', 'IN'), (u'the', 'DT'), (u'world', 'NN'), (u'must', 'MD'), (u'not', 'RB'), (u'permit', 'VB'), (u'the', 'DT'), (u'Iranian', 'JJ'), (u'regime', 'NN'), (u'to', 'TO'), (u'gain', 'VB'), (u'nuclear', 'JJ'), (u'weapons', 'NNS'), (u'.', '.')]\n",
      "[(u'(', '('), (u'Applause', 'NNP'), (u'.', '.'), (u')', ')')]\n",
      "[(u'America', 'NNP'), (u'will', 'MD'), (u'continue', 'VB'), (u'to', 'TO'), (u'rally', 'VB'), (u'the', 'DT'), (u'world', 'NN'), (u'to', 'TO'), (u'confront', 'VB'), (u'these', 'DT'), (u'threats', 'NNS'), (u'.', '.')]\n",
      "[(u'Tonight', 'NNP'), (u',', ','), (u'let', 'VB'), (u'me', 'PRP'), (u'speak', 'VB'), (u'directly', 'RB'), (u'to', 'TO'), (u'the', 'DT'), (u'citizens', 'NNS'), (u'of', 'IN'), (u'Iran', 'NNP'), (u':', ':'), (u'America', 'NNP'), (u'respects', 'VBZ'), (u'you', 'PRP'), (u',', ','), (u'and', 'CC'), (u'we', 'PRP'), (u'respect', 'VBP'), (u'your', 'PRP$'), (u'country', 'NN'), (u'.', '.')]\n",
      "[(u'We', 'PRP'), (u'respect', 'VBP'), (u'your', 'PRP$'), (u'right', 'NN'), (u'to', 'TO'), (u'choose', 'VB'), (u'your', 'PRP$'), (u'own', 'JJ'), (u'future', 'NN'), (u'and', 'CC'), (u'win', 'VB'), (u'your', 'PRP$'), (u'own', 'JJ'), (u'freedom', 'NN'), (u'.', '.')]\n",
      "[(u'And', 'CC'), (u'our', 'PRP$'), (u'nation', 'NN'), (u'hopes', 'VBZ'), (u'one', 'CD'), (u'day', 'NN'), (u'to', 'TO'), (u'be', 'VB'), (u'the', 'DT'), (u'closest', 'JJS'), (u'of', 'IN'), (u'friends', 'NNS'), (u'with', 'IN'), (u'a', 'DT'), (u'free', 'JJ'), (u'and', 'CC'), (u'democratic', 'JJ'), (u'Iran', 'NNP'), (u'.', '.')]\n",
      "[(u'(', '('), (u'Applause', 'NNP'), (u'.', '.'), (u')', ')')]\n",
      "[(u'To', 'TO'), (u'overcome', 'VB'), (u'dangers', 'NNS'), (u'in', 'IN'), (u'our', 'PRP$'), (u'world', 'NN'), (u',', ','), (u'we', 'PRP'), (u'must', 'MD'), (u'also', 'RB'), (u'take', 'VB'), (u'the', 'DT'), (u'offensive', 'JJ'), (u'by', 'IN'), (u'encouraging', 'VBG'), (u'economic', 'JJ'), (u'progress', 'NN'), (u',', ','), (u'and', 'CC'), (u'fighting', 'VBG'), (u'disease', 'NN'), (u',', ','), (u'and', 'CC'), (u'spreading', 'VBG'), (u'hope', 'NN'), (u'in', 'IN'), (u'hopeless', 'JJ'), (u'lands', 'NNS'), (u'.', '.')]\n",
      "[(u'Isolationism', 'NNP'), (u'would', 'MD'), (u'not', 'RB'), (u'only', 'RB'), (u'tie', 'VB'), (u'our', 'PRP$'), (u'hands', 'NNS'), (u'in', 'IN'), (u'fighting', 'VBG'), (u'enemies', 'NNS'), (u',', ','), (u'it', 'PRP'), (u'would', 'MD'), (u'keep', 'VB'), (u'us', 'PRP'), (u'from', 'IN'), (u'helping', 'VBG'), (u'our', 'PRP$'), (u'friends', 'NNS'), (u'in', 'IN'), (u'desperate', 'JJ'), (u'need', 'NN'), (u'.', '.')]\n",
      "[(u'We', 'PRP'), (u'show', 'VBP'), (u'compassion', 'JJ'), (u'abroad', 'RB'), (u'because', 'IN'), (u'Americans', 'NNPS'), (u'believe', 'VBP'), (u'in', 'IN'), (u'the', 'DT'), (u'God-given', 'NNP'), (u'dignity', 'NN'), (u'and', 'CC'), (u'worth', 'NN'), (u'of', 'IN'), (u'a', 'DT'), (u'villager', 'NN'), (u'with', 'IN'), (u'HIV/AIDS', 'NNP'), (u',', ','), (u'or', 'CC'), (u'an', 'DT'), (u'infant', 'NN'), (u'with', 'IN'), (u'malaria', 'NNS'), (u',', ','), (u'or', 'CC'), (u'a', 'DT'), (u'refugee', 'JJ'), (u'fleeing', 'NN'), (u'genocide', 'NN'), (u',', ','), (u'or', 'CC'), (u'a', 'DT'), (u'young', 'JJ'), (u'girl', 'NN'), (u'sold', 'VBN'), (u'into', 'IN'), (u'slavery', 'NN'), (u'.', '.')]\n",
      "[(u'We', 'PRP'), (u'also', 'RB'), (u'show', 'VBP'), (u'compassion', 'NN'), (u'abroad', 'RB'), (u'because', 'IN'), (u'regions', 'NNS'), (u'overwhelmed', 'VBN'), (u'by', 'IN'), (u'poverty', 'NN'), (u',', ','), (u'corruption', 'NN'), (u',', ','), (u'and', 'CC'), (u'despair', 'NN'), (u'are', 'VBP'), (u'sources', 'NNS'), (u'of', 'IN'), (u'terrorism', 'NN'), (u',', ','), (u'and', 'CC'), (u'organized', 'VBD'), (u'crime', 'NN'), (u',', ','), (u'and', 'CC'), (u'human', 'JJ'), (u'trafficking', 'NN'), (u',', ','), (u'and', 'CC'), (u'the', 'DT'), (u'drug', 'NN'), (u'trade', 'NN'), (u'.', '.')]\n",
      "[(u'In', 'IN'), (u'recent', 'JJ'), (u'years', 'NNS'), (u',', ','), (u'you', 'PRP'), (u'and', 'CC'), (u'I', 'PRP'), (u'have', 'VBP'), (u'taken', 'VBN'), (u'unprecedented', 'JJ'), (u'action', 'NN'), (u'to', 'TO'), (u'fight', 'VB'), (u'AIDS', 'NNP'), (u'and', 'CC'), (u'malaria', 'NNS'), (u',', ','), (u'expand', 'VBP'), (u'the', 'DT'), (u'education', 'NN'), (u'of', 'IN'), (u'girls', 'NNS'), (u',', ','), (u'and', 'CC'), (u'reward', 'RB'), (u'developing', 'VBG'), (u'nations', 'NNS'), (u'that', 'WDT'), (u'are', 'VBP'), (u'moving', 'VBG'), (u'forward', 'RB'), (u'with', 'IN'), (u'economic', 'JJ'), (u'and', 'CC'), (u'political', 'JJ'), (u'reform', 'NN'), (u'.', '.')]\n",
      "[(u'For', 'IN'), (u'people', 'NNS'), (u'everywhere', 'RB'), (u',', ','), (u'the', 'DT'), (u'United', 'NNP'), (u'States', 'NNPS'), (u'is', 'VBZ'), (u'a', 'DT'), (u'partner', 'NN'), (u'for', 'IN'), (u'a', 'DT'), (u'better', 'JJR'), (u'life', 'NN'), (u'.', '.')]\n",
      "[(u'Short-changing', 'VBG'), (u'these', 'DT'), (u'efforts', 'NNS'), (u'would', 'MD'), (u'increase', 'VB'), (u'the', 'DT'), (u'suffering', 'NN'), (u'and', 'CC'), (u'chaos', 'NN'), (u'of', 'IN'), (u'our', 'PRP$'), (u'world', 'NN'), (u',', ','), (u'undercut', 'JJ'), (u'our', 'PRP$'), (u'long-term', 'JJ'), (u'security', 'NN'), (u',', ','), (u'and', 'CC'), (u'dull', 'VB'), (u'the', 'DT'), (u'conscience', 'NN'), (u'of', 'IN'), (u'our', 'PRP$'), (u'country', 'NN'), (u'.', '.')]\n",
      "[(u'I', 'PRP'), (u'urge', 'VBP'), (u'members', 'NNS'), (u'of', 'IN'), (u'Congress', 'NNP'), (u'to', 'TO'), (u'serve', 'VB'), (u'the', 'DT'), (u'interests', 'NNS'), (u'of', 'IN'), (u'America', 'NNP'), (u'by', 'IN'), (u'showing', 'VBG'), (u'the', 'DT'), (u'compassion', 'NN'), (u'of', 'IN'), (u'America', 'NNP'), (u'.', '.')]\n",
      "[(u'Our', 'PRP$'), (u'country', 'NN'), (u'must', 'MD'), (u'also', 'RB'), (u'remain', 'VB'), (u'on', 'IN'), (u'the', 'DT'), (u'offensive', 'JJ'), (u'against', 'IN'), (u'terrorism', 'NN'), (u'here', 'RB'), (u'at', 'IN'), (u'home', 'NN'), (u'.', '.')]\n",
      "[(u'The', 'DT'), (u'enemy', 'NN'), (u'has', 'VBZ'), (u'not', 'RB'), (u'lost', 'VBN'), (u'the', 'DT'), (u'desire', 'NN'), (u'or', 'CC'), (u'capability', 'NN'), (u'to', 'TO'), (u'attack', 'VB'), (u'us', 'PRP'), (u'.', '.')]\n",
      "[(u'Fortunately', 'RB'), (u',', ','), (u'this', 'DT'), (u'nation', 'NN'), (u'has', 'VBZ'), (u'superb', 'VBN'), (u'professionals', 'NNS'), (u'in', 'IN'), (u'law', 'NN'), (u'enforcement', 'NN'), (u',', ','), (u'intelligence', 'NN'), (u',', ','), (u'the', 'DT'), (u'military', 'JJ'), (u',', ','), (u'and', 'CC'), (u'homeland', 'VBP'), (u'security', 'NN'), (u'.', '.')]\n",
      "[(u'These', 'DT'), (u'men', 'NNS'), (u'and', 'CC'), (u'women', 'NNS'), (u'are', 'VBP'), (u'dedicating', 'VBG'), (u'their', 'PRP$'), (u'lives', 'NNS'), (u',', ','), (u'protecting', 'VBG'), (u'us', 'PRP'), (u'all', 'DT'), (u',', ','), (u'and', 'CC'), (u'they', 'PRP'), (u'deserve', 'VBP'), (u'our', 'PRP$'), (u'support', 'NN'), (u'and', 'CC'), (u'our', 'PRP$'), (u'thanks', 'NNS'), (u'.', '.')]\n",
      "[(u'(', '('), (u'Applause', 'NNP'), (u'.', '.'), (u')', ')')]\n",
      "[(u'They', 'PRP'), (u'also', 'RB'), (u'deserve', 'VBP'), (u'the', 'DT'), (u'same', 'JJ'), (u'tools', 'NNS'), (u'they', 'PRP'), (u'already', 'RB'), (u'use', 'VBP'), (u'to', 'TO'), (u'fight', 'VB'), (u'drug', 'NN'), (u'trafficking', 'NN'), (u'and', 'CC'), (u'organized', 'VBN'), (u'crime', 'NN'), (u'--', ':'), (u'so', 'RB'), (u'I', 'PRP'), (u'ask', 'VBP'), (u'you', 'PRP'), (u'to', 'TO'), (u'reauthorize', 'VB'), (u'the', 'DT'), (u'Patriot', 'NNP'), (u'Act', 'NNP'), (u'.', '.')]\n",
      "[(u'(', '('), (u'Applause', 'NNP'), (u'.', '.'), (u')', ')')]\n",
      "[(u'It', 'PRP'), (u'is', 'VBZ'), (u'said', 'VBD'), (u'that', 'IN'), (u'prior', 'JJ'), (u'to', 'TO'), (u'the', 'DT'), (u'attacks', 'NNS'), (u'of', 'IN'), (u'September', 'NNP'), (u'the', 'DT'), (u'11th', 'CD'), (u',', ','), (u'our', 'PRP$'), (u'government', 'NN'), (u'failed', 'VBD'), (u'to', 'TO'), (u'connect', 'VB'), (u'the', 'DT'), (u'dots', 'NNS'), (u'of', 'IN'), (u'the', 'DT'), (u'conspiracy', 'NN'), (u'.', '.')]\n",
      "[(u'We', 'PRP'), (u'now', 'RB'), (u'know', 'VBP'), (u'that', 'IN'), (u'two', 'CD'), (u'of', 'IN'), (u'the', 'DT'), (u'hijackers', 'NNS'), (u'in', 'IN'), (u'the', 'DT'), (u'United', 'NNP'), (u'States', 'NNPS'), (u'placed', 'VBD'), (u'telephone', 'NN'), (u'calls', 'NNS'), (u'to', 'TO'), (u'al', 'VB'), (u'Qaeda', 'NNP'), (u'operatives', 'VBZ'), (u'overseas', 'RB'), (u'.', '.')]\n",
      "[(u'But', 'CC'), (u'we', 'PRP'), (u'did', 'VBD'), (u'not', 'RB'), (u'know', 'VB'), (u'about', 'IN'), (u'their', 'PRP$'), (u'plans', 'NNS'), (u'until', 'IN'), (u'it', 'PRP'), (u'was', 'VBD'), (u'too', 'RB'), (u'late', 'JJ'), (u'.', '.')]\n",
      "[(u'So', 'RB'), (u'to', 'TO'), (u'prevent', 'VB'), (u'another', 'DT'), (u'attack', 'NN'), (u'--', ':'), (u'based', 'VBN'), (u'on', 'IN'), (u'authority', 'NN'), (u'given', 'VBN'), (u'to', 'TO'), (u'me', 'PRP'), (u'by', 'IN'), (u'the', 'DT'), (u'Constitution', 'NNP'), (u'and', 'CC'), (u'by', 'IN'), (u'statute', 'NN'), (u'--', ':'), (u'I', 'PRP'), (u'have', 'VBP'), (u'authorized', 'VBN'), (u'a', 'DT'), (u'terrorist', 'JJ'), (u'surveillance', 'NN'), (u'program', 'NN'), (u'to', 'TO'), (u'aggressively', 'RB'), (u'pursue', 'VB'), (u'the', 'DT'), (u'international', 'JJ'), (u'communications', 'NNS'), (u'of', 'IN'), (u'suspected', 'JJ'), (u'al', 'JJ'), (u'Qaeda', 'NNP'), (u'operatives', 'NNS'), (u'and', 'CC'), (u'affiliates', 'NNS'), (u'to', 'TO'), (u'and', 'CC'), (u'from', 'IN'), (u'America', 'NNP'), (u'.', '.')]\n",
      "[(u'Previous', 'JJ'), (u'Presidents', 'NNS'), (u'have', 'VBP'), (u'used', 'VBN'), (u'the', 'DT'), (u'same', 'JJ'), (u'constitutional', 'JJ'), (u'authority', 'NN'), (u'I', 'PRP'), (u'have', 'VBP'), (u',', ','), (u'and', 'CC'), (u'federal', 'JJ'), (u'courts', 'NNS'), (u'have', 'VBP'), (u'approved', 'VBN'), (u'the', 'DT'), (u'use', 'NN'), (u'of', 'IN'), (u'that', 'DT'), (u'authority', 'NN'), (u'.', '.')]\n",
      "[(u'Appropriate', 'JJ'), (u'members', 'NNS'), (u'of', 'IN'), (u'Congress', 'NNP'), (u'have', 'VBP'), (u'been', 'VBN'), (u'kept', 'VBN'), (u'informed', 'VBN'), (u'.', '.')]\n",
      "[(u'The', 'DT'), (u'terrorist', 'JJ'), (u'surveillance', 'NN'), (u'program', 'NN'), (u'has', 'VBZ'), (u'helped', 'VBN'), (u'prevent', 'VB'), (u'terrorist', 'JJ'), (u'attacks', 'NNS'), (u'.', '.')]\n",
      "[(u'It', 'PRP'), (u'remains', 'VBZ'), (u'essential', 'JJ'), (u'to', 'TO'), (u'the', 'DT'), (u'security', 'NN'), (u'of', 'IN'), (u'America', 'NNP'), (u'.', '.')]\n",
      "[(u'If', 'IN'), (u'there', 'EX'), (u'are', 'VBP'), (u'people', 'NNS'), (u'inside', 'IN'), (u'our', 'PRP$'), (u'country', 'NN'), (u'who', 'WP'), (u'are', 'VBP'), (u'talking', 'VBG'), (u'with', 'IN'), (u'al', 'NN'), (u'Qaeda', 'NNP'), (u',', ','), (u'we', 'PRP'), (u'want', 'VBP'), (u'to', 'TO'), (u'know', 'VB'), (u'about', 'IN'), (u'it', 'PRP'), (u',', ','), (u'because', 'IN'), (u'we', 'PRP'), (u'will', 'MD'), (u'not', 'RB'), (u'sit', 'VB'), (u'back', 'RB'), (u'and', 'CC'), (u'wait', 'NN'), (u'to', 'TO'), (u'be', 'VB'), (u'hit', 'VBN'), (u'again', 'RB'), (u'.', '.')]\n",
      "[(u'(', '('), (u'Applause', 'NNP'), (u'.', '.'), (u')', ')')]\n",
      "[(u'In', 'IN'), (u'all', 'PDT'), (u'these', 'DT'), (u'areas', 'NNS'), (u'--', ':'), (u'from', 'IN'), (u'the', 'DT'), (u'disruption', 'NN'), (u'of', 'IN'), (u'terror', 'NN'), (u'networks', 'NNS'), (u',', ','), (u'to', 'TO'), (u'victory', 'NN'), (u'in', 'IN'), (u'Iraq', 'NNP'), (u',', ','), (u'to', 'TO'), (u'the', 'DT'), (u'spread', 'NN'), (u'of', 'IN'), (u'freedom', 'NN'), (u'and', 'CC'), (u'hope', 'NN'), (u'in', 'IN'), (u'troubled', 'JJ'), (u'regions', 'NNS'), (u'--', ':'), (u'we', 'PRP'), (u'need', 'VBP'), (u'the', 'DT'), (u'support', 'NN'), (u'of', 'IN'), (u'our', 'PRP$'), (u'friends', 'NNS'), (u'and', 'CC'), (u'allies', 'NNS'), (u'.', '.')]\n",
      "[(u'To', 'TO'), (u'draw', 'VB'), (u'that', 'DT'), (u'support', 'NN'), (u',', ','), (u'we', 'PRP'), (u'must', 'MD'), (u'always', 'RB'), (u'be', 'VB'), (u'clear', 'JJ'), (u'in', 'IN'), (u'our', 'PRP$'), (u'principles', 'NNS'), (u'and', 'CC'), (u'willing', 'JJ'), (u'to', 'TO'), (u'act', 'VB'), (u'.', '.')]\n",
      "[(u'The', 'DT'), (u'only', 'JJ'), (u'alternative', 'NN'), (u'to', 'TO'), (u'American', 'JJ'), (u'leadership', 'NN'), (u'is', 'VBZ'), (u'a', 'DT'), (u'dramatically', 'RB'), (u'more', 'RBR'), (u'dangerous', 'JJ'), (u'and', 'CC'), (u'anxious', 'JJ'), (u'world', 'NN'), (u'.', '.')]\n",
      "[(u'Yet', 'CC'), (u'we', 'PRP'), (u'also', 'RB'), (u'choose', 'VBP'), (u'to', 'TO'), (u'lead', 'VB'), (u'because', 'IN'), (u'it', 'PRP'), (u'is', 'VBZ'), (u'a', 'DT'), (u'privilege', 'NN'), (u'to', 'TO'), (u'serve', 'VB'), (u'the', 'DT'), (u'values', 'NNS'), (u'that', 'WDT'), (u'gave', 'VBD'), (u'us', 'PRP'), (u'birth', 'NN'), (u'.', '.')]\n",
      "[(u'American', 'JJ'), (u'leaders', 'NNS'), (u'--', ':'), (u'from', 'IN'), (u'Roosevelt', 'NNP'), (u'to', 'TO'), (u'Truman', 'NNP'), (u'to', 'TO'), (u'Kennedy', 'NNP'), (u'to', 'TO'), (u'Reagan', 'NNP'), (u'--', ':'), (u'rejected', 'VBD'), (u'isolation', 'NN'), (u'and', 'CC'), (u'retreat', 'NN'), (u',', ','), (u'because', 'IN'), (u'they', 'PRP'), (u'knew', 'VBD'), (u'that', 'IN'), (u'America', 'NNP'), (u'is', 'VBZ'), (u'always', 'RB'), (u'more', 'RBR'), (u'secure', 'JJ'), (u'when', 'WRB'), (u'freedom', 'NN'), (u'is', 'VBZ'), (u'on', 'IN'), (u'the', 'DT'), (u'march', 'NN'), (u'.', '.')]\n",
      "[(u'Our', 'PRP$'), (u'own', 'JJ'), (u'generation', 'NN'), (u'is', 'VBZ'), (u'in', 'IN'), (u'a', 'DT'), (u'long', 'JJ'), (u'war', 'NN'), (u'against', 'IN'), (u'a', 'DT'), (u'determined', 'JJ'), (u'enemy', 'NN'), (u'--', ':'), (u'a', 'DT'), (u'war', 'NN'), (u'that', 'WDT'), (u'will', 'MD'), (u'be', 'VB'), (u'fought', 'VBN'), (u'by', 'IN'), (u'Presidents', 'NNS'), (u'of', 'IN'), (u'both', 'DT'), (u'parties', 'NNS'), (u',', ','), (u'who', 'WP'), (u'will', 'MD'), (u'need', 'VB'), (u'steady', 'JJ'), (u'bipartisan', 'JJ'), (u'support', 'NN'), (u'from', 'IN'), (u'the', 'DT'), (u'Congress', 'NNP'), (u'.', '.')]\n",
      "[(u'And', 'CC'), (u'tonight', 'NN'), (u'I', 'PRP'), (u'ask', 'VBP'), (u'for', 'IN'), (u'yours', 'NNS'), (u'.', '.')]\n",
      "[(u'Together', 'RB'), (u',', ','), (u'let', 'VB'), (u'us', 'PRP'), (u'protect', 'VB'), (u'our', 'PRP$'), (u'country', 'NN'), (u',', ','), (u'support', 'VB'), (u'the', 'DT'), (u'men', 'NNS'), (u'and', 'CC'), (u'women', 'NNS'), (u'who', 'WP'), (u'defend', 'VBP'), (u'us', 'PRP'), (u',', ','), (u'and', 'CC'), (u'lead', 'VB'), (u'this', 'DT'), (u'world', 'NN'), (u'toward', 'IN'), (u'freedom', 'NN'), (u'.', '.')]\n",
      "[(u'(', '('), (u'Applause', 'NNP'), (u'.', '.'), (u')', ')')]\n",
      "[(u'Here', 'RB'), (u'at', 'IN'), (u'home', 'NN'), (u',', ','), (u'America', 'NNP'), (u'also', 'RB'), (u'has', 'VBZ'), (u'a', 'DT'), (u'great', 'JJ'), (u'opportunity', 'NN'), (u':', ':'), (u'We', 'PRP'), (u'will', 'MD'), (u'build', 'VB'), (u'the', 'DT'), (u'prosperity', 'NN'), (u'of', 'IN'), (u'our', 'PRP$'), (u'country', 'NN'), (u'by', 'IN'), (u'strengthening', 'VBG'), (u'our', 'PRP$'), (u'economic', 'JJ'), (u'leadership', 'NN'), (u'in', 'IN'), (u'the', 'DT'), (u'world', 'NN'), (u'.', '.')]\n",
      "[(u'Our', 'PRP$'), (u'economy', 'NN'), (u'is', 'VBZ'), (u'healthy', 'JJ'), (u'and', 'CC'), (u'vigorous', 'JJ'), (u',', ','), (u'and', 'CC'), (u'growing', 'VBG'), (u'faster', 'RBR'), (u'than', 'IN'), (u'other', 'JJ'), (u'major', 'JJ'), (u'industrialized', 'VBN'), (u'nations', 'NNS'), (u'.', '.')]\n",
      "[(u'In', 'IN'), (u'the', 'DT'), (u'last', 'JJ'), (u'two-and-a-half', 'JJ'), (u'years', 'NNS'), (u',', ','), (u'America', 'NNP'), (u'has', 'VBZ'), (u'created', 'VBN'), (u'4.6', 'CD'), (u'million', 'CD'), (u'new', 'JJ'), (u'jobs', 'NNS'), (u'--', ':'), (u'more', 'JJR'), (u'than', 'IN'), (u'Japan', 'NNP'), (u'and', 'CC'), (u'the', 'DT'), (u'European', 'NNP'), (u'Union', 'NNP'), (u'combined', 'VBD'), (u'.', '.')]\n",
      "[(u'(', '('), (u'Applause', 'NNP'), (u'.', '.'), (u')', ')')]\n",
      "[(u'Even', 'RB'), (u'in', 'IN'), (u'the', 'DT'), (u'face', 'NN'), (u'of', 'IN'), (u'higher', 'JJR'), (u'energy', 'NN'), (u'prices', 'NNS'), (u'and', 'CC'), (u'natural', 'JJ'), (u'disasters', 'NNS'), (u',', ','), (u'the', 'DT'), (u'American', 'JJ'), (u'people', 'NNS'), (u'have', 'VBP'), (u'turned', 'VBN'), (u'in', 'IN'), (u'an', 'DT'), (u'economic', 'JJ'), (u'performance', 'NN'), (u'that', 'WDT'), (u'is', 'VBZ'), (u'the', 'DT'), (u'envy', 'NN'), (u'of', 'IN'), (u'the', 'DT'), (u'world', 'NN'), (u'.', '.')]\n",
      "[(u'The', 'DT'), (u'American', 'JJ'), (u'economy', 'NN'), (u'is', 'VBZ'), (u'preeminent', 'JJ'), (u',', ','), (u'but', 'CC'), (u'we', 'PRP'), (u'can', 'MD'), (u'not', 'RB'), (u'afford', 'VB'), (u'to', 'TO'), (u'be', 'VB'), (u'complacent', 'JJ'), (u'.', '.')]\n",
      "[(u'In', 'IN'), (u'a', 'DT'), (u'dynamic', 'JJ'), (u'world', 'NN'), (u'economy', 'NN'), (u',', ','), (u'we', 'PRP'), (u'are', 'VBP'), (u'seeing', 'VBG'), (u'new', 'JJ'), (u'competitors', 'NNS'), (u',', ','), (u'like', 'IN'), (u'China', 'NNP'), (u'and', 'CC'), (u'India', 'NNP'), (u',', ','), (u'and', 'CC'), (u'this', 'DT'), (u'creates', 'VBZ'), (u'uncertainty', 'NN'), (u',', ','), (u'which', 'WDT'), (u'makes', 'VBZ'), (u'it', 'PRP'), (u'easier', 'JJR'), (u'to', 'TO'), (u'feed', 'VB'), (u'people', 'NNS'), (u\"'s\", 'POS'), (u'fears', 'NNS'), (u'.', '.')]\n",
      "[(u'So', 'IN'), (u'we', 'PRP'), (u\"'re\", 'VBP'), (u'seeing', 'VBG'), (u'some', 'DT'), (u'old', 'JJ'), (u'temptations', 'NNS'), (u'return', 'NN'), (u'.', '.')]\n",
      "[(u'Protectionists', 'NNS'), (u'want', 'VBP'), (u'to', 'TO'), (u'escape', 'VB'), (u'competition', 'NN'), (u',', ','), (u'pretending', 'VBG'), (u'that', 'IN'), (u'we', 'PRP'), (u'can', 'MD'), (u'keep', 'VB'), (u'our', 'PRP$'), (u'high', 'JJ'), (u'standard', 'NN'), (u'of', 'IN'), (u'living', 'NN'), (u'while', 'IN'), (u'walling', 'VBG'), (u'off', 'RP'), (u'our', 'PRP$'), (u'economy', 'NN'), (u'.', '.')]\n",
      "[(u'Others', 'NNS'), (u'say', 'VBP'), (u'that', 'IN'), (u'the', 'DT'), (u'government', 'NN'), (u'needs', 'VBZ'), (u'to', 'TO'), (u'take', 'VB'), (u'a', 'DT'), (u'larger', 'JJR'), (u'role', 'NN'), (u'in', 'IN'), (u'directing', 'VBG'), (u'the', 'DT'), (u'economy', 'NN'), (u',', ','), (u'centralizing', 'VBG'), (u'more', 'JJR'), (u'power', 'NN'), (u'in', 'IN'), (u'Washington', 'NNP'), (u'and', 'CC'), (u'increasing', 'VBG'), (u'taxes', 'NNS'), (u'.', '.')]\n",
      "[(u'We', 'PRP'), (u'hear', 'VBP'), (u'claims', 'NNS'), (u'that', 'IN'), (u'immigrants', 'NNS'), (u'are', 'VBP'), (u'somehow', 'RB'), (u'bad', 'JJ'), (u'for', 'IN'), (u'the', 'DT'), (u'economy', 'NN'), (u'--', ':'), (u'even', 'RB'), (u'though', 'IN'), (u'this', 'DT'), (u'economy', 'NN'), (u'could', 'MD'), (u'not', 'RB'), (u'function', 'VB'), (u'without', 'IN'), (u'them', 'PRP'), (u'.', '.')]\n",
      "[(u'(', '('), (u'Applause', 'NNP'), (u'.', '.'), (u')', ')')]\n",
      "[(u'All', 'PDT'), (u'these', 'DT'), (u'are', 'VBP'), (u'forms', 'NNS'), (u'of', 'IN'), (u'economic', 'JJ'), (u'retreat', 'NN'), (u',', ','), (u'and', 'CC'), (u'they', 'PRP'), (u'lead', 'VBP'), (u'in', 'IN'), (u'the', 'DT'), (u'same', 'JJ'), (u'direction', 'NN'), (u'--', ':'), (u'toward', 'IN'), (u'a', 'DT'), (u'stagnant', 'JJ'), (u'and', 'CC'), (u'second-rate', 'JJ'), (u'economy', 'NN'), (u'.', '.')]\n",
      "[(u'Tonight', 'NNP'), (u'I', 'PRP'), (u'will', 'MD'), (u'set', 'VB'), (u'out', 'RP'), (u'a', 'DT'), (u'better', 'JJR'), (u'path', 'NN'), (u':', ':'), (u'an', 'DT'), (u'agenda', 'NN'), (u'for', 'IN'), (u'a', 'DT'), (u'nation', 'NN'), (u'that', 'WDT'), (u'competes', 'VBZ'), (u'with', 'IN'), (u'confidence', 'NN'), (u';', ':'), (u'an', 'DT'), (u'agenda', 'NN'), (u'that', 'WDT'), (u'will', 'MD'), (u'raise', 'VB'), (u'standards', 'NNS'), (u'of', 'IN'), (u'living', 'NN'), (u'and', 'CC'), (u'generate', 'VB'), (u'new', 'JJ'), (u'jobs', 'NNS'), (u'.', '.')]\n",
      "[(u'Americans', 'NNPS'), (u'should', 'MD'), (u'not', 'RB'), (u'fear', 'VB'), (u'our', 'PRP$'), (u'economic', 'JJ'), (u'future', 'NN'), (u',', ','), (u'because', 'IN'), (u'we', 'PRP'), (u'intend', 'VBP'), (u'to', 'TO'), (u'shape', 'VB'), (u'it', 'PRP'), (u'.', '.')]\n",
      "[(u'Keeping', 'VBG'), (u'America', 'NNP'), (u'competitive', 'JJ'), (u'begins', 'NNS'), (u'with', 'IN'), (u'keeping', 'VBG'), (u'our', 'PRP$'), (u'economy', 'NN'), (u'growing', 'VBG'), (u'.', '.')]\n",
      "[(u'And', 'CC'), (u'our', 'PRP$'), (u'economy', 'NN'), (u'grows', 'VBZ'), (u'when', 'WRB'), (u'Americans', 'NNPS'), (u'have', 'VBP'), (u'more', 'JJR'), (u'of', 'IN'), (u'their', 'PRP$'), (u'own', 'JJ'), (u'money', 'NN'), (u'to', 'TO'), (u'spend', 'VB'), (u',', ','), (u'save', 'VB'), (u',', ','), (u'and', 'CC'), (u'invest', 'JJS'), (u'.', '.')]\n",
      "[(u'In', 'IN'), (u'the', 'DT'), (u'last', 'JJ'), (u'five', 'CD'), (u'years', 'NNS'), (u',', ','), (u'the', 'DT'), (u'tax', 'NN'), (u'relief', 'NN'), (u'you', 'PRP'), (u'passed', 'VBN'), (u'has', 'VBZ'), (u'left', 'VBN'), (u'$', '$'), (u'880', 'CD'), (u'billion', 'CD'), (u'in', 'IN'), (u'the', 'DT'), (u'hands', 'NNS'), (u'of', 'IN'), (u'American', 'JJ'), (u'workers', 'NNS'), (u',', ','), (u'investors', 'NNS'), (u',', ','), (u'small', 'JJ'), (u'businesses', 'NNS'), (u',', ','), (u'and', 'CC'), (u'families', 'NNS'), (u'--', ':'), (u'and', 'CC'), (u'they', 'PRP'), (u'have', 'VBP'), (u'used', 'VBN'), (u'it', 'PRP'), (u'to', 'TO'), (u'help', 'VB'), (u'produce', 'VB'), (u'more', 'JJR'), (u'than', 'IN'), (u'four', 'CD'), (u'years', 'NNS'), (u'of', 'IN'), (u'uninterrupted', 'JJ'), (u'economic', 'JJ'), (u'growth', 'NN'), (u'.', '.')]\n",
      "[(u'(', '('), (u'Applause', 'NNP'), (u'.', '.'), (u')', ')')]\n",
      "[(u'Yet', 'RB'), (u'the', 'DT'), (u'tax', 'NN'), (u'relief', 'NN'), (u'is', 'VBZ'), (u'set', 'VBN'), (u'to', 'TO'), (u'expire', 'VB'), (u'in', 'IN'), (u'the', 'DT'), (u'next', 'JJ'), (u'few', 'JJ'), (u'years', 'NNS'), (u'.', '.')]\n",
      "[(u'If', 'IN'), (u'we', 'PRP'), (u'do', 'VBP'), (u'nothing', 'NN'), (u',', ','), (u'American', 'NNP'), (u'families', 'NNS'), (u'will', 'MD'), (u'face', 'VB'), (u'a', 'DT'), (u'massive', 'JJ'), (u'tax', 'NN'), (u'increase', 'NN'), (u'they', 'PRP'), (u'do', 'VBP'), (u'not', 'RB'), (u'expect', 'VB'), (u'and', 'CC'), (u'will', 'MD'), (u'not', 'RB'), (u'welcome', 'VB'), (u'.', '.')]\n",
      "[(u'Because', 'IN'), (u'America', 'NNP'), (u'needs', 'VBZ'), (u'more', 'JJR'), (u'than', 'IN'), (u'a', 'DT'), (u'temporary', 'JJ'), (u'expansion', 'NN'), (u',', ','), (u'we', 'PRP'), (u'need', 'VBP'), (u'more', 'JJR'), (u'than', 'IN'), (u'temporary', 'JJ'), (u'tax', 'NN'), (u'relief', 'NN'), (u'.', '.')]\n",
      "[(u'I', 'PRP'), (u'urge', 'VBP'), (u'the', 'DT'), (u'Congress', 'NNP'), (u'to', 'TO'), (u'act', 'VB'), (u'responsibly', 'RB'), (u',', ','), (u'and', 'CC'), (u'make', 'VB'), (u'the', 'DT'), (u'tax', 'NN'), (u'cuts', 'NNS'), (u'permanent', 'NN'), (u'.', '.')]\n",
      "[(u'(', '('), (u'Applause', 'NNP'), (u'.', '.'), (u')', ')')]\n",
      "[(u'Keeping', 'VBG'), (u'America', 'NNP'), (u'competitive', 'JJ'), (u'requires', 'VBZ'), (u'us', 'PRP'), (u'to', 'TO'), (u'be', 'VB'), (u'good', 'JJ'), (u'stewards', 'NNS'), (u'of', 'IN'), (u'tax', 'NN'), (u'dollars', 'NNS'), (u'.', '.')]\n",
      "[(u'Every', 'DT'), (u'year', 'NN'), (u'of', 'IN'), (u'my', 'PRP$'), (u'presidency', 'NN'), (u',', ','), (u'we', 'PRP'), (u\"'ve\", 'VBP'), (u'reduced', 'VBN'), (u'the', 'DT'), (u'growth', 'NN'), (u'of', 'IN'), (u'non-security', 'JJ'), (u'discretionary', 'JJ'), (u'spending', 'NN'), (u',', ','), (u'and', 'CC'), (u'last', 'JJ'), (u'year', 'NN'), (u'you', 'PRP'), (u'passed', 'VBD'), (u'bills', 'NNS'), (u'that', 'IN'), (u'cut', 'VBD'), (u'this', 'DT'), (u'spending', 'NN'), (u'.', '.')]\n",
      "[(u'This', 'DT'), (u'year', 'NN'), (u'my', 'PRP$'), (u'budget', 'NN'), (u'will', 'MD'), (u'cut', 'VB'), (u'it', 'PRP'), (u'again', 'RB'), (u',', ','), (u'and', 'CC'), (u'reduce', 'VB'), (u'or', 'CC'), (u'eliminate', 'VB'), (u'more', 'JJR'), (u'than', 'IN'), (u'140', 'CD'), (u'programs', 'NNS'), (u'that', 'WDT'), (u'are', 'VBP'), (u'performing', 'VBG'), (u'poorly', 'RB'), (u'or', 'CC'), (u'not', 'RB'), (u'fulfilling', 'JJ'), (u'essential', 'JJ'), (u'priorities', 'NNS'), (u'.', '.')]\n",
      "[(u'By', 'IN'), (u'passing', 'VBG'), (u'these', 'DT'), (u'reforms', 'NNS'), (u',', ','), (u'we', 'PRP'), (u'will', 'MD'), (u'save', 'VB'), (u'the', 'DT'), (u'American', 'NNP'), (u'taxpayer', 'NN'), (u'another', 'DT'), (u'$', '$'), (u'14', 'CD'), (u'billion', 'CD'), (u'next', 'JJ'), (u'year', 'NN'), (u',', ','), (u'and', 'CC'), (u'stay', 'VB'), (u'on', 'IN'), (u'track', 'NN'), (u'to', 'TO'), (u'cut', 'VB'), (u'the', 'DT'), (u'deficit', 'NN'), (u'in', 'IN'), (u'half', 'NN'), (u'by', 'IN'), (u'2009', 'CD'), (u'.', '.')]\n",
      "[(u'(', '('), (u'Applause', 'NNP'), (u'.', '.'), (u')', ')')]\n",
      "[(u'I', 'PRP'), (u'am', 'VBP'), (u'pleased', 'JJ'), (u'that', 'IN'), (u'members', 'NNS'), (u'of', 'IN'), (u'Congress', 'NNP'), (u'are', 'VBP'), (u'working', 'VBG'), (u'on', 'IN'), (u'earmark', 'NN'), (u'reform', 'NN'), (u',', ','), (u'because', 'IN'), (u'the', 'DT'), (u'federal', 'JJ'), (u'budget', 'NN'), (u'has', 'VBZ'), (u'too', 'RB'), (u'many', 'JJ'), (u'special', 'JJ'), (u'interest', 'NN'), (u'projects', 'NNS'), (u'.', '.')]\n",
      "[(u'(', '('), (u'Applause', 'NNP'), (u'.', '.'), (u')', ')')]\n",
      "[(u'And', 'CC'), (u'we', 'PRP'), (u'can', 'MD'), (u'tackle', 'VB'), (u'this', 'DT'), (u'problem', 'NN'), (u'together', 'RB'), (u',', ','), (u'if', 'IN'), (u'you', 'PRP'), (u'pass', 'VBP'), (u'the', 'DT'), (u'line-item', 'JJ'), (u'veto', 'NN'), (u'.', '.')]\n",
      "[(u'(', '('), (u'Applause', 'NNP'), (u'.', '.'), (u')', ')')]\n",
      "[(u'We', 'PRP'), (u'must', 'MD'), (u'also', 'RB'), (u'confront', 'VB'), (u'the', 'DT'), (u'larger', 'JJR'), (u'challenge', 'NN'), (u'of', 'IN'), (u'mandatory', 'JJ'), (u'spending', 'NN'), (u',', ','), (u'or', 'CC'), (u'entitlements', 'NNS'), (u'.', '.')]\n",
      "[(u'This', 'DT'), (u'year', 'NN'), (u',', ','), (u'the', 'DT'), (u'first', 'JJ'), (u'of', 'IN'), (u'about', 'RB'), (u'78', 'CD'), (u'million', 'CD'), (u'baby', 'NN'), (u'boomers', 'NNS'), (u'turn', 'VBP'), (u'60', 'CD'), (u',', ','), (u'including', 'VBG'), (u'two', 'CD'), (u'of', 'IN'), (u'my', 'PRP$'), (u'Dad', 'NNP'), (u\"'s\", 'POS'), (u'favorite', 'JJ'), (u'people', 'NNS'), (u'--', ':'), (u'me', 'PRP'), (u'and', 'CC'), (u'President', 'NNP'), (u'Clinton', 'NNP'), (u'.', '.')]\n",
      "[(u'(', '('), (u'Laughter', 'NNP'), (u'.', '.'), (u')', ')')]\n",
      "[(u'This', 'DT'), (u'milestone', 'NN'), (u'is', 'VBZ'), (u'more', 'JJR'), (u'than', 'IN'), (u'a', 'DT'), (u'personal', 'JJ'), (u'crisis', 'NN'), (u'--', ':'), (u'(', '('), (u'laughter', 'NN'), (u')', ')'), (u'--', ':'), (u'it', 'PRP'), (u'is', 'VBZ'), (u'a', 'DT'), (u'national', 'JJ'), (u'challenge', 'NN'), (u'.', '.')]\n",
      "[(u'The', 'DT'), (u'retirement', 'NN'), (u'of', 'IN'), (u'the', 'DT'), (u'baby', 'NN'), (u'boom', 'NN'), (u'generation', 'NN'), (u'will', 'MD'), (u'put', 'VB'), (u'unprecedented', 'JJ'), (u'strains', 'NNS'), (u'on', 'IN'), (u'the', 'DT'), (u'federal', 'JJ'), (u'government', 'NN'), (u'.', '.')]\n",
      "[(u'By', 'IN'), (u'2030', 'CD'), (u',', ','), (u'spending', 'VBG'), (u'for', 'IN'), (u'Social', 'NNP'), (u'Security', 'NNP'), (u',', ','), (u'Medicare', 'NNP'), (u'and', 'CC'), (u'Medicaid', 'NNP'), (u'alone', 'RB'), (u'will', 'MD'), (u'be', 'VB'), (u'almost', 'RB'), (u'60', 'CD'), (u'percent', 'NN'), (u'of', 'IN'), (u'the', 'DT'), (u'entire', 'JJ'), (u'federal', 'JJ'), (u'budget', 'NN'), (u'.', '.')]\n",
      "[(u'And', 'CC'), (u'that', 'DT'), (u'will', 'MD'), (u'present', 'VB'), (u'future', 'JJ'), (u'Congresses', 'NNS'), (u'with', 'IN'), (u'impossible', 'JJ'), (u'choices', 'NNS'), (u'--', ':'), (u'staggering', 'VBG'), (u'tax', 'NN'), (u'increases', 'NNS'), (u',', ','), (u'immense', 'JJ'), (u'deficits', 'NNS'), (u',', ','), (u'or', 'CC'), (u'deep', 'JJ'), (u'cuts', 'NNS'), (u'in', 'IN'), (u'every', 'DT'), (u'category', 'NN'), (u'of', 'IN'), (u'spending', 'NN'), (u'.', '.')]\n",
      "[(u'Congress', 'NNP'), (u'did', 'VBD'), (u'not', 'RB'), (u'act', 'VB'), (u'last', 'JJ'), (u'year', 'NN'), (u'on', 'IN'), (u'my', 'PRP$'), (u'proposal', 'NN'), (u'to', 'TO'), (u'save', 'VB'), (u'Social', 'NNP'), (u'Security', 'NNP'), (u'--', ':'), (u'(', '('), (u'applause', 'NN'), (u')', ')'), (u'--', ':'), (u'yet', 'RB'), (u'the', 'DT'), (u'rising', 'VBG'), (u'cost', 'NN'), (u'of', 'IN'), (u'entitlements', 'NNS'), (u'is', 'VBZ'), (u'a', 'DT'), (u'problem', 'NN'), (u'that', 'WDT'), (u'is', 'VBZ'), (u'not', 'RB'), (u'going', 'VBG'), (u'away', 'RB'), (u'.', '.')]\n",
      "[(u'(', '('), (u'Applause', 'NNP'), (u'.', '.'), (u')', ')')]\n",
      "[(u'And', 'CC'), (u'every', 'DT'), (u'year', 'NN'), (u'we', 'PRP'), (u'fail', 'VBP'), (u'to', 'TO'), (u'act', 'VB'), (u',', ','), (u'the', 'DT'), (u'situation', 'NN'), (u'gets', 'VBZ'), (u'worse', 'JJR'), (u'.', '.')]\n",
      "[(u'So', 'RB'), (u'tonight', 'JJ'), (u',', ','), (u'I', 'PRP'), (u'ask', 'VBP'), (u'you', 'PRP'), (u'to', 'TO'), (u'join', 'VB'), (u'me', 'PRP'), (u'in', 'IN'), (u'creating', 'VBG'), (u'a', 'DT'), (u'commission', 'NN'), (u'to', 'TO'), (u'examine', 'VB'), (u'the', 'DT'), (u'full', 'JJ'), (u'impact', 'NN'), (u'of', 'IN'), (u'baby', 'NN'), (u'boom', 'NN'), (u'retirements', 'NNS'), (u'on', 'IN'), (u'Social', 'NNP'), (u'Security', 'NNP'), (u',', ','), (u'Medicare', 'NNP'), (u',', ','), (u'and', 'CC'), (u'Medicaid', 'NNP'), (u'.', '.')]\n",
      "[(u'This', 'DT'), (u'commission', 'NN'), (u'should', 'MD'), (u'include', 'VB'), (u'members', 'NNS'), (u'of', 'IN'), (u'Congress', 'NNP'), (u'of', 'IN'), (u'both', 'DT'), (u'parties', 'NNS'), (u',', ','), (u'and', 'CC'), (u'offer', 'VBP'), (u'bipartisan', 'JJ'), (u'solutions', 'NNS'), (u'.', '.')]\n",
      "[(u'We', 'PRP'), (u'need', 'VBP'), (u'to', 'TO'), (u'put', 'VB'), (u'aside', 'RP'), (u'partisan', 'JJ'), (u'politics', 'NNS'), (u'and', 'CC'), (u'work', 'NN'), (u'together', 'RB'), (u'and', 'CC'), (u'get', 'VB'), (u'this', 'DT'), (u'problem', 'NN'), (u'solved', 'VBD'), (u'.', '.')]\n",
      "[(u'(', '('), (u'Applause', 'NNP'), (u'.', '.'), (u')', ')')]\n",
      "[(u'Keeping', 'VBG'), (u'America', 'NNP'), (u'competitive', 'JJ'), (u'requires', 'VBZ'), (u'us', 'PRP'), (u'to', 'TO'), (u'open', 'VB'), (u'more', 'JJR'), (u'markets', 'NNS'), (u'for', 'IN'), (u'all', 'DT'), (u'that', 'DT'), (u'Americans', 'NNPS'), (u'make', 'VBP'), (u'and', 'CC'), (u'grow', 'VB'), (u'.', '.')]\n",
      "[(u'One', 'CD'), (u'out', 'NN'), (u'of', 'IN'), (u'every', 'DT'), (u'five', 'CD'), (u'factory', 'NN'), (u'jobs', 'NNS'), (u'in', 'IN'), (u'America', 'NNP'), (u'is', 'VBZ'), (u'related', 'VBN'), (u'to', 'TO'), (u'global', 'JJ'), (u'trade', 'NN'), (u',', ','), (u'and', 'CC'), (u'we', 'PRP'), (u'want', 'VBP'), (u'people', 'NNS'), (u'everywhere', 'RB'), (u'to', 'TO'), (u'buy', 'VB'), (u'American', 'NNP'), (u'.', '.')]\n",
      "[(u'With', 'IN'), (u'open', 'JJ'), (u'markets', 'NNS'), (u'and', 'CC'), (u'a', 'DT'), (u'level', 'JJ'), (u'playing', 'NN'), (u'field', 'NN'), (u',', ','), (u'no', 'DT'), (u'one', 'NN'), (u'can', 'MD'), (u'out-produce', 'VB'), (u'or', 'CC'), (u'out-compete', 'VB'), (u'the', 'DT'), (u'American', 'JJ'), (u'worker', 'NN'), (u'.', '.')]\n",
      "[(u'(', '('), (u'Applause', 'NNP'), (u'.', '.'), (u')', ')')]\n",
      "[(u'Keeping', 'VBG'), (u'America', 'NNP'), (u'competitive', 'JJ'), (u'requires', 'VBZ'), (u'an', 'DT'), (u'immigration', 'NN'), (u'system', 'NN'), (u'that', 'WDT'), (u'upholds', 'VBZ'), (u'our', 'PRP$'), (u'laws', 'NNS'), (u',', ','), (u'reflects', 'VBZ'), (u'our', 'PRP$'), (u'values', 'NNS'), (u',', ','), (u'and', 'CC'), (u'serves', 'VBZ'), (u'the', 'DT'), (u'interests', 'NNS'), (u'of', 'IN'), (u'our', 'PRP$'), (u'economy', 'NN'), (u'.', '.')]\n",
      "[(u'Our', 'PRP$'), (u'nation', 'NN'), (u'needs', 'VBZ'), (u'orderly', 'JJ'), (u'and', 'CC'), (u'secure', 'JJ'), (u'borders', 'NNS'), (u'.', '.')]\n",
      "[(u'(', '('), (u'Applause', 'NNP'), (u'.', '.'), (u')', ')')]\n",
      "[(u'To', 'TO'), (u'meet', 'VB'), (u'this', 'DT'), (u'goal', 'NN'), (u',', ','), (u'we', 'PRP'), (u'must', 'MD'), (u'have', 'VB'), (u'stronger', 'JJR'), (u'immigration', 'NN'), (u'enforcement', 'NN'), (u'and', 'CC'), (u'border', 'NN'), (u'protection', 'NN'), (u'.', '.')]\n",
      "[(u'(', '('), (u'Applause', 'NNP'), (u'.', '.'), (u')', ')')]\n",
      "[(u'And', 'CC'), (u'we', 'PRP'), (u'must', 'MD'), (u'have', 'VB'), (u'a', 'DT'), (u'rational', 'JJ'), (u',', ','), (u'humane', 'JJ'), (u'guest', 'JJS'), (u'worker', 'NN'), (u'program', 'NN'), (u'that', 'WDT'), (u'rejects', 'VBZ'), (u'amnesty', 'JJ'), (u',', ','), (u'allows', 'VBZ'), (u'temporary', 'JJ'), (u'jobs', 'NNS'), (u'for', 'IN'), (u'people', 'NNS'), (u'who', 'WP'), (u'seek', 'VBP'), (u'them', 'PRP'), (u'legally', 'RB'), (u',', ','), (u'and', 'CC'), (u'reduces', 'NNS'), (u'smuggling', 'VBG'), (u'and', 'CC'), (u'crime', 'NN'), (u'at', 'IN'), (u'the', 'DT'), (u'border', 'NN'), (u'.', '.')]\n",
      "[(u'(', '('), (u'Applause', 'NNP'), (u'.', '.'), (u')', ')')]\n",
      "[(u'Keeping', 'VBG'), (u'America', 'NNP'), (u'competitive', 'JJ'), (u'requires', 'VBZ'), (u'affordable', 'JJ'), (u'health', 'NN'), (u'care', 'NN'), (u'.', '.')]\n",
      "[(u'(', '('), (u'Applause', 'NNP'), (u'.', '.'), (u')', ')')]\n",
      "[(u'Our', 'PRP$'), (u'government', 'NN'), (u'has', 'VBZ'), (u'a', 'DT'), (u'responsibility', 'NN'), (u'to', 'TO'), (u'provide', 'VB'), (u'health', 'NN'), (u'care', 'NN'), (u'for', 'IN'), (u'the', 'DT'), (u'poor', 'JJ'), (u'and', 'CC'), (u'the', 'DT'), (u'elderly', 'JJ'), (u',', ','), (u'and', 'CC'), (u'we', 'PRP'), (u'are', 'VBP'), (u'meeting', 'VBG'), (u'that', 'IN'), (u'responsibility', 'NN'), (u'.', '.')]\n",
      "[(u'(', '('), (u'Applause', 'NNP'), (u'.', '.'), (u')', ')')]\n",
      "[(u'For', 'IN'), (u'all', 'DT'), (u'Americans', 'NNPS'), (u'--', ':'), (u'for', 'IN'), (u'all', 'DT'), (u'Americans', 'NNPS'), (u',', ','), (u'we', 'PRP'), (u'must', 'MD'), (u'confront', 'VB'), (u'the', 'DT'), (u'rising', 'VBG'), (u'cost', 'NN'), (u'of', 'IN'), (u'care', 'NN'), (u',', ','), (u'strengthen', 'VB'), (u'the', 'DT'), (u'doctor-patient', 'JJ'), (u'relationship', 'NN'), (u',', ','), (u'and', 'CC'), (u'help', 'NN'), (u'people', 'NNS'), (u'afford', 'VBP'), (u'the', 'DT'), (u'insurance', 'NN'), (u'coverage', 'NN'), (u'they', 'PRP'), (u'need', 'VBP'), (u'.', '.')]\n",
      "[(u'(', '('), (u'Applause', 'NNP'), (u'.', '.'), (u')', ')')]\n",
      "[(u'We', 'PRP'), (u'will', 'MD'), (u'make', 'VB'), (u'wider', 'JJR'), (u'use', 'NN'), (u'of', 'IN'), (u'electronic', 'JJ'), (u'records', 'NNS'), (u'and', 'CC'), (u'other', 'JJ'), (u'health', 'NN'), (u'information', 'NN'), (u'technology', 'NN'), (u',', ','), (u'to', 'TO'), (u'help', 'VB'), (u'control', 'VB'), (u'costs', 'NNS'), (u'and', 'CC'), (u'reduce', 'VB'), (u'dangerous', 'JJ'), (u'medical', 'JJ'), (u'errors', 'NNS'), (u'.', '.')]\n",
      "[(u'We', 'PRP'), (u'will', 'MD'), (u'strengthen', 'VB'), (u'health', 'NN'), (u'savings', 'NNS'), (u'accounts', 'NNS'), (u'--', ':'), (u'making', 'VBG'), (u'sure', 'JJ'), (u'individuals', 'NNS'), (u'and', 'CC'), (u'small', 'JJ'), (u'business', 'NN'), (u'employees', 'NNS'), (u'can', 'MD'), (u'buy', 'VB'), (u'insurance', 'NN'), (u'with', 'IN'), (u'the', 'DT'), (u'same', 'JJ'), (u'advantages', 'VBZ'), (u'that', 'IN'), (u'people', 'NNS'), (u'working', 'VBG'), (u'for', 'IN'), (u'big', 'JJ'), (u'businesses', 'NNS'), (u'now', 'RB'), (u'get', 'VBP'), (u'.', '.')]\n",
      "[(u'(', '('), (u'Applause', 'NNP'), (u'.', '.'), (u')', ')')]\n",
      "[(u'We', 'PRP'), (u'will', 'MD'), (u'do', 'VB'), (u'more', 'JJR'), (u'to', 'TO'), (u'make', 'VB'), (u'this', 'DT'), (u'coverage', 'NN'), (u'portable', 'JJ'), (u',', ','), (u'so', 'IN'), (u'workers', 'NNS'), (u'can', 'MD'), (u'switch', 'VB'), (u'jobs', 'NNS'), (u'without', 'IN'), (u'having', 'VBG'), (u'to', 'TO'), (u'worry', 'VB'), (u'about', 'IN'), (u'losing', 'VBG'), (u'their', 'PRP$'), (u'health', 'NN'), (u'insurance', 'NN'), (u'.', '.')]\n",
      "[(u'(', '('), (u'Applause', 'NNP'), (u'.', '.'), (u')', ')')]\n",
      "[(u'And', 'CC'), (u'because', 'IN'), (u'lawsuits', 'NNS'), (u'are', 'VBP'), (u'driving', 'VBG'), (u'many', 'JJ'), (u'good', 'JJ'), (u'doctors', 'NNS'), (u'out', 'IN'), (u'of', 'IN'), (u'practice', 'NN'), (u'--', ':'), (u'leaving', 'VBG'), (u'women', 'NNS'), (u'in', 'IN'), (u'nearly', 'RB'), (u'1,500', 'CD'), (u'American', 'JJ'), (u'counties', 'NNS'), (u'without', 'IN'), (u'a', 'DT'), (u'single', 'JJ'), (u'OB/GYN', 'NNP'), (u'--', ':'), (u'I', 'PRP'), (u'ask', 'VBP'), (u'the', 'DT'), (u'Congress', 'NNP'), (u'to', 'TO'), (u'pass', 'VB'), (u'medical', 'JJ'), (u'liability', 'NN'), (u'reform', 'NN'), (u'this', 'DT'), (u'year', 'NN'), (u'.', '.')]\n",
      "[(u'(', '('), (u'Applause', 'NNP'), (u'.', '.'), (u')', ')')]\n",
      "[(u'Keeping', 'VBG'), (u'America', 'NNP'), (u'competitive', 'JJ'), (u'requires', 'VBZ'), (u'affordable', 'JJ'), (u'energy', 'NN'), (u'.', '.')]\n",
      "[(u'And', 'CC'), (u'here', 'RB'), (u'we', 'PRP'), (u'have', 'VBP'), (u'a', 'DT'), (u'serious', 'JJ'), (u'problem', 'NN'), (u':', ':'), (u'America', 'NNP'), (u'is', 'VBZ'), (u'addicted', 'VBN'), (u'to', 'TO'), (u'oil', 'NN'), (u',', ','), (u'which', 'WDT'), (u'is', 'VBZ'), (u'often', 'RB'), (u'imported', 'VBN'), (u'from', 'IN'), (u'unstable', 'JJ'), (u'parts', 'NNS'), (u'of', 'IN'), (u'the', 'DT'), (u'world', 'NN'), (u'.', '.')]\n",
      "[(u'The', 'DT'), (u'best', 'JJS'), (u'way', 'NN'), (u'to', 'TO'), (u'break', 'VB'), (u'this', 'DT'), (u'addiction', 'NN'), (u'is', 'VBZ'), (u'through', 'IN'), (u'technology', 'NN'), (u'.', '.')]\n",
      "[(u'Since', 'IN'), (u'2001', 'CD'), (u',', ','), (u'we', 'PRP'), (u'have', 'VBP'), (u'spent', 'VBN'), (u'nearly', 'RB'), (u'$', '$'), (u'10', 'CD'), (u'billion', 'CD'), (u'to', 'TO'), (u'develop', 'VB'), (u'cleaner', 'JJR'), (u',', ','), (u'cheaper', 'JJR'), (u',', ','), (u'and', 'CC'), (u'more', 'RBR'), (u'reliable', 'JJ'), (u'alternative', 'JJ'), (u'energy', 'NN'), (u'sources', 'NNS'), (u'--', ':'), (u'and', 'CC'), (u'we', 'PRP'), (u'are', 'VBP'), (u'on', 'IN'), (u'the', 'DT'), (u'threshold', 'NN'), (u'of', 'IN'), (u'incredible', 'JJ'), (u'advances', 'NNS'), (u'.', '.')]\n",
      "[(u'So', 'RB'), (u'tonight', 'JJ'), (u',', ','), (u'I', 'PRP'), (u'announce', 'VBP'), (u'the', 'DT'), (u'Advanced', 'NNP'), (u'Energy', 'NNP'), (u'Initiative', 'NNP'), (u'--', ':'), (u'a', 'DT'), (u'22-percent', 'JJ'), (u'increase', 'NN'), (u'in', 'IN'), (u'clean-energy', 'JJ'), (u'research', 'NN'), (u'--', ':'), (u'at', 'IN'), (u'the', 'DT'), (u'Department', 'NNP'), (u'of', 'IN'), (u'Energy', 'NNP'), (u',', ','), (u'to', 'TO'), (u'push', 'VB'), (u'for', 'IN'), (u'breakthroughs', 'NNS'), (u'in', 'IN'), (u'two', 'CD'), (u'vital', 'JJ'), (u'areas', 'NNS'), (u'.', '.')]\n",
      "[(u'To', 'TO'), (u'change', 'VB'), (u'how', 'WRB'), (u'we', 'PRP'), (u'power', 'NN'), (u'our', 'PRP$'), (u'homes', 'NNS'), (u'and', 'CC'), (u'offices', 'NNS'), (u',', ','), (u'we', 'PRP'), (u'will', 'MD'), (u'invest', 'VB'), (u'more', 'RBR'), (u'in', 'IN'), (u'zero-emission', 'JJ'), (u'coal-fired', 'JJ'), (u'plants', 'NNS'), (u',', ','), (u'revolutionary', 'JJ'), (u'solar', 'NN'), (u'and', 'CC'), (u'wind', 'NN'), (u'technologies', 'NNS'), (u',', ','), (u'and', 'CC'), (u'clean', 'JJ'), (u',', ','), (u'safe', 'JJ'), (u'nuclear', 'JJ'), (u'energy', 'NN'), (u'.', '.')]\n",
      "[(u'(', '('), (u'Applause', 'NNP'), (u'.', '.'), (u')', ')')]\n",
      "[(u'We', 'PRP'), (u'must', 'MD'), (u'also', 'RB'), (u'change', 'VB'), (u'how', 'WRB'), (u'we', 'PRP'), (u'power', 'NN'), (u'our', 'PRP$'), (u'automobiles', 'NNS'), (u'.', '.')]\n",
      "[(u'We', 'PRP'), (u'will', 'MD'), (u'increase', 'VB'), (u'our', 'PRP$'), (u'research', 'NN'), (u'in', 'IN'), (u'better', 'JJR'), (u'batteries', 'NNS'), (u'for', 'IN'), (u'hybrid', 'JJ'), (u'and', 'CC'), (u'electric', 'JJ'), (u'cars', 'NNS'), (u',', ','), (u'and', 'CC'), (u'in', 'IN'), (u'pollution-free', 'JJ'), (u'cars', 'NNS'), (u'that', 'WDT'), (u'run', 'VBP'), (u'on', 'IN'), (u'hydrogen', 'NN'), (u'.', '.')]\n",
      "[(u'We', 'PRP'), (u\"'ll\", 'MD'), (u'also', 'RB'), (u'fund', 'VB'), (u'additional', 'JJ'), (u'research', 'NN'), (u'in', 'IN'), (u'cutting-edge', 'JJ'), (u'methods', 'NNS'), (u'of', 'IN'), (u'producing', 'VBG'), (u'ethanol', 'NN'), (u',', ','), (u'not', 'RB'), (u'just', 'RB'), (u'from', 'IN'), (u'corn', 'NN'), (u',', ','), (u'but', 'CC'), (u'from', 'IN'), (u'wood', 'NN'), (u'chips', 'NNS'), (u'and', 'CC'), (u'stalks', 'NNS'), (u',', ','), (u'or', 'CC'), (u'switch', 'VB'), (u'grass', 'NN'), (u'.', '.')]\n",
      "[(u'Our', 'PRP$'), (u'goal', 'NN'), (u'is', 'VBZ'), (u'to', 'TO'), (u'make', 'VB'), (u'this', 'DT'), (u'new', 'JJ'), (u'kind', 'NN'), (u'of', 'IN'), (u'ethanol', 'JJ'), (u'practical', 'JJ'), (u'and', 'CC'), (u'competitive', 'JJ'), (u'within', 'IN'), (u'six', 'CD'), (u'years', 'NNS'), (u'.', '.')]\n",
      "[(u'(', '('), (u'Applause', 'NNP'), (u'.', '.'), (u')', ')')]\n",
      "[(u'Breakthroughs', 'NNS'), (u'on', 'IN'), (u'this', 'DT'), (u'and', 'CC'), (u'other', 'JJ'), (u'new', 'JJ'), (u'technologies', 'NNS'), (u'will', 'MD'), (u'help', 'VB'), (u'us', 'PRP'), (u'reach', 'VB'), (u'another', 'DT'), (u'great', 'JJ'), (u'goal', 'NN'), (u':', ':'), (u'to', 'TO'), (u'replace', 'VB'), (u'more', 'JJR'), (u'than', 'IN'), (u'75', 'CD'), (u'percent', 'NN'), (u'of', 'IN'), (u'our', 'PRP$'), (u'oil', 'NN'), (u'imports', 'NNS'), (u'from', 'IN'), (u'the', 'DT'), (u'Middle', 'NNP'), (u'East', 'NNP'), (u'by', 'IN'), (u'2025', 'CD'), (u'.', '.')]\n",
      "[(u'(', '('), (u'Applause', 'NNP'), (u'.', '.'), (u')', ')')]\n",
      "[(u'By', 'IN'), (u'applying', 'VBG'), (u'the', 'DT'), (u'talent', 'NN'), (u'and', 'CC'), (u'technology', 'NN'), (u'of', 'IN'), (u'America', 'NNP'), (u',', ','), (u'this', 'DT'), (u'country', 'NN'), (u'can', 'MD'), (u'dramatically', 'RB'), (u'improve', 'VB'), (u'our', 'PRP$'), (u'environment', 'NN'), (u',', ','), (u'move', 'VB'), (u'beyond', 'IN'), (u'a', 'DT'), (u'petroleum-based', 'JJ'), (u'economy', 'NN'), (u',', ','), (u'and', 'CC'), (u'make', 'VB'), (u'our', 'PRP$'), (u'dependence', 'NN'), (u'on', 'IN'), (u'Middle', 'NNP'), (u'Eastern', 'NNP'), (u'oil', 'NN'), (u'a', 'DT'), (u'thing', 'NN'), (u'of', 'IN'), (u'the', 'DT'), (u'past', 'NN'), (u'.', '.')]\n",
      "[(u'(', '('), (u'Applause', 'NNP'), (u'.', '.'), (u')', ')')]\n",
      "[(u'And', 'CC'), (u'to', 'TO'), (u'keep', 'VB'), (u'America', 'NNP'), (u'competitive', 'JJ'), (u',', ','), (u'one', 'CD'), (u'commitment', 'NN'), (u'is', 'VBZ'), (u'necessary', 'JJ'), (u'above', 'IN'), (u'all', 'DT'), (u':', ':'), (u'We', 'PRP'), (u'must', 'MD'), (u'continue', 'VB'), (u'to', 'TO'), (u'lead', 'VB'), (u'the', 'DT'), (u'world', 'NN'), (u'in', 'IN'), (u'human', 'JJ'), (u'talent', 'NN'), (u'and', 'CC'), (u'creativity', 'NN'), (u'.', '.')]\n",
      "[(u'Our', 'PRP$'), (u'greatest', 'JJS'), (u'advantage', 'NN'), (u'in', 'IN'), (u'the', 'DT'), (u'world', 'NN'), (u'has', 'VBZ'), (u'always', 'RB'), (u'been', 'VBN'), (u'our', 'PRP$'), (u'educated', 'VBN'), (u',', ','), (u'hardworking', 'VBG'), (u',', ','), (u'ambitious', 'JJ'), (u'people', 'NNS'), (u'--', ':'), (u'and', 'CC'), (u'we', 'PRP'), (u\"'re\", 'VBP'), (u'going', 'VBG'), (u'to', 'TO'), (u'keep', 'VB'), (u'that', 'DT'), (u'edge', 'NN'), (u'.', '.')]\n",
      "[(u'Tonight', 'NN'), (u'I', 'PRP'), (u'announce', 'VBP'), (u'an', 'DT'), (u'American', 'JJ'), (u'Competitiveness', 'NNP'), (u'Initiative', 'NNP'), (u',', ','), (u'to', 'TO'), (u'encourage', 'VB'), (u'innovation', 'NN'), (u'throughout', 'IN'), (u'our', 'PRP$'), (u'economy', 'NN'), (u',', ','), (u'and', 'CC'), (u'to', 'TO'), (u'give', 'VB'), (u'our', 'PRP$'), (u'nation', 'NN'), (u\"'s\", 'POS'), (u'children', 'NNS'), (u'a', 'DT'), (u'firm', 'NN'), (u'grounding', 'VBG'), (u'in', 'IN'), (u'math', 'NN'), (u'and', 'CC'), (u'science', 'NN'), (u'.', '.')]\n",
      "[(u'(', '('), (u'Applause', 'NNP'), (u'.', '.'), (u')', ')')]\n",
      "[(u'First', 'RB'), (u',', ','), (u'I', 'PRP'), (u'propose', 'VBP'), (u'to', 'TO'), (u'double', 'VB'), (u'the', 'DT'), (u'federal', 'JJ'), (u'commitment', 'NN'), (u'to', 'TO'), (u'the', 'DT'), (u'most', 'RBS'), (u'critical', 'JJ'), (u'basic', 'JJ'), (u'research', 'NN'), (u'programs', 'NNS'), (u'in', 'IN'), (u'the', 'DT'), (u'physical', 'JJ'), (u'sciences', 'NNS'), (u'over', 'IN'), (u'the', 'DT'), (u'next', 'JJ'), (u'10', 'CD'), (u'years', 'NNS'), (u'.', '.')]\n",
      "[(u'This', 'DT'), (u'funding', 'NN'), (u'will', 'MD'), (u'support', 'VB'), (u'the', 'DT'), (u'work', 'NN'), (u'of', 'IN'), (u'America', 'NNP'), (u\"'s\", 'POS'), (u'most', 'RBS'), (u'creative', 'JJ'), (u'minds', 'NNS'), (u'as', 'IN'), (u'they', 'PRP'), (u'explore', 'VBP'), (u'promising', 'VBG'), (u'areas', 'NNS'), (u'such', 'JJ'), (u'as', 'IN'), (u'nanotechnology', 'NN'), (u',', ','), (u'supercomputing', 'NN'), (u',', ','), (u'and', 'CC'), (u'alternative', 'JJ'), (u'energy', 'NN'), (u'sources', 'NNS'), (u'.', '.')]\n",
      "[(u'Second', 'JJ'), (u',', ','), (u'I', 'PRP'), (u'propose', 'VBP'), (u'to', 'TO'), (u'make', 'VB'), (u'permanent', 'JJ'), (u'the', 'DT'), (u'research', 'NN'), (u'and', 'CC'), (u'development', 'NN'), (u'tax', 'NN'), (u'credit', 'NN'), (u'--', ':'), (u'(', '('), (u'applause', 'NN'), (u')', ')'), (u'--', ':'), (u'to', 'TO'), (u'encourage', 'VB'), (u'bolder', 'VB'), (u'private-sector', 'JJ'), (u'initiatives', 'NNS'), (u'in', 'IN'), (u'technology', 'NN'), (u'.', '.')]\n",
      "[(u'With', 'IN'), (u'more', 'JJR'), (u'research', 'NN'), (u'in', 'IN'), (u'both', 'CC'), (u'the', 'DT'), (u'public', 'NN'), (u'and', 'CC'), (u'private', 'JJ'), (u'sectors', 'NNS'), (u',', ','), (u'we', 'PRP'), (u'will', 'MD'), (u'improve', 'VB'), (u'our', 'PRP$'), (u'quality', 'NN'), (u'of', 'IN'), (u'life', 'NN'), (u'--', ':'), (u'and', 'CC'), (u'ensure', 'VB'), (u'that', 'DT'), (u'America', 'NNP'), (u'will', 'MD'), (u'lead', 'VB'), (u'the', 'DT'), (u'world', 'NN'), (u'in', 'IN'), (u'opportunity', 'NN'), (u'and', 'CC'), (u'innovation', 'NN'), (u'for', 'IN'), (u'decades', 'NNS'), (u'to', 'TO'), (u'come', 'VB'), (u'.', '.')]\n",
      "[(u'(', '('), (u'Applause', 'NNP'), (u'.', '.'), (u')', ')')]\n",
      "[(u'Third', 'NNP'), (u',', ','), (u'we', 'PRP'), (u'need', 'VBP'), (u'to', 'TO'), (u'encourage', 'VB'), (u'children', 'NNS'), (u'to', 'TO'), (u'take', 'VB'), (u'more', 'JJR'), (u'math', 'NN'), (u'and', 'CC'), (u'science', 'NN'), (u',', ','), (u'and', 'CC'), (u'to', 'TO'), (u'make', 'VB'), (u'sure', 'JJ'), (u'those', 'DT'), (u'courses', 'NNS'), (u'are', 'VBP'), (u'rigorous', 'JJ'), (u'enough', 'RB'), (u'to', 'TO'), (u'compete', 'VB'), (u'with', 'IN'), (u'other', 'JJ'), (u'nations', 'NNS'), (u'.', '.')]\n",
      "[(u'We', 'PRP'), (u\"'ve\", 'VBP'), (u'made', 'VBN'), (u'a', 'DT'), (u'good', 'JJ'), (u'start', 'NN'), (u'in', 'IN'), (u'the', 'DT'), (u'early', 'JJ'), (u'grades', 'NNS'), (u'with', 'IN'), (u'the', 'DT'), (u'No', 'NNP'), (u'Child', 'NNP'), (u'Left', 'NNP'), (u'Behind', 'NNP'), (u'Act', 'NNP'), (u',', ','), (u'which', 'WDT'), (u'is', 'VBZ'), (u'raising', 'VBG'), (u'standards', 'NNS'), (u'and', 'CC'), (u'lifting', 'VBG'), (u'test', 'NN'), (u'scores', 'NNS'), (u'across', 'IN'), (u'our', 'PRP$'), (u'country', 'NN'), (u'.', '.')]\n",
      "[(u'Tonight', 'NNP'), (u'I', 'PRP'), (u'propose', 'VBP'), (u'to', 'TO'), (u'train', 'VB'), (u'70,000', 'CD'), (u'high', 'JJ'), (u'school', 'NN'), (u'teachers', 'NNS'), (u'to', 'TO'), (u'lead', 'VB'), (u'advanced-placement', 'JJ'), (u'courses', 'NNS'), (u'in', 'IN'), (u'math', 'NN'), (u'and', 'CC'), (u'science', 'NN'), (u',', ','), (u'bring', 'VBG'), (u'30,000', 'CD'), (u'math', 'NN'), (u'and', 'CC'), (u'science', 'NN'), (u'professionals', 'NNS'), (u'to', 'TO'), (u'teach', 'VB'), (u'in', 'IN'), (u'classrooms', 'NNS'), (u',', ','), (u'and', 'CC'), (u'give', 'VB'), (u'early', 'JJ'), (u'help', 'NN'), (u'to', 'TO'), (u'students', 'NNS'), (u'who', 'WP'), (u'struggle', 'VBP'), (u'with', 'IN'), (u'math', 'NN'), (u',', ','), (u'so', 'IN'), (u'they', 'PRP'), (u'have', 'VBP'), (u'a', 'DT'), (u'better', 'JJR'), (u'chance', 'NN'), (u'at', 'IN'), (u'good', 'JJ'), (u',', ','), (u'high-wage', 'JJ'), (u'jobs', 'NNS'), (u'.', '.')]\n",
      "[(u'If', 'IN'), (u'we', 'PRP'), (u'ensure', 'VB'), (u'that', 'IN'), (u'America', 'NNP'), (u\"'s\", 'POS'), (u'children', 'NNS'), (u'succeed', 'VB'), (u'in', 'IN'), (u'life', 'NN'), (u',', ','), (u'they', 'PRP'), (u'will', 'MD'), (u'ensure', 'VB'), (u'that', 'IN'), (u'America', 'NNP'), (u'succeeds', 'VBZ'), (u'in', 'IN'), (u'the', 'DT'), (u'world', 'NN'), (u'.', '.')]\n",
      "[(u'(', '('), (u'Applause', 'NNP'), (u'.', '.'), (u')', ')')]\n",
      "[(u'Preparing', 'VBG'), (u'our', 'PRP$'), (u'nation', 'NN'), (u'to', 'TO'), (u'compete', 'VB'), (u'in', 'IN'), (u'the', 'DT'), (u'world', 'NN'), (u'is', 'VBZ'), (u'a', 'DT'), (u'goal', 'NN'), (u'that', 'IN'), (u'all', 'DT'), (u'of', 'IN'), (u'us', 'PRP'), (u'can', 'MD'), (u'share', 'NN'), (u'.', '.')]\n",
      "[(u'I', 'PRP'), (u'urge', 'VBP'), (u'you', 'PRP'), (u'to', 'TO'), (u'support', 'VB'), (u'the', 'DT'), (u'American', 'JJ'), (u'Competitiveness', 'NNP'), (u'Initiative', 'NNP'), (u',', ','), (u'and', 'CC'), (u'together', 'RB'), (u'we', 'PRP'), (u'will', 'MD'), (u'show', 'VB'), (u'the', 'DT'), (u'world', 'NN'), (u'what', 'WP'), (u'the', 'DT'), (u'American', 'JJ'), (u'people', 'NNS'), (u'can', 'MD'), (u'achieve', 'VB'), (u'.', '.')]\n",
      "[(u'America', 'NNP'), (u'is', 'VBZ'), (u'a', 'DT'), (u'great', 'JJ'), (u'force', 'NN'), (u'for', 'IN'), (u'freedom', 'NN'), (u'and', 'CC'), (u'prosperity', 'NN'), (u'.', '.')]\n",
      "[(u'Yet', 'RB'), (u'our', 'PRP$'), (u'greatness', 'NN'), (u'is', 'VBZ'), (u'not', 'RB'), (u'measured', 'VBN'), (u'in', 'IN'), (u'power', 'NN'), (u'or', 'CC'), (u'luxuries', 'NNS'), (u',', ','), (u'but', 'CC'), (u'by', 'IN'), (u'who', 'WP'), (u'we', 'PRP'), (u'are', 'VBP'), (u'and', 'CC'), (u'how', 'WRB'), (u'we', 'PRP'), (u'treat', 'VBP'), (u'one', 'CD'), (u'another', 'DT'), (u'.', '.')]\n",
      "[(u'So', 'IN'), (u'we', 'PRP'), (u'strive', 'VBP'), (u'to', 'TO'), (u'be', 'VB'), (u'a', 'DT'), (u'compassionate', 'NN'), (u',', ','), (u'decent', 'NN'), (u',', ','), (u'hopeful', 'JJ'), (u'society', 'NN'), (u'.', '.')]\n",
      "[(u'In', 'IN'), (u'recent', 'JJ'), (u'years', 'NNS'), (u',', ','), (u'America', 'NNP'), (u'has', 'VBZ'), (u'become', 'VBN'), (u'a', 'DT'), (u'more', 'RBR'), (u'hopeful', 'JJ'), (u'nation', 'NN'), (u'.', '.')]\n",
      "[(u'Violent', 'JJ'), (u'crime', 'NN'), (u'rates', 'NNS'), (u'have', 'VBP'), (u'fallen', 'VBN'), (u'to', 'TO'), (u'their', 'PRP$'), (u'lowest', 'JJS'), (u'levels', 'NNS'), (u'since', 'IN'), (u'the', 'DT'), (u'1970s', 'CD'), (u'.', '.')]\n",
      "[(u'Welfare', 'NN'), (u'cases', 'NNS'), (u'have', 'VBP'), (u'dropped', 'VBN'), (u'by', 'IN'), (u'more', 'JJR'), (u'than', 'IN'), (u'half', 'NN'), (u'over', 'IN'), (u'the', 'DT'), (u'past', 'JJ'), (u'decade', 'NN'), (u'.', '.')]\n",
      "[(u'Drug', 'NN'), (u'use', 'NN'), (u'among', 'IN'), (u'youth', 'NN'), (u'is', 'VBZ'), (u'down', 'RB'), (u'19', 'CD'), (u'percent', 'NN'), (u'since', 'IN'), (u'2001', 'CD'), (u'.', '.')]\n",
      "[(u'There', 'EX'), (u'are', 'VBP'), (u'fewer', 'JJR'), (u'abortions', 'NNS'), (u'in', 'IN'), (u'America', 'NNP'), (u'than', 'IN'), (u'at', 'IN'), (u'any', 'DT'), (u'point', 'NN'), (u'in', 'IN'), (u'the', 'DT'), (u'last', 'JJ'), (u'three', 'CD'), (u'decades', 'NNS'), (u',', ','), (u'and', 'CC'), (u'the', 'DT'), (u'number', 'NN'), (u'of', 'IN'), (u'children', 'NNS'), (u'born', 'VBN'), (u'to', 'TO'), (u'teenage', 'VB'), (u'mothers', 'NNS'), (u'has', 'VBZ'), (u'been', 'VBN'), (u'falling', 'VBG'), (u'for', 'IN'), (u'a', 'DT'), (u'dozen', 'NN'), (u'years', 'NNS'), (u'in', 'IN'), (u'a', 'DT'), (u'row', 'NN'), (u'.', '.')]\n",
      "[(u'(', '('), (u'Applause', 'NNP'), (u'.', '.'), (u')', ')')]\n",
      "[(u'These', 'DT'), (u'gains', 'NNS'), (u'are', 'VBP'), (u'evidence', 'NN'), (u'of', 'IN'), (u'a', 'DT'), (u'quiet', 'JJ'), (u'transformation', 'NN'), (u'--', ':'), (u'a', 'DT'), (u'revolution', 'NN'), (u'of', 'IN'), (u'conscience', 'NN'), (u',', ','), (u'in', 'IN'), (u'which', 'WDT'), (u'a', 'DT'), (u'rising', 'VBG'), (u'generation', 'NN'), (u'is', 'VBZ'), (u'finding', 'VBG'), (u'that', 'IN'), (u'a', 'DT'), (u'life', 'NN'), (u'of', 'IN'), (u'personal', 'JJ'), (u'responsibility', 'NN'), (u'is', 'VBZ'), (u'a', 'DT'), (u'life', 'NN'), (u'of', 'IN'), (u'fulfillment', 'NN'), (u'.', '.')]\n",
      "[(u'Government', 'NNP'), (u'has', 'VBZ'), (u'played', 'VBN'), (u'a', 'DT'), (u'role', 'NN'), (u'.', '.')]\n",
      "[(u'Wise', 'NNP'), (u'policies', 'NNS'), (u',', ','), (u'such', 'JJ'), (u'as', 'IN'), (u'welfare', 'NN'), (u'reform', 'NN'), (u'and', 'CC'), (u'drug', 'NN'), (u'education', 'NN'), (u'and', 'CC'), (u'support', 'NN'), (u'for', 'IN'), (u'abstinence', 'NN'), (u'and', 'CC'), (u'adoption', 'NN'), (u'have', 'VBP'), (u'made', 'VBN'), (u'a', 'DT'), (u'difference', 'NN'), (u'in', 'IN'), (u'the', 'DT'), (u'character', 'NN'), (u'of', 'IN'), (u'our', 'PRP$'), (u'country', 'NN'), (u'.', '.')]\n",
      "[(u'And', 'CC'), (u'everyone', 'NN'), (u'here', 'RB'), (u'tonight', 'RB'), (u',', ','), (u'Democrat', 'NNP'), (u'and', 'CC'), (u'Republican', 'NNP'), (u',', ','), (u'has', 'VBZ'), (u'a', 'DT'), (u'right', 'NN'), (u'to', 'TO'), (u'be', 'VB'), (u'proud', 'JJ'), (u'of', 'IN'), (u'this', 'DT'), (u'record', 'NN'), (u'.', '.')]\n",
      "[(u'(', '('), (u'Applause', 'NNP'), (u'.', '.'), (u')', ')')]\n",
      "[(u'Yet', 'RB'), (u'many', 'JJ'), (u'Americans', 'NNPS'), (u',', ','), (u'especially', 'RB'), (u'parents', 'NNS'), (u',', ','), (u'still', 'RB'), (u'have', 'VBP'), (u'deep', 'JJ'), (u'concerns', 'NNS'), (u'about', 'IN'), (u'the', 'DT'), (u'direction', 'NN'), (u'of', 'IN'), (u'our', 'PRP$'), (u'culture', 'NN'), (u',', ','), (u'and', 'CC'), (u'the', 'DT'), (u'health', 'NN'), (u'of', 'IN'), (u'our', 'PRP$'), (u'most', 'JJS'), (u'basic', 'JJ'), (u'institutions', 'NNS'), (u'.', '.')]\n",
      "[(u'They', 'PRP'), (u\"'re\", 'VBP'), (u'concerned', 'VBN'), (u'about', 'IN'), (u'unethical', 'JJ'), (u'conduct', 'NN'), (u'by', 'IN'), (u'public', 'JJ'), (u'officials', 'NNS'), (u',', ','), (u'and', 'CC'), (u'discouraged', 'VBN'), (u'by', 'IN'), (u'activist', 'NN'), (u'courts', 'NNS'), (u'that', 'WDT'), (u'try', 'VBP'), (u'to', 'TO'), (u'redefine', 'VB'), (u'marriage', 'NN'), (u'.', '.')]\n",
      "[(u'They', 'PRP'), (u'worry', 'VBP'), (u'about', 'IN'), (u'children', 'NNS'), (u'in', 'IN'), (u'our', 'PRP$'), (u'society', 'NN'), (u'who', 'WP'), (u'need', 'VBP'), (u'direction', 'NN'), (u'and', 'CC'), (u'love', 'NN'), (u',', ','), (u'and', 'CC'), (u'about', 'IN'), (u'fellow', 'JJ'), (u'citizens', 'NNS'), (u'still', 'RB'), (u'displaced', 'VBN'), (u'by', 'IN'), (u'natural', 'JJ'), (u'disaster', 'NN'), (u',', ','), (u'and', 'CC'), (u'about', 'IN'), (u'suffering', 'VBG'), (u'caused', 'VBN'), (u'by', 'IN'), (u'treatable', 'JJ'), (u'diseases', 'NNS'), (u'.', '.')]\n",
      "[(u'As', 'IN'), (u'we', 'PRP'), (u'look', 'VBP'), (u'at', 'IN'), (u'these', 'DT'), (u'challenges', 'NNS'), (u',', ','), (u'we', 'PRP'), (u'must', 'MD'), (u'never', 'RB'), (u'give', 'VB'), (u'in', 'IN'), (u'to', 'TO'), (u'the', 'DT'), (u'belief', 'NN'), (u'that', 'IN'), (u'America', 'NNP'), (u'is', 'VBZ'), (u'in', 'IN'), (u'decline', 'NN'), (u',', ','), (u'or', 'CC'), (u'that', 'IN'), (u'our', 'PRP$'), (u'culture', 'NN'), (u'is', 'VBZ'), (u'doomed', 'VBN'), (u'to', 'TO'), (u'unravel', 'VB'), (u'.', '.')]\n",
      "[(u'The', 'DT'), (u'American', 'JJ'), (u'people', 'NNS'), (u'know', 'VBP'), (u'better', 'JJR'), (u'than', 'IN'), (u'that', 'DT'), (u'.', '.')]\n",
      "[(u'We', 'PRP'), (u'have', 'VBP'), (u'proven', 'VBN'), (u'the', 'DT'), (u'pessimists', 'NNS'), (u'wrong', 'JJ'), (u'before', 'RB'), (u'--', ':'), (u'and', 'CC'), (u'we', 'PRP'), (u'will', 'MD'), (u'do', 'VB'), (u'it', 'PRP'), (u'again', 'RB'), (u'.', '.')]\n",
      "[(u'(', '('), (u'Applause', 'NNP'), (u'.', '.'), (u')', ')')]\n",
      "[(u'A', 'DT'), (u'hopeful', 'JJ'), (u'society', 'NN'), (u'depends', 'VBZ'), (u'on', 'IN'), (u'courts', 'NNS'), (u'that', 'IN'), (u'deliver', 'VBP'), (u'equal', 'JJ'), (u'justice', 'NN'), (u'under', 'IN'), (u'the', 'DT'), (u'law', 'NN'), (u'.', '.')]\n",
      "[(u'The', 'DT'), (u'Supreme', 'NNP'), (u'Court', 'NNP'), (u'now', 'RB'), (u'has', 'VBZ'), (u'two', 'CD'), (u'superb', 'JJ'), (u'new', 'JJ'), (u'members', 'NNS'), (u'--', ':'), (u'new', 'JJ'), (u'members', 'NNS'), (u'on', 'IN'), (u'its', 'PRP$'), (u'bench', 'NN'), (u':', ':'), (u'Chief', 'JJ'), (u'Justice', 'NNP'), (u'John', 'NNP'), (u'Roberts', 'NNP'), (u'and', 'CC'), (u'Justice', 'NNP'), (u'Sam', 'NNP'), (u'Alito', 'NNP'), (u'.', '.')]\n",
      "[(u'(', '('), (u'Applause', 'NNP'), (u'.', '.'), (u')', ')')]\n",
      "[(u'I', 'PRP'), (u'thank', 'VBD'), (u'the', 'DT'), (u'Senate', 'NNP'), (u'for', 'IN'), (u'confirming', 'VBG'), (u'both', 'DT'), (u'of', 'IN'), (u'them', 'PRP'), (u'.', '.')]\n",
      "[(u'I', 'PRP'), (u'will', 'MD'), (u'continue', 'VB'), (u'to', 'TO'), (u'nominate', 'VB'), (u'men', 'NNS'), (u'and', 'CC'), (u'women', 'NNS'), (u'who', 'WP'), (u'understand', 'VBP'), (u'that', 'IN'), (u'judges', 'NNS'), (u'must', 'MD'), (u'be', 'VB'), (u'servants', 'NNS'), (u'of', 'IN'), (u'the', 'DT'), (u'law', 'NN'), (u',', ','), (u'and', 'CC'), (u'not', 'RB'), (u'legislate', 'VB'), (u'from', 'IN'), (u'the', 'DT'), (u'bench', 'NN'), (u'.', '.')]\n",
      "[(u'(', '('), (u'Applause', 'NNP'), (u'.', '.'), (u')', ')')]\n",
      "[(u'Today', 'NN'), (u'marks', 'VBZ'), (u'the', 'DT'), (u'official', 'JJ'), (u'retirement', 'NN'), (u'of', 'IN'), (u'a', 'DT'), (u'very', 'RB'), (u'special', 'JJ'), (u'American', 'NNP'), (u'.', '.')]\n",
      "[(u'For', 'IN'), (u'24', 'CD'), (u'years', 'NNS'), (u'of', 'IN'), (u'faithful', 'JJ'), (u'service', 'NN'), (u'to', 'TO'), (u'our', 'PRP$'), (u'nation', 'NN'), (u',', ','), (u'the', 'DT'), (u'United', 'NNP'), (u'States', 'NNPS'), (u'is', 'VBZ'), (u'grateful', 'JJ'), (u'to', 'TO'), (u'Justice', 'NNP'), (u'Sandra', 'NNP'), (u'Day', 'NNP'), (u\"O'Connor\", 'NNP'), (u'.', '.')]\n",
      "[(u'(', '('), (u'Applause', 'NNP'), (u'.', '.'), (u')', ')')]\n",
      "[(u'A', 'DT'), (u'hopeful', 'JJ'), (u'society', 'NN'), (u'has', 'VBZ'), (u'institutions', 'NNS'), (u'of', 'IN'), (u'science', 'NN'), (u'and', 'CC'), (u'medicine', 'NN'), (u'that', 'WDT'), (u'do', 'VBP'), (u'not', 'RB'), (u'cut', 'VB'), (u'ethical', 'JJ'), (u'corners', 'NNS'), (u',', ','), (u'and', 'CC'), (u'that', 'IN'), (u'recognize', 'VBP'), (u'the', 'DT'), (u'matchless', 'NN'), (u'value', 'NN'), (u'of', 'IN'), (u'every', 'DT'), (u'life', 'NN'), (u'.', '.')]\n",
      "[(u'Tonight', 'NNP'), (u'I', 'PRP'), (u'ask', 'VBP'), (u'you', 'PRP'), (u'to', 'TO'), (u'pass', 'VB'), (u'legislation', 'NN'), (u'to', 'TO'), (u'prohibit', 'VB'), (u'the', 'DT'), (u'most', 'RBS'), (u'egregious', 'JJ'), (u'abuses', 'NNS'), (u'of', 'IN'), (u'medical', 'JJ'), (u'research', 'NN'), (u':', ':'), (u'human', 'JJ'), (u'cloning', 'VBG'), (u'in', 'IN'), (u'all', 'DT'), (u'its', 'PRP$'), (u'forms', 'NNS'), (u',', ','), (u'creating', 'VBG'), (u'or', 'CC'), (u'implanting', 'VBG'), (u'embryos', 'NN'), (u'for', 'IN'), (u'experiments', 'NNS'), (u',', ','), (u'creating', 'VBG'), (u'human-animal', 'JJ'), (u'hybrids', 'NNS'), (u',', ','), (u'and', 'CC'), (u'buying', 'NN'), (u',', ','), (u'selling', 'NN'), (u',', ','), (u'or', 'CC'), (u'patenting', 'VBG'), (u'human', 'JJ'), (u'embryos', 'NN'), (u'.', '.')]\n",
      "[(u'Human', 'NNP'), (u'life', 'NN'), (u'is', 'VBZ'), (u'a', 'DT'), (u'gift', 'NN'), (u'from', 'IN'), (u'our', 'PRP$'), (u'Creator', 'NNP'), (u'--', ':'), (u'and', 'CC'), (u'that', 'IN'), (u'gift', 'NN'), (u'should', 'MD'), (u'never', 'RB'), (u'be', 'VB'), (u'discarded', 'VBN'), (u',', ','), (u'devalued', 'VBD'), (u'or', 'CC'), (u'put', 'VB'), (u'up', 'RP'), (u'for', 'IN'), (u'sale', 'NN'), (u'.', '.')]\n",
      "[(u'(', '('), (u'Applause', 'NNP'), (u'.', '.'), (u')', ')')]\n",
      "[(u'A', 'DT'), (u'hopeful', 'JJ'), (u'society', 'NN'), (u'expects', 'VBZ'), (u'elected', 'VBN'), (u'officials', 'NNS'), (u'to', 'TO'), (u'uphold', 'VB'), (u'the', 'DT'), (u'public', 'JJ'), (u'trust', 'NN'), (u'.', '.')]\n",
      "[(u'(', '('), (u'Applause', 'NNP'), (u'.', '.'), (u')', ')')]\n",
      "[(u'Honorable', 'JJ'), (u'people', 'NNS'), (u'in', 'IN'), (u'both', 'DT'), (u'parties', 'NNS'), (u'are', 'VBP'), (u'working', 'VBG'), (u'on', 'IN'), (u'reforms', 'NNS'), (u'to', 'TO'), (u'strengthen', 'VB'), (u'the', 'DT'), (u'ethical', 'JJ'), (u'standards', 'NNS'), (u'of', 'IN'), (u'Washington', 'NNP'), (u'--', ':'), (u'I', 'PRP'), (u'support', 'VBP'), (u'your', 'PRP$'), (u'efforts', 'NNS'), (u'.', '.')]\n",
      "[(u'Each', 'DT'), (u'of', 'IN'), (u'us', 'PRP'), (u'has', 'VBZ'), (u'made', 'VBN'), (u'a', 'DT'), (u'pledge', 'NN'), (u'to', 'TO'), (u'be', 'VB'), (u'worthy', 'JJ'), (u'of', 'IN'), (u'public', 'JJ'), (u'responsibility', 'NN'), (u'--', ':'), (u'and', 'CC'), (u'that', 'DT'), (u'is', 'VBZ'), (u'a', 'DT'), (u'pledge', 'NN'), (u'we', 'PRP'), (u'must', 'MD'), (u'never', 'RB'), (u'forget', 'VB'), (u',', ','), (u'never', 'RB'), (u'dismiss', 'NN'), (u',', ','), (u'and', 'CC'), (u'never', 'RB'), (u'betray', 'NN'), (u'.', '.')]\n",
      "[(u'(', '('), (u'Applause', 'NNP'), (u'.', '.'), (u')', ')')]\n",
      "[(u'As', 'IN'), (u'we', 'PRP'), (u'renew', 'VBP'), (u'the', 'DT'), (u'promise', 'NN'), (u'of', 'IN'), (u'our', 'PRP$'), (u'institutions', 'NNS'), (u',', ','), (u'let', 'VB'), (u'us', 'PRP'), (u'also', 'RB'), (u'show', 'VBP'), (u'the', 'DT'), (u'character', 'NN'), (u'of', 'IN'), (u'America', 'NNP'), (u'in', 'IN'), (u'our', 'PRP$'), (u'compassion', 'NN'), (u'and', 'CC'), (u'care', 'NN'), (u'for', 'IN'), (u'one', 'CD'), (u'another', 'DT'), (u'.', '.')]\n",
      "[(u'A', 'DT'), (u'hopeful', 'JJ'), (u'society', 'NN'), (u'gives', 'VBZ'), (u'special', 'JJ'), (u'attention', 'NN'), (u'to', 'TO'), (u'children', 'NNS'), (u'who', 'WP'), (u'lack', 'VBP'), (u'direction', 'NN'), (u'and', 'CC'), (u'love', 'NN'), (u'.', '.')]\n",
      "[(u'Through', 'IN'), (u'the', 'DT'), (u'Helping', 'NNP'), (u'America', 'NNP'), (u\"'s\", 'POS'), (u'Youth', 'NNP'), (u'Initiative', 'NNP'), (u',', ','), (u'we', 'PRP'), (u'are', 'VBP'), (u'encouraging', 'VBG'), (u'caring', 'VBG'), (u'adults', 'NNS'), (u'to', 'TO'), (u'get', 'VB'), (u'involved', 'VBN'), (u'in', 'IN'), (u'the', 'DT'), (u'life', 'NN'), (u'of', 'IN'), (u'a', 'DT'), (u'child', 'NN'), (u'--', ':'), (u'and', 'CC'), (u'this', 'DT'), (u'good', 'JJ'), (u'work', 'NN'), (u'is', 'VBZ'), (u'being', 'VBG'), (u'led', 'VBN'), (u'by', 'IN'), (u'our', 'PRP$'), (u'First', 'NNP'), (u'Lady', 'NNP'), (u',', ','), (u'Laura', 'NNP'), (u'Bush', 'NNP'), (u'.', '.')]\n",
      "[(u'(', '('), (u'Applause', 'NNP'), (u'.', '.'), (u')', ')')]\n",
      "[(u'This', 'DT'), (u'year', 'NN'), (u'we', 'PRP'), (u'will', 'MD'), (u'add', 'VB'), (u'resources', 'NNS'), (u'to', 'TO'), (u'encourage', 'VB'), (u'young', 'JJ'), (u'people', 'NNS'), (u'to', 'TO'), (u'stay', 'VB'), (u'in', 'IN'), (u'school', 'NN'), (u',', ','), (u'so', 'RB'), (u'more', 'JJR'), (u'of', 'IN'), (u'America', 'NNP'), (u\"'s\", 'POS'), (u'youth', 'NN'), (u'can', 'MD'), (u'raise', 'VB'), (u'their', 'PRP$'), (u'sights', 'NNS'), (u'and', 'CC'), (u'achieve', 'VBP'), (u'their', 'PRP$'), (u'dreams', 'NNS'), (u'.', '.')]\n",
      "[(u'A', 'DT'), (u'hopeful', 'JJ'), (u'society', 'NN'), (u'comes', 'VBZ'), (u'to', 'TO'), (u'the', 'DT'), (u'aid', 'NN'), (u'of', 'IN'), (u'fellow', 'JJ'), (u'citizens', 'NNS'), (u'in', 'IN'), (u'times', 'NNS'), (u'of', 'IN'), (u'suffering', 'NN'), (u'and', 'CC'), (u'emergency', 'NN'), (u'--', ':'), (u'and', 'CC'), (u'stays', 'NNS'), (u'at', 'IN'), (u'it', 'PRP'), (u'until', 'IN'), (u'they', 'PRP'), (u\"'re\", 'VBP'), (u'back', 'RB'), (u'on', 'IN'), (u'their', 'PRP$'), (u'feet', 'NNS'), (u'.', '.')]\n",
      "[(u'So', 'RB'), (u'far', 'RB'), (u'the', 'DT'), (u'federal', 'JJ'), (u'government', 'NN'), (u'has', 'VBZ'), (u'committed', 'VBN'), (u'$', '$'), (u'85', 'CD'), (u'billion', 'CD'), (u'to', 'TO'), (u'the', 'DT'), (u'people', 'NNS'), (u'of', 'IN'), (u'the', 'DT'), (u'Gulf', 'NNP'), (u'Coast', 'NNP'), (u'and', 'CC'), (u'New', 'NNP'), (u'Orleans', 'NNP'), (u'.', '.')]\n",
      "[(u'We', 'PRP'), (u\"'re\", 'VBP'), (u'removing', 'VBG'), (u'debris', 'NN'), (u'and', 'CC'), (u'repairing', 'NN'), (u'highways', 'NNS'), (u'and', 'CC'), (u'rebuilding', 'VBG'), (u'stronger', 'JJR'), (u'levees', 'NNS'), (u'.', '.')]\n",
      "[(u'We', 'PRP'), (u\"'re\", 'VBP'), (u'providing', 'VBG'), (u'business', 'NN'), (u'loans', 'NNS'), (u'and', 'CC'), (u'housing', 'NN'), (u'assistance', 'NN'), (u'.', '.')]\n",
      "[(u'Yet', 'RB'), (u'as', 'IN'), (u'we', 'PRP'), (u'meet', 'VBP'), (u'these', 'DT'), (u'immediate', 'JJ'), (u'needs', 'NNS'), (u',', ','), (u'we', 'PRP'), (u'must', 'MD'), (u'also', 'RB'), (u'address', 'VB'), (u'deeper', 'JJR'), (u'challenges', 'NNS'), (u'that', 'WDT'), (u'existed', 'VBD'), (u'before', 'IN'), (u'the', 'DT'), (u'storm', 'NN'), (u'arrived', 'VBD'), (u'.', '.')]\n",
      "[(u'In', 'IN'), (u'New', 'NNP'), (u'Orleans', 'NNP'), (u'and', 'CC'), (u'in', 'IN'), (u'other', 'JJ'), (u'places', 'NNS'), (u',', ','), (u'many', 'JJ'), (u'of', 'IN'), (u'our', 'PRP$'), (u'fellow', 'JJ'), (u'citizens', 'NNS'), (u'have', 'VBP'), (u'felt', 'VBN'), (u'excluded', 'VBN'), (u'from', 'IN'), (u'the', 'DT'), (u'promise', 'NN'), (u'of', 'IN'), (u'our', 'PRP$'), (u'country', 'NN'), (u'.', '.')]\n",
      "[(u'The', 'DT'), (u'answer', 'NN'), (u'is', 'VBZ'), (u'not', 'RB'), (u'only', 'RB'), (u'temporary', 'JJ'), (u'relief', 'NN'), (u',', ','), (u'but', 'CC'), (u'schools', 'NNS'), (u'that', 'WDT'), (u'teach', 'VBP'), (u'every', 'DT'), (u'child', 'NN'), (u',', ','), (u'and', 'CC'), (u'job', 'NN'), (u'skills', 'NNS'), (u'that', 'IN'), (u'bring', 'VBG'), (u'upward', 'JJ'), (u'mobility', 'NN'), (u',', ','), (u'and', 'CC'), (u'more', 'JJR'), (u'opportunities', 'NNS'), (u'to', 'TO'), (u'own', 'VB'), (u'a', 'DT'), (u'home', 'NN'), (u'and', 'CC'), (u'start', 'VB'), (u'a', 'DT'), (u'business', 'NN'), (u'.', '.')]\n",
      "[(u'As', 'IN'), (u'we', 'PRP'), (u'recover', 'VBP'), (u'from', 'IN'), (u'a', 'DT'), (u'disaster', 'NN'), (u',', ','), (u'let', 'VB'), (u'us', 'PRP'), (u'also', 'RB'), (u'work', 'NN'), (u'for', 'IN'), (u'the', 'DT'), (u'day', 'NN'), (u'when', 'WRB'), (u'all', 'DT'), (u'Americans', 'NNPS'), (u'are', 'VBP'), (u'protected', 'VBN'), (u'by', 'IN'), (u'justice', 'NN'), (u',', ','), (u'equal', 'JJ'), (u'in', 'IN'), (u'hope', 'NN'), (u',', ','), (u'and', 'CC'), (u'rich', 'JJ'), (u'in', 'IN'), (u'opportunity', 'NN'), (u'.', '.')]\n",
      "[(u'(', '('), (u'Applause', 'NNP'), (u'.', '.'), (u')', ')')]\n",
      "[(u'A', 'DT'), (u'hopeful', 'JJ'), (u'society', 'NN'), (u'acts', 'NNS'), (u'boldly', 'RB'), (u'to', 'TO'), (u'fight', 'VB'), (u'diseases', 'NNS'), (u'like', 'IN'), (u'HIV/AIDS', 'NNP'), (u',', ','), (u'which', 'WDT'), (u'can', 'MD'), (u'be', 'VB'), (u'prevented', 'VBN'), (u',', ','), (u'and', 'CC'), (u'treated', 'VBD'), (u',', ','), (u'and', 'CC'), (u'defeated', 'VBD'), (u'.', '.')]\n",
      "[(u'More', 'JJR'), (u'than', 'IN'), (u'a', 'DT'), (u'million', 'CD'), (u'Americans', 'NNPS'), (u'live', 'VBP'), (u'with', 'IN'), (u'HIV', 'NNP'), (u',', ','), (u'and', 'CC'), (u'half', 'NN'), (u'of', 'IN'), (u'all', 'DT'), (u'AIDS', 'NNP'), (u'cases', 'NNS'), (u'occur', 'VBP'), (u'among', 'IN'), (u'African', 'JJ'), (u'Americans', 'NNPS'), (u'.', '.')]\n",
      "[(u'I', 'PRP'), (u'ask', 'VBP'), (u'Congress', 'NNP'), (u'to', 'TO'), (u'reform', 'VB'), (u'and', 'CC'), (u'reauthorize', 'VB'), (u'the', 'DT'), (u'Ryan', 'NNP'), (u'White', 'NNP'), (u'Act', 'NNP'), (u',', ','), (u'and', 'CC'), (u'provide', 'VB'), (u'new', 'JJ'), (u'funding', 'NN'), (u'to', 'TO'), (u'states', 'NNS'), (u',', ','), (u'so', 'IN'), (u'we', 'PRP'), (u'end', 'VBP'), (u'the', 'DT'), (u'waiting', 'NN'), (u'lists', 'NNS'), (u'for', 'IN'), (u'AIDS', 'NNP'), (u'medicines', 'NNS'), (u'in', 'IN'), (u'America', 'NNP'), (u'.', '.')]\n",
      "[(u'(', '('), (u'Applause', 'NNP'), (u'.', '.'), (u')', ')')]\n",
      "[(u'We', 'PRP'), (u'will', 'MD'), (u'also', 'RB'), (u'lead', 'VB'), (u'a', 'DT'), (u'nationwide', 'JJ'), (u'effort', 'NN'), (u',', ','), (u'working', 'VBG'), (u'closely', 'RB'), (u'with', 'IN'), (u'African', 'JJ'), (u'American', 'JJ'), (u'churches', 'NNS'), (u'and', 'CC'), (u'faith-based', 'JJ'), (u'groups', 'NNS'), (u',', ','), (u'to', 'TO'), (u'deliver', 'VB'), (u'rapid', 'JJ'), (u'HIV', 'NNP'), (u'tests', 'NNS'), (u'to', 'TO'), (u'millions', 'NNS'), (u',', ','), (u'end', 'VBP'), (u'the', 'DT'), (u'stigma', 'NN'), (u'of', 'IN'), (u'AIDS', 'NNP'), (u',', ','), (u'and', 'CC'), (u'come', 'VB'), (u'closer', 'JJR'), (u'to', 'TO'), (u'the', 'DT'), (u'day', 'NN'), (u'when', 'WRB'), (u'there', 'EX'), (u'are', 'VBP'), (u'no', 'DT'), (u'new', 'JJ'), (u'infections', 'NNS'), (u'in', 'IN'), (u'America', 'NNP'), (u'.', '.')]\n",
      "[(u'(', '('), (u'Applause', 'NNP'), (u'.', '.'), (u')', ')')]\n",
      "[(u'Fellow', 'NNP'), (u'citizens', 'NNS'), (u',', ','), (u'we', 'PRP'), (u\"'ve\", 'VBP'), (u'been', 'VBN'), (u'called', 'VBN'), (u'to', 'TO'), (u'leadership', 'NN'), (u'in', 'IN'), (u'a', 'DT'), (u'period', 'NN'), (u'of', 'IN'), (u'consequence', 'NN'), (u'.', '.')]\n",
      "[(u'We', 'PRP'), (u\"'ve\", 'VBP'), (u'entered', 'VBN'), (u'a', 'DT'), (u'great', 'JJ'), (u'ideological', 'JJ'), (u'conflict', 'NN'), (u'we', 'PRP'), (u'did', 'VBD'), (u'nothing', 'NN'), (u'to', 'TO'), (u'invite', 'VB'), (u'.', '.')]\n",
      "[(u'We', 'PRP'), (u'see', 'VBP'), (u'great', 'JJ'), (u'changes', 'NNS'), (u'in', 'IN'), (u'science', 'NN'), (u'and', 'CC'), (u'commerce', 'NN'), (u'that', 'WDT'), (u'will', 'MD'), (u'influence', 'VB'), (u'all', 'DT'), (u'our', 'PRP$'), (u'lives', 'NNS'), (u'.', '.')]\n",
      "[(u'Sometimes', 'RB'), (u'it', 'PRP'), (u'can', 'MD'), (u'seem', 'VB'), (u'that', 'DT'), (u'history', 'NN'), (u'is', 'VBZ'), (u'turning', 'VBG'), (u'in', 'IN'), (u'a', 'DT'), (u'wide', 'JJ'), (u'arc', 'NN'), (u',', ','), (u'toward', 'IN'), (u'an', 'DT'), (u'unknown', 'JJ'), (u'shore', 'NN'), (u'.', '.')]\n",
      "[(u'Yet', 'CC'), (u'the', 'DT'), (u'destination', 'NN'), (u'of', 'IN'), (u'history', 'NN'), (u'is', 'VBZ'), (u'determined', 'VBN'), (u'by', 'IN'), (u'human', 'JJ'), (u'action', 'NN'), (u',', ','), (u'and', 'CC'), (u'every', 'DT'), (u'great', 'JJ'), (u'movement', 'NN'), (u'of', 'IN'), (u'history', 'NN'), (u'comes', 'VBZ'), (u'to', 'TO'), (u'a', 'DT'), (u'point', 'NN'), (u'of', 'IN'), (u'choosing', 'NN'), (u'.', '.')]\n",
      "[(u'Lincoln', 'NNP'), (u'could', 'MD'), (u'have', 'VB'), (u'accepted', 'VBN'), (u'peace', 'NN'), (u'at', 'IN'), (u'the', 'DT'), (u'cost', 'NN'), (u'of', 'IN'), (u'disunity', 'NN'), (u'and', 'CC'), (u'continued', 'JJ'), (u'slavery', 'NN'), (u'.', '.')]\n",
      "[(u'Martin', 'NNP'), (u'Luther', 'NNP'), (u'King', 'NNP'), (u'could', 'MD'), (u'have', 'VB'), (u'stopped', 'VBN'), (u'at', 'IN'), (u'Birmingham', 'NNP'), (u'or', 'CC'), (u'at', 'IN'), (u'Selma', 'NNP'), (u',', ','), (u'and', 'CC'), (u'achieved', 'VBD'), (u'only', 'RB'), (u'half', 'PDT'), (u'a', 'DT'), (u'victory', 'NN'), (u'over', 'IN'), (u'segregation', 'NN'), (u'.', '.')]\n",
      "[(u'The', 'DT'), (u'United', 'NNP'), (u'States', 'NNPS'), (u'could', 'MD'), (u'have', 'VB'), (u'accepted', 'VBN'), (u'the', 'DT'), (u'permanent', 'JJ'), (u'division', 'NN'), (u'of', 'IN'), (u'Europe', 'NNP'), (u',', ','), (u'and', 'CC'), (u'been', 'VBN'), (u'complicit', 'NNS'), (u'in', 'IN'), (u'the', 'DT'), (u'oppression', 'NN'), (u'of', 'IN'), (u'others', 'NNS'), (u'.', '.')]\n",
      "[(u'Today', 'NN'), (u',', ','), (u'having', 'VBG'), (u'come', 'VBN'), (u'far', 'RB'), (u'in', 'IN'), (u'our', 'PRP$'), (u'own', 'JJ'), (u'historical', 'JJ'), (u'journey', 'NN'), (u',', ','), (u'we', 'PRP'), (u'must', 'MD'), (u'decide', 'VB'), (u':', ':'), (u'Will', 'MD'), (u'we', 'PRP'), (u'turn', 'VB'), (u'back', 'RP'), (u',', ','), (u'or', 'CC'), (u'finish', 'VB'), (u'well', 'RB'), (u'?', '.')]\n",
      "[(u'Before', 'IN'), (u'history', 'NN'), (u'is', 'VBZ'), (u'written', 'VBN'), (u'down', 'RP'), (u'in', 'IN'), (u'books', 'NNS'), (u',', ','), (u'it', 'PRP'), (u'is', 'VBZ'), (u'written', 'VBN'), (u'in', 'IN'), (u'courage', 'NN'), (u'.', '.')]\n",
      "[(u'Like', 'IN'), (u'Americans', 'NNPS'), (u'before', 'IN'), (u'us', 'PRP'), (u',', ','), (u'we', 'PRP'), (u'will', 'MD'), (u'show', 'VB'), (u'that', 'DT'), (u'courage', 'NN'), (u'and', 'CC'), (u'we', 'PRP'), (u'will', 'MD'), (u'finish', 'VB'), (u'well', 'RB'), (u'.', '.')]\n",
      "[(u'We', 'PRP'), (u'will', 'MD'), (u'lead', 'VB'), (u'freedom', 'NN'), (u\"'s\", 'POS'), (u'advance', 'NN'), (u'.', '.')]\n",
      "[(u'We', 'PRP'), (u'will', 'MD'), (u'compete', 'VB'), (u'and', 'CC'), (u'excel', 'VB'), (u'in', 'IN'), (u'the', 'DT'), (u'global', 'JJ'), (u'economy', 'NN'), (u'.', '.')]\n",
      "[(u'We', 'PRP'), (u'will', 'MD'), (u'renew', 'VB'), (u'the', 'DT'), (u'defining', 'VBG'), (u'moral', 'JJ'), (u'commitments', 'NNS'), (u'of', 'IN'), (u'this', 'DT'), (u'land', 'NN'), (u'.', '.')]\n",
      "[(u'And', 'CC'), (u'so', 'RB'), (u'we', 'PRP'), (u'move', 'VBP'), (u'forward', 'RB'), (u'--', ':'), (u'optimistic', 'JJ'), (u'about', 'IN'), (u'our', 'PRP$'), (u'country', 'NN'), (u',', ','), (u'faithful', 'JJ'), (u'to', 'TO'), (u'its', 'PRP$'), (u'cause', 'NN'), (u',', ','), (u'and', 'CC'), (u'confident', 'NN'), (u'of', 'IN'), (u'the', 'DT'), (u'victories', 'NNS'), (u'to', 'TO'), (u'come', 'VB'), (u'.', '.')]\n",
      "[(u'May', 'NNP'), (u'God', 'NNP'), (u'bless', 'NN'), (u'America', 'NNP'), (u'.', '.')]\n",
      "[(u'(', '('), (u'Applause', 'NNP'), (u'.', '.'), (u')', ')')]\n"
     ]
    }
   ],
   "source": [
    "process_content()"
   ]
  },
  {
   "cell_type": "code",
   "execution_count": 35,
   "metadata": {},
   "outputs": [
    {
     "data": {
      "text/plain": [
       "<function nltk.tag.pos_tag>"
      ]
     },
     "execution_count": 35,
     "metadata": {},
     "output_type": "execute_result"
    }
   ],
   "source": [
    "nltk.pos_tag"
   ]
  },
  {
   "cell_type": "markdown",
   "metadata": {},
   "source": [
    "# Chunking"
   ]
  },
  {
   "cell_type": "code",
   "execution_count": 58,
   "metadata": {
    "collapsed": true
   },
   "outputs": [],
   "source": [
    "def process_content():\n",
    "    try:\n",
    "        for i in tokenized:\n",
    "            words = nltk.word_tokenize(i)\n",
    "            tagged = nltk.pos_tag(words)\n",
    "            chunkGram = r\"\"\"chunk: {<RB,?>*<VB,?>*<NNP>+<NN>?}\"\"\"\n",
    "            chunkParser = nltk.RegexpParser(chunkGram)\n",
    "            chunked = chunkParser.parse(tagged)\n",
    "            chunked.draw()\n",
    "    except Exception as e:\n",
    "        print(str(e))"
   ]
  },
  {
   "cell_type": "code",
   "execution_count": null,
   "metadata": {},
   "outputs": [],
   "source": [
    "process_content()"
   ]
  },
  {
   "cell_type": "markdown",
   "metadata": {
    "collapsed": true
   },
   "source": [
    "# Chinking"
   ]
  },
  {
   "cell_type": "code",
   "execution_count": null,
   "metadata": {
    "collapsed": true
   },
   "outputs": [],
   "source": []
  },
  {
   "cell_type": "code",
   "execution_count": 54,
   "metadata": {
    "collapsed": true
   },
   "outputs": [],
   "source": [
    "def process_content():\n",
    "    try:\n",
    "        for i in tokenized:\n",
    "            words = nltk.word_tokenize(i)\n",
    "            tagged = nltk.pos_tag(words)\n",
    "            chunkGram = r\"\"\"chunk: {<.*>+}\n",
    "                                    }<VB.?|IN|DT>+{\"\"\"\n",
    "            chunkParser = nltk.RegexpParser(chunkGram)\n",
    "            chunked = chunkParser.parse(tagged)\n",
    "            chunked.draw()\n",
    "    except Exception as e:\n",
    "        print(str(e))"
   ]
  },
  {
   "cell_type": "code",
   "execution_count": null,
   "metadata": {},
   "outputs": [],
   "source": [
    "process_content()"
   ]
  },
  {
   "cell_type": "markdown",
   "metadata": {},
   "source": [
    "# Named Entity Recognition"
   ]
  },
  {
   "cell_type": "code",
   "execution_count": 1,
   "metadata": {},
   "outputs": [],
   "source": [
    "import nltk\n",
    "from nltk.corpus import state_union\n",
    "from nltk.tokenize import PunktSentenceTokenizer\n",
    "train_text = state_union.raw(\"2005-GWBush.txt\")\n",
    "sample_text = state_union.raw(\"2006-GWBush.txt\")"
   ]
  },
  {
   "cell_type": "code",
   "execution_count": 2,
   "metadata": {},
   "outputs": [
    {
     "name": "stdout",
     "output_type": "stream",
     "text": [
      "0.0402097902098 0.0735785953177 0.0383693045564 5720 299 230 22\n",
      "0.000174825174825 0.00334448160535 0.0 5720 299 1 1\n",
      "0.00437062937063 0.00334448160535 0.00442722744881 5720 299 25 1\n",
      "0.000699300699301 0.00334448160535 0.000553403431101 5720 299 4 1\n",
      "0.0013986013986 0.00334448160535 0.00129127467257 5720 299 8 1\n",
      "0.0171328671329 0.0401337792642 0.0158642316916 5720 299 98 12\n",
      "0.00122377622378 0.0066889632107 0.000922339051835 5720 299 7 2\n",
      "0.00384615384615 0.0066889632107 0.00368935620734 5720 299 22 2\n",
      "0.00157342657343 0.00334448160535 0.00147574248294 5720 299 9 1\n",
      "0.000874125874126 0.0066889632107 0.000553403431101 5720 299 5 2\n",
      "0.00314685314685 0.0133779264214 0.00258254934514 5720 299 18 4\n",
      "0.00244755244755 0.0066889632107 0.00221361372441 5720 299 14 2\n",
      "0.00192307692308 0.00334448160535 0.00184467810367 5720 299 11 1\n",
      "0.00157342657343 0.00334448160535 0.00147574248294 5720 299 9 1\n",
      "0.0138111888112 0.0200668896321 0.0134661501568 5720 299 79 6\n",
      "0.00034965034965 0.00334448160535 0.000184467810367 5720 299 2 1\n",
      "0.00227272727273 0.00334448160535 0.00221361372441 5720 299 13 1\n",
      "0.00122377622378 0.0167224080268 0.000368935620734 5720 299 7 5\n",
      "0.00244755244755 0.0167224080268 0.0016602102933 5720 299 14 5\n",
      "0.000174825174825 0.00334448160535 0.0 5720 299 1 1\n",
      "0.000874125874126 0.0066889632107 0.000553403431101 5720 299 5 2\n",
      "0.00996503496503 0.0066889632107 0.0101457295702 5720 299 57 2\n",
      "0.0013986013986 0.00334448160535 0.00129127467257 5720 299 8 1\n",
      "0.000174825174825 0.00334448160535 0.0 5720 299 1 1\n",
      "0.000874125874126 0.0066889632107 0.000553403431101 5720 299 5 2\n",
      "0.000174825174825 0.00334448160535 0.0 5720 299 1 1\n",
      "0.000524475524476 0.00334448160535 0.000368935620734 5720 299 3 1\n",
      "0.00034965034965 0.0066889632107 0.0 5720 299 2 2\n",
      "0.0295454545455 0.0066889632107 0.0308061243313 5720 299 169 2\n",
      "0.0131118881119 0.0100334448161 0.0132816823464 5720 299 75 3\n",
      "0.000174825174825 0.00334448160535 0.0 5720 299 1 1\n",
      "0.00437062937063 0.00334448160535 0.00442722744881 5720 299 25 1\n",
      "0.0162587412587 0.0802675585284 0.0127282789153 5720 299 93 24\n",
      "0.00034965034965 0.00334448160535 0.000184467810367 5720 299 2 1\n",
      "0.000174825174825 0.00334448160535 0.0 5720 299 1 1\n",
      "0.00244755244755 0.00334448160535 0.00239808153477 5720 299 14 1\n",
      "0.00157342657343 0.0066889632107 0.00129127467257 5720 299 9 2\n",
      "0.0013986013986 0.00334448160535 0.00129127467257 5720 299 8 1\n",
      "0.00314685314685 0.00334448160535 0.00313595277624 5720 299 18 1\n",
      "0.000524475524476 0.0066889632107 0.000184467810367 5720 299 3 2\n",
      "0.0034965034965 0.00334448160535 0.00350488839697 5720 299 20 1\n",
      "0.00611888111888 0.00334448160535 0.00627190555248 5720 299 35 1\n",
      "0.00524475524476 0.0066889632107 0.00516509869028 5720 299 30 2\n",
      "0.00104895104895 0.00334448160535 0.000922339051835 5720 299 6 1\n",
      "0.0155594405594 0.00334448160535 0.0162331673123 5720 299 89 1\n",
      "0.00227272727273 0.00334448160535 0.00221361372441 5720 299 13 1\n",
      "0.00297202797203 0.00334448160535 0.00295148496587 5720 299 17 1\n",
      "0.000699300699301 0.00334448160535 0.000553403431101 5720 299 4 1\n",
      "0.00594405594406 0.0267558528428 0.00479616306954 5720 299 34 8\n",
      "0.00034965034965 0.00334448160535 0.000184467810367 5720 299 2 1\n",
      "0.00262237762238 0.0100334448161 0.00221361372441 5720 299 15 3\n",
      "0.00104895104895 0.0133779264214 0.000368935620734 5720 299 6 4\n",
      "0.00314685314685 0.0066889632107 0.00295148496587 5720 299 18 2\n",
      "0.00104895104895 0.00334448160535 0.000922339051835 5720 299 6 1\n",
      "0.000174825174825 0.00334448160535 0.0 5720 299 1 1\n",
      "0.0449300699301 0.0434782608696 0.0450101457296 5720 299 257 13\n"
     ]
    }
   ],
   "source": [
    "custom_sent_tokenizer = PunktSentenceTokenizer(train_text)\n",
    "tokenized = custom_sent_tokenizer.tokenize(sample_text)"
   ]
  },
  {
   "cell_type": "code",
   "execution_count": null,
   "metadata": {},
   "outputs": [],
   "source": [
    "process_content()"
   ]
  },
  {
   "cell_type": "code",
   "execution_count": 3,
   "metadata": {},
   "outputs": [],
   "source": [
    "def process_content():\n",
    "    try:\n",
    "        for i in tokenized[5:]:\n",
    "            words= nltk.word_tokenize(i)\n",
    "            tagged = nltk.pos_tag(words)\n",
    "            namedEnt = nltk.ne_chunk(tagged)\n",
    "            namedEnt.draw()\n",
    "    except Exception as e:\n",
    "        print(str(e))"
   ]
  },
  {
   "cell_type": "code",
   "execution_count": 3,
   "metadata": {},
   "outputs": [],
   "source": [
    "def process_content():\n",
    "    try:\n",
    "        for i in tokenized[5:]:\n",
    "            words= nltk.word_tokenize(i)\n",
    "            tagged = nltk.pos_tag(words)\n",
    "            namedEnt = nltk.ne_chunk(tagged, binary=True)\n",
    "            namedEnt.draw()\n",
    "    except Exception as e:\n",
    "        print(str(e))"
   ]
  },
  {
   "cell_type": "code",
   "execution_count": 1,
   "metadata": {
    "collapsed": true
   },
   "outputs": [],
   "source": [
    "from nltk.stem import WordNetLemmatizerrdNetLemmatizer"
   ]
  },
  {
   "cell_type": "code",
   "execution_count": 2,
   "metadata": {
    "collapsed": true
   },
   "outputs": [],
   "source": [
    "lemmatizer = WordNetLemmatizer()"
   ]
  },
  {
   "cell_type": "code",
   "execution_count": 6,
   "metadata": {},
   "outputs": [
    {
     "data": {
      "text/plain": [
       "u'cat'"
      ]
     },
     "execution_count": 6,
     "metadata": {},
     "output_type": "execute_result"
    }
   ],
   "source": [
    "lemmatizer.lemmatize(\"cats\")"
   ]
  },
  {
   "cell_type": "code",
   "execution_count": 9,
   "metadata": {},
   "outputs": [
    {
     "name": "stdout",
     "output_type": "stream",
     "text": [
      "cact i\n",
      "goose\n",
      "rock\n",
      "python\n"
     ]
    }
   ],
   "source": [
    "print(lemmatizer.lemmatize(\"cact i\"))\n",
    "print(lemmatizer.lemmatize(\"geese\"))\n",
    "print(lemmatizer.lemmatize(\"rocks\"))\n",
    "print(lemmatizer.lemmatize(\"python\"))"
   ]
  },
  {
   "cell_type": "code",
   "execution_count": 11,
   "metadata": {},
   "outputs": [
    {
     "name": "stdout",
     "output_type": "stream",
     "text": [
      "good\n"
     ]
    }
   ],
   "source": [
    "print(lemmatizer.lemmatize(\"better\", pos=\"a\"))"
   ]
  },
  {
   "cell_type": "code",
   "execution_count": 12,
   "metadata": {},
   "outputs": [
    {
     "name": "stdout",
     "output_type": "stream",
     "text": [
      "good\n",
      "best\n",
      "run\n",
      "better\n"
     ]
    }
   ],
   "source": [
    "print(lemmatizer.lemmatize(\"better\", pos=\"a\"))\n",
    "print(lemmatizer.lemmatize(\"best\", pos=\"a\"))\n",
    "print(lemmatizer.lemmatize(\"run\"))\n",
    "print(lemmatizer.lemmatize(\"better\", pos=\"v\"))"
   ]
  },
  {
   "cell_type": "code",
   "execution_count": null,
   "metadata": {
    "collapsed": true
   },
   "outputs": [],
   "source": []
  },
  {
   "cell_type": "code",
   "execution_count": 5,
   "metadata": {},
   "outputs": [
    {
     "name": "stdout",
     "output_type": "stream",
     "text": [
      "[nltk_data] Downloading package wordnet to\n",
      "[nltk_data]     C:\\ProgramData\\Anaconda2\\nltk_data...\n",
      "[nltk_data]   Unzipping corpora\\wordnet.zip.\n"
     ]
    },
    {
     "data": {
      "text/plain": [
       "True"
      ]
     },
     "execution_count": 5,
     "metadata": {},
     "output_type": "execute_result"
    }
   ],
   "source": [
    "import nltk\n",
    "nltk.download(\"wordnet\")"
   ]
  },
  {
   "cell_type": "code",
   "execution_count": null,
   "metadata": {
    "collapsed": true
   },
   "outputs": [],
   "source": []
  }
 ],
 "metadata": {
  "kernelspec": {
   "display_name": "Python 3",
   "language": "python",
   "name": "python3"
  },
  "language_info": {
   "codemirror_mode": {
    "name": "ipython",
    "version": 3
   },
   "file_extension": ".py",
   "mimetype": "text/x-python",
   "name": "python",
   "nbconvert_exporter": "python",
   "pygments_lexer": "ipython3",
   "version": "3.8.3"
  }
 },
 "nbformat": 4,
 "nbformat_minor": 2
}
